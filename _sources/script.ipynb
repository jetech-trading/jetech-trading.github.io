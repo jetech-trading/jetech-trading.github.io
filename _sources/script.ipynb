{
 "cells": [
  {
   "cell_type": "code",
   "execution_count": 14,
   "metadata": {},
   "outputs": [],
   "source": [
    "!jupyter-book build ./\n",
    "\n",
    "!ghp-import -n -p -f _build/html"
   ]
  },
  {
   "cell_type": "code",
   "execution_count": 9,
   "metadata": {},
   "outputs": [
    {
     "name": "stderr",
     "output_type": "stream",
     "text": [
      "warning: in the working copy of 'script.ipynb', LF will be replaced by CRLF the next time Git touches it\n"
     ]
    },
    {
     "name": "stdout",
     "output_type": "stream",
     "text": [
      "[main 09b467c] update from windows\n",
      " 1 file changed, 167 insertions(+), 2 deletions(-)\n"
     ]
    },
    {
     "name": "stderr",
     "output_type": "stream",
     "text": [
      "remote: Permission to jetech-trading/jetech-trading.github.io.git denied to wijehyeon.\n",
      "fatal: unable to access 'https://github.com/jetech-trading/jetech-trading.github.io.git/': The requested URL returned error: 403\n"
     ]
    }
   ],
   "source": [
    "# !git config --global user.email 'xile803@likelion.org'\n",
    "# !git config user.email 'xile803@likelion.org'\n",
    "# !git config --global user.name 'jetech-trading'\n",
    "# !git config user.name 'jetech-trading'\n",
    "# !git add .\n",
    "# !git commit -m \"update from windows\"\n",
    "# !git push -u origin main"
   ]
  }
 ],
 "metadata": {
  "kernelspec": {
   "display_name": "tf",
   "language": "python",
   "name": "python3"
  },
  "language_info": {
   "codemirror_mode": {
    "name": "ipython",
    "version": 3
   },
   "file_extension": ".py",
   "mimetype": "text/x-python",
   "name": "python",
   "nbconvert_exporter": "python",
   "pygments_lexer": "ipython3",
   "version": "3.9.16"
  },
  "orig_nbformat": 4
 },
 "nbformat": 4,
 "nbformat_minor": 2
}
