{
 "cells": [
  {
   "cell_type": "code",
   "execution_count": 6,
   "metadata": {
    "ExecuteTime": {
     "end_time": "2023-06-06T15:19:26.079085Z",
     "start_time": "2023-06-06T15:18:48.507459Z"
    }
   },
   "outputs": [
    {
     "name": "stdout",
     "output_type": "stream",
     "text": [
      "\u001B[32m\u001B[1mRunning Jupyter-Book v0.15.1\u001B[0m\r\n",
      "\u001B[34m\u001B[1mSource Folder: \u001B[0m/Users/wijehyeon/workspace/jetech-trading.github.io\r\n",
      "\u001B[34m\u001B[1mConfig Path: \u001B[0m/Users/wijehyeon/workspace/jetech-trading.github.io/_config.yml\r\n",
      "\u001B[34m\u001B[1mOutput Path: \u001B[0m/Users/wijehyeon/workspace/jetech-trading.github.io/_build/html\r\n",
      "\u001B[01mRunning Sphinx v5.0.2\u001B[39;49;00m\r\n",
      "[etoc] Changing master_doc to 'intro'\r\n",
      "\u001B[01mloading pickled environment... \u001B[39;49;00mdone\r\n",
      "\u001B[01mmyst v0.18.1:\u001B[39;49;00m MdParserConfig(commonmark_only=False, gfm_only=False, enable_extensions=['colon_fence', 'dollarmath', 'linkify', 'substitution', 'tasklist'], disable_syntax=[], all_links_external=False, url_schemes=['mailto', 'http', 'https'], ref_domains=None, highlight_code_blocks=True, number_code_blocks=[], title_to_header=False, heading_anchors=None, heading_slug_func=None, footnote_transition=True, words_per_minute=200, sub_delimiters=('{', '}'), linkify_fuzzy_links=True, dmath_allow_labels=True, dmath_allow_space=True, dmath_allow_digits=True, dmath_double_inline=False, update_mathjax=True, mathjax_classes='tex2jax_process|mathjax_process|math|output_area')\r\n",
      "\u001B[01mmyst-nb v0.17.2:\u001B[39;49;00m NbParserConfig(custom_formats={}, metadata_key='mystnb', cell_metadata_key='mystnb', kernel_rgx_aliases={}, execution_mode='force', execution_cache_path='', execution_excludepatterns=[], execution_timeout=30, execution_in_temp=False, execution_allow_errors=False, execution_raise_on_error=False, execution_show_tb=False, merge_streams=False, render_plugin='default', remove_code_source=False, remove_code_outputs=False, code_prompt_show='Show code cell {type}', code_prompt_hide='Hide code cell {type}', number_source_lines=False, output_stderr='show', render_text_lexer='myst-ansi', render_error_lexer='ipythontb', render_image_options={}, render_figure_options={}, render_markdown_format='commonmark', output_folder='build', append_css=True, metadata_to_fm=False)\r\n",
      "Using jupyter-cache at: /Users/wijehyeon/workspace/jetech-trading.github.io/_build/.jupyter_cache\r\n",
      "\u001B[01mbuilding [mo]: \u001B[39;49;00mtargets for 0 po files that are out of date\r\n",
      "\u001B[01mbuilding [html]: \u001B[39;49;00mtargets for 9 source files that are out of date\r\n",
      "\u001B[01mupdating environment: \u001B[39;49;00m0 added, 3 changed, 0 removed\r\n",
      "/Users/wijehyeon/workspace/jetech-trading.github.io/script.ipynb: Executing notebook using local CWD [mystnb]   \r\n",
      "/Users/wijehyeon/workspace/jetech-trading.github.io/stock/20230606.ipynb: Executing notebook using local CWD [mystnb]\r\n",
      "/Users/wijehyeon/workspace/jetech-trading.github.io/stock/20230606.ipynb: Executed notebook in 2.81 seconds [mystnb]\r\n",
      "\r\n",
      "\u001B[91m/Users/wijehyeon/workspace/jetech-trading.github.io/intro.md:: WARNING: toctree contains reference to nonexisting document 'research/research' [etoc.ref]\u001B[39;49;00m\r\n",
      "\u001B[91m/Users/wijehyeon/workspace/jetech-trading.github.io/script.ipynb: WARNING: Executing notebook failed: CellTimeoutError [mystnb.exec]\u001B[39;49;00m\r\n",
      "\u001B[91m/Users/wijehyeon/workspace/jetech-trading.github.io/script.ipynb: WARNING: Notebook exception traceback saved in: /Users/wijehyeon/workspace/jetech-trading.github.io/_build/html/reports/script.err.log [mystnb.exec]\u001B[39;49;00m\r\n",
      "\u001B[91m/Users/wijehyeon/workspace/jetech-trading.github.io/stock/20230606.ipynb:100002: WARNING: skipping unknown output mime type: application/vnd.plotly.v1+json [mystnb.unknown_mime_type]\u001B[39;49;00m\r\n",
      "\u001B[91m/Users/wijehyeon/workspace/jetech-trading.github.io/stock/20230606.ipynb:120002: WARNING: skipping unknown output mime type: application/vnd.plotly.v1+json [mystnb.unknown_mime_type]\u001B[39;49;00m\r\n",
      "\u001B[01mlooking for now-outdated files... \u001B[39;49;00mnone found\r\n",
      "\u001B[01mpickling environment... \u001B[39;49;00mdone\r\n",
      "\u001B[01mchecking consistency... \u001B[39;49;00m\u001B[91m/Users/wijehyeon/workspace/jetech-trading.github.io/markdown.md: WARNING: document isn't included in any toctree\u001B[39;49;00m\r\n",
      "\u001B[91m/Users/wijehyeon/workspace/jetech-trading.github.io/research/Untitled.ipynb: WARNING: document isn't included in any toctree\u001B[39;49;00m\r\n",
      "\u001B[91m/Users/wijehyeon/workspace/jetech-trading.github.io/script.ipynb: WARNING: document isn't included in any toctree\u001B[39;49;00m\r\n",
      "done\r\n",
      "\u001B[01mpreparing documents... \u001B[39;49;00mdone\r\n",
      "\u001B[01mwriting output... \u001B[39;49;00m[100%] \u001B[32mstock/stock\u001B[39;49;00m                                            \r\n",
      "\u001B[01mgenerating indices... \u001B[39;49;00mgenindex done\r\n",
      "\u001B[01mwriting additional pages... \u001B[39;49;00msearch done\r\n",
      "\u001B[01mcopying static files... \u001B[39;49;00mdone\r\n",
      "\u001B[01mcopying extra files... \u001B[39;49;00mdone\r\n",
      "\u001B[01mdumping search index in English (code: en)... \u001B[39;49;00mdone\r\n",
      "\u001B[01mdumping object inventory... \u001B[39;49;00mdone\r\n",
      "\u001B[01mbuild succeeded, 8 warnings.\u001B[39;49;00m\r\n",
      "\r\n",
      "The HTML pages are in _build/html.\r\n",
      "\r\n",
      "\u001B[92m===============================================================================\u001B[0m\r\n",
      "\r\n",
      "Finished generating HTML for book.\r\n",
      "Your book's HTML pages are here:\r\n",
      "    _build/html/\r\n",
      "You can look at your book by opening this file in a browser:\r\n",
      "    _build/html/index.html\r\n",
      "Or paste this line directly into your browser bar:\r\n",
      "    file:///Users/wijehyeon/workspace/jetech-trading.github.io/_build/html/index.html            \r\n",
      "\r\n",
      "\u001B[92m===============================================================================\u001B[0m\r\n",
      "\r\n"
     ]
    }
   ],
   "source": [
    "!jupyter-book build ./\n"
   ]
  },
  {
   "cell_type": "code",
   "execution_count": 21,
   "metadata": {},
   "outputs": [
    {
     "name": "stdout",
     "output_type": "stream",
     "text": [
      "remote: Permission to jetech-trading/jetech-trading.github.io.git denied to wijehyeon.\r\n",
      "fatal: unable to access 'https://github.com/jetech-trading/jetech-trading.github.io.git/': The requested URL returned error: 403\r\n",
      "Traceback (most recent call last):\r\n",
      "  File \"/Users/wijehyeon/opt/anaconda3/envs/py39/bin/./ghp-import\", line 8, in <module>\r\n",
      "    sys.exit(main())\r\n",
      "  File \"/Users/wijehyeon/opt/anaconda3/envs/py39/lib/python3.9/site-packages/ghp_import.py\", line 300, in main\r\n",
      "    ghp_import(args.pop(\"directory\"), **args)\r\n",
      "  File \"/Users/wijehyeon/opt/anaconda3/envs/py39/lib/python3.9/site-packages/ghp_import.py\", line 283, in ghp_import\r\n",
      "    git.check_call('push', opts['remote'], opts['branch'], '--force')\r\n",
      "  File \"/Users/wijehyeon/opt/anaconda3/envs/py39/lib/python3.9/site-packages/ghp_import.py\", line 119, in check_call\r\n",
      "    sp.check_call(['git'] + list(args), **kwargs)\r\n",
      "  File \"/Users/wijehyeon/opt/anaconda3/envs/py39/lib/python3.9/subprocess.py\", line 373, in check_call\r\n",
      "    raise CalledProcessError(retcode, cmd)\r\n",
      "subprocess.CalledProcessError: Command '['git', 'push', 'origin', 'gh-pages', '--force']' returned non-zero exit status 128.\r\n"
     ]
    }
   ],
   "source": [
    "!ghp-import -n -p -f _build/html"
   ]
  },
  {
   "cell_type": "code",
   "execution_count": 11,
   "metadata": {
    "ExecuteTime": {
     "end_time": "2023-06-06T15:23:54.814461Z",
     "start_time": "2023-06-06T15:23:53.368985Z"
    }
   },
   "outputs": [
    {
     "name": "stdout",
     "output_type": "stream",
     "text": [
      "[main afa8e10] update from windows\r\n",
      " 1 file changed, 43 insertions(+), 53 deletions(-)\r\n",
      "remote: Permission to jetech-trading/jetech-trading.github.io.git denied to wijehyeon.\r\n",
      "fatal: unable to access 'https://github.com/jetech-trading/jetech-trading.github.io.git/': The requested URL returned error: 403\r\n"
     ]
    }
   ],
   "source": [
    "\n",
    "!git config user.email 'xile803@likelion.org'\n",
    "!git config user.name 'jetech-trading'\n",
    "!git add .\n",
    "!git commit -m \"update from windows\"\n",
    "!git push -u origin main"
   ]
  },
  {
   "cell_type": "code",
   "execution_count": 14,
   "metadata": {
    "ExecuteTime": {
     "end_time": "2023-06-06T15:24:20.601443Z",
     "start_time": "2023-06-06T15:24:20.447076Z"
    }
   },
   "outputs": [
    {
     "name": "stdout",
     "output_type": "stream",
     "text": [
      "jetech-trading\r\n"
     ]
    }
   ],
   "source": [
    "!git config user.name"
   ]
  },
  {
   "cell_type": "code",
   "execution_count": 15,
   "outputs": [
    {
     "name": "stdout",
     "output_type": "stream",
     "text": [
      "wpgus1995!\r\n"
     ]
    }
   ],
   "source": [
    "!git config user.password"
   ],
   "metadata": {
    "collapsed": false,
    "ExecuteTime": {
     "end_time": "2023-06-06T15:24:25.607288Z",
     "start_time": "2023-06-06T15:24:25.451632Z"
    }
   }
  },
  {
   "cell_type": "code",
   "execution_count": null,
   "outputs": [],
   "source": [],
   "metadata": {
    "collapsed": false
   }
  }
 ],
 "metadata": {
  "kernelspec": {
   "display_name": "tf",
   "language": "python",
   "name": "python3"
  },
  "language_info": {
   "codemirror_mode": {
    "name": "ipython",
    "version": 3
   },
   "file_extension": ".py",
   "mimetype": "text/x-python",
   "name": "python",
   "nbconvert_exporter": "python",
   "pygments_lexer": "ipython3",
   "version": "3.9.16"
  },
  "orig_nbformat": 4
 },
 "nbformat": 4,
 "nbformat_minor": 2
}
