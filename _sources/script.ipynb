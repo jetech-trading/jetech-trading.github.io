{
 "cells": [
  {
   "cell_type": "code",
   "execution_count": 4,
   "metadata": {},
   "outputs": [],
   "source": [
    "!jupyter-book build ./\n",
    "\n",
    "!ghp-import -n -p -f _build/html"
   ]
  },
  {
   "cell_type": "code",
   "execution_count": null,
   "metadata": {},
   "outputs": [
    {
     "name": "stderr",
     "output_type": "stream",
     "text": [
      "warning: in the working copy of '_build/html/_sources/script.ipynb', LF will be replaced by CRLF the next time Git touches it\n",
      "warning: in the working copy of '_build/jupyter_execute/markdown-notebooks.ipynb', LF will be replaced by CRLF the next time Git touches it\n",
      "warning: in the working copy of '_build/jupyter_execute/notebooks.ipynb', LF will be replaced by CRLF the next time Git touches it\n",
      "warning: in the working copy of '_build/jupyter_execute/research/Untitled.ipynb', LF will be replaced by CRLF the next time Git touches it\n",
      "warning: in the working copy of '_build/jupyter_execute/script.ipynb', LF will be replaced by CRLF the next time Git touches it\n",
      "warning: in the working copy of 'script.ipynb', LF will be replaced by CRLF the next time Git touches it\n"
     ]
    },
    {
     "name": "stdout",
     "output_type": "stream",
     "text": [
      "[main 4ffdcd0] update from windows\n",
      " 33 files changed, 1167 insertions(+), 791 deletions(-)\n",
      " create mode 100644 _build/.doctrees/crypto/crypto.doctree\n",
      " create mode 100644 _build/.doctrees/stock/stock.doctree\n",
      " create mode 100644 _build/html/_sources/crypto/crypto.md\n",
      " create mode 100644 _build/html/_sources/stock/stock.md\n",
      " create mode 100644 _build/html/crypto/crypto.html\n",
      " create mode 100644 _build/html/stock/stock.html\n",
      " create mode 100644 crypto/crypto.md\n",
      " create mode 100644 stock/stock.md\n"
     ]
    },
    {
     "name": "stderr",
     "output_type": "stream",
     "text": [
      "[sphinxcontrib-bibtex] Beware that docutils versions 0.18 and 0.19 (you are running 0.18.1) are known to generate invalid html for citations. If this issue affects you, please use docutils<0.18 (or >=0.20 once released) instead. For more details, see https://sourceforge.net/p/docutils/patches/195/\n",
      "C:\\Users\\User\\anaconda3\\envs\\tf\\lib\\site-packages\\zmq\\_future.py:681: RuntimeWarning: Proactor event loop does not implement add_reader family of methods required for zmq. Registering an additional selector thread for add_reader support via tornado. Use `asyncio.set_event_loop_policy(WindowsSelectorEventLoopPolicy())` to avoid this warning.\n",
      "  self._get_loop()\n",
      "\u001b[91mc:\\workspace\\jetech-trading.github.io\\intro.md:: WARNING: toctree contains reference to nonexisting document 'research/research' [etoc.ref]\u001b[39;49;00m\n",
      "\u001b[91mc:\\workspace\\jetech-trading.github.io\\script.ipynb: WARNING: Executing notebook failed: CellTimeoutError [mystnb.exec]\u001b[39;49;00m\n",
      "\u001b[91mc:\\workspace\\jetech-trading.github.io\\script.ipynb: WARNING: Notebook exception traceback saved in: c:\\workspace\\jetech-trading.github.io\\_build\\html\\reports\\script.err.log [mystnb.exec]\u001b[39;49;00m\n",
      "\u001b[91mc:\\workspace\\jetech-trading.github.io\\research\\Untitled.ipynb: WARNING: document isn't included in any toctree\u001b[39;49;00m\n",
      "\u001b[91mc:\\workspace\\jetech-trading.github.io\\script.ipynb: WARNING: document isn't included in any toctree\u001b[39;49;00m\n"
     ]
    },
    {
     "name": "stdout",
     "output_type": "stream",
     "text": [
      "Running Jupyter-Book v0.15.1\n",
      "Source Folder: c:\\workspace\\jetech-trading.github.io\n",
      "Config Path: c:\\workspace\\jetech-trading.github.io\\_config.yml\n",
      "Output Path: c:\\workspace\\jetech-trading.github.io\\_build\\html\n",
      "\u001b[01mRunning Sphinx v5.0.2\u001b[39;49;00m\n",
      "[etoc] Changing master_doc to 'intro'\n",
      "\u001b[01mloading pickled environment... \u001b[39;49;00mchecking bibtex cache... up to date\n",
      "done\n",
      "\u001b[01mmyst v0.18.1:\u001b[39;49;00m MdParserConfig(commonmark_only=False, gfm_only=False, enable_extensions=['colon_fence', 'dollarmath', 'linkify', 'substitution', 'tasklist'], disable_syntax=[], all_links_external=False, url_schemes=['mailto', 'http', 'https'], ref_domains=None, highlight_code_blocks=True, number_code_blocks=[], title_to_header=False, heading_anchors=None, heading_slug_func=None, footnote_transition=True, words_per_minute=200, sub_delimiters=('{', '}'), linkify_fuzzy_links=True, dmath_allow_labels=True, dmath_allow_space=True, dmath_allow_digits=True, dmath_double_inline=False, update_mathjax=True, mathjax_classes='tex2jax_process|mathjax_process|math|output_area')\n",
      "\u001b[01mmyst-nb v0.17.2:\u001b[39;49;00m NbParserConfig(custom_formats={}, metadata_key='mystnb', cell_metadata_key='mystnb', kernel_rgx_aliases={}, execution_mode='force', execution_cache_path='', execution_excludepatterns=[], execution_timeout=30, execution_in_temp=False, execution_allow_errors=False, execution_raise_on_error=False, execution_show_tb=False, merge_streams=False, render_plugin='default', remove_code_source=False, remove_code_outputs=False, code_prompt_show='Show code cell {type}', code_prompt_hide='Hide code cell {type}', number_source_lines=False, output_stderr='show', render_text_lexer='myst-ansi', render_error_lexer='ipythontb', render_image_options={}, render_figure_options={}, render_markdown_format='commonmark', output_folder='build', append_css=True, metadata_to_fm=False)\n",
      "Using jupyter-cache at: C:\\workspace\\jetech-trading.github.io\\_build\\.jupyter_cache\n",
      "\u001b[01mbuilding [mo]: \u001b[39;49;00mtargets for 0 po files that are out of date\n",
      "\u001b[01mbuilding [html]: \u001b[39;49;00mtargets for 1 source files that are out of date\n",
      "\u001b[01mupdating environment: \u001b[39;49;00m0 added, 2 changed, 0 removed\n",
      "\u001b[01mreading sources... \u001b[39;49;00m[ 50%] \u001b[35mintro\u001b[39;49;00m                                                \n",
      "\u001b[01mreading sources... \u001b[39;49;00m[100%] \u001b[35mscript\u001b[39;49;00m                                               \n",
      "c:\\workspace\\jetech-trading.github.io\\script.ipynb: Executing notebook using local CWD [mystnb]\n",
      "\n",
      "\u001b[01mlooking for now-outdated files... \u001b[39;49;00mnone found\n",
      "\u001b[01mpickling environment... \u001b[39;49;00mdone\n",
      "\u001b[01mchecking consistency... \u001b[39;49;00mdone\n",
      "\u001b[01mpreparing documents... \u001b[39;49;00mdone\n",
      "\u001b[01mwriting output... \u001b[39;49;00m[ 50%] \u001b[32mintro\u001b[39;49;00m                                                 \n",
      "\u001b[01mwriting output... \u001b[39;49;00m[100%] \u001b[32mscript\u001b[39;49;00m                                                \n",
      "\n",
      "\u001b[01mgenerating indices... \u001b[39;49;00mgenindex done\n",
      "\u001b[01mwriting additional pages... \u001b[39;49;00msearch done\n",
      "\u001b[01mcopying static files... \u001b[39;49;00mdone\n",
      "\u001b[01mcopying extra files... \u001b[39;49;00mdone\n",
      "\u001b[01mdumping search index in English (code: en)... \u001b[39;49;00mdone\n",
      "\u001b[01mdumping object inventory... \u001b[39;49;00mdone\n",
      "\u001b[01mbuild succeeded, 5 warnings.\u001b[39;49;00m\n",
      "\n",
      "The HTML pages are in _build\\html.\n",
      "\n",
      "\u001b[92m===============================================================================\u001b[0m\n",
      "\n",
      "Finished generating HTML for book.\n",
      "Your book's HTML pages are here:\n",
      "    _build\\html\\\n",
      "You can look at your book by opening this file in a browser:\n",
      "    _build\\html\\index.html\n",
      "Or paste this line directly into your browser bar:\n",
      "    file://C:\\workspace\\jetech-trading.github.io\\_build\\html\\index.html            \n",
      "\n",
      "\u001b[92m===============================================================================\u001b[0m\n",
      "\n"
     ]
    },
    {
     "name": "stderr",
     "output_type": "stream",
     "text": [
      "remote: Resolving deltas:   0% (0/26)        \n",
      "remote: Resolving deltas:   3% (1/26)        \n",
      "remote: Resolving deltas:   7% (2/26)        \n",
      "remote: Resolving deltas:  11% (3/26)        \n",
      "remote: Resolving deltas:  15% (4/26)        \n",
      "remote: Resolving deltas:  19% (5/26)        \n",
      "remote: Resolving deltas:  23% (6/26)        \n",
      "remote: Resolving deltas:  26% (7/26)        \n",
      "remote: Resolving deltas:  30% (8/26)        \n",
      "remote: Resolving deltas:  34% (9/26)        \n",
      "remote: Resolving deltas:  38% (10/26)        \n",
      "remote: Resolving deltas:  42% (11/26)        \n",
      "remote: Resolving deltas:  46% (12/26)        \n",
      "remote: Resolving deltas:  50% (13/26)        \n",
      "remote: Resolving deltas:  53% (14/26)        \n",
      "remote: Resolving deltas:  57% (15/26)        \n",
      "remote: Resolving deltas:  61% (16/26)        \n",
      "remote: Resolving deltas:  65% (17/26)        \n",
      "remote: Resolving deltas:  69% (18/26)        \n",
      "remote: Resolving deltas:  73% (19/26)        \n",
      "remote: Resolving deltas:  76% (20/26)        \n",
      "remote: Resolving deltas:  80% (21/26)        \n",
      "remote: Resolving deltas:  84% (22/26)        \n",
      "remote: Resolving deltas:  88% (23/26)        \n",
      "remote: Resolving deltas:  92% (24/26)        \n",
      "remote: Resolving deltas:  96% (25/26)        \n",
      "remote: Resolving deltas: 100% (26/26)        \n",
      "remote: Resolving deltas: 100% (26/26), completed with 21 local objects.        \n",
      "remote: error: GH006: Protected branch update failed for refs/heads/main.        \n",
      "remote: error: At least 1 approving review is required by reviewers with write access.        \n",
      "To https://github.com/jetech-trading/jetech-trading.github.io.git\n",
      " ! [remote rejected] main -> main (protected branch hook declined)\n",
      "error: failed to push some refs to 'https://github.com/jetech-trading/jetech-trading.github.io.git'\n"
     ]
    }
   ],
   "source": [
    "!git config --global user.email 'xile803@likelion.org'\n",
    "!git config user.email 'xile803@likelion.org'\n",
    "!git config --global user.name 'jetech-trading'\n",
    "!git config user.name 'jetech-trading'\n",
    "!git add .\n",
    "!git commit -m \"update from windows\"\n",
    "!git push -u origin main"
   ]
  }
 ],
 "metadata": {
  "kernelspec": {
   "display_name": "tf",
   "language": "python",
   "name": "python3"
  },
  "language_info": {
   "codemirror_mode": {
    "name": "ipython",
    "version": 3
   },
   "file_extension": ".py",
   "mimetype": "text/x-python",
   "name": "python",
   "nbconvert_exporter": "python",
   "pygments_lexer": "ipython3",
   "version": "3.9.16"
  },
  "orig_nbformat": 4
 },
 "nbformat": 4,
 "nbformat_minor": 2
}
