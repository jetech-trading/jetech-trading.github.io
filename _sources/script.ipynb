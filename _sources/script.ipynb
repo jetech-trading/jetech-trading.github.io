{
 "cells": [
  {
   "cell_type": "code",
   "execution_count": null,
   "metadata": {
    "is_executing": true,
    "ExecuteTime": {
     "start_time": "2023-06-06T15:18:48.507459Z"
    }
   },
   "outputs": [
    {
     "name": "stdout",
     "output_type": "stream",
     "text": [
      "\u001B[32m\u001B[1mRunning Jupyter-Book v0.15.1\u001B[0m\r\n",
      "\u001B[34m\u001B[1mSource Folder: \u001B[0m/Users/wijehyeon/workspace/jetech-trading.github.io\r\n",
      "\u001B[34m\u001B[1mConfig Path: \u001B[0m/Users/wijehyeon/workspace/jetech-trading.github.io/_config.yml\r\n",
      "\u001B[34m\u001B[1mOutput Path: \u001B[0m/Users/wijehyeon/workspace/jetech-trading.github.io/_build/html\r\n",
      "\u001B[01mRunning Sphinx v5.0.2\u001B[39;49;00m\r\n",
      "[etoc] Changing master_doc to 'intro'\r\n",
      "\u001B[01mloading pickled environment... \u001B[39;49;00mdone\r\n",
      "\u001B[01mmyst v0.18.1:\u001B[39;49;00m MdParserConfig(commonmark_only=False, gfm_only=False, enable_extensions=['colon_fence', 'dollarmath', 'linkify', 'substitution', 'tasklist'], disable_syntax=[], all_links_external=False, url_schemes=['mailto', 'http', 'https'], ref_domains=None, highlight_code_blocks=True, number_code_blocks=[], title_to_header=False, heading_anchors=None, heading_slug_func=None, footnote_transition=True, words_per_minute=200, sub_delimiters=('{', '}'), linkify_fuzzy_links=True, dmath_allow_labels=True, dmath_allow_space=True, dmath_allow_digits=True, dmath_double_inline=False, update_mathjax=True, mathjax_classes='tex2jax_process|mathjax_process|math|output_area')\r\n",
      "\u001B[01mmyst-nb v0.17.2:\u001B[39;49;00m NbParserConfig(custom_formats={}, metadata_key='mystnb', cell_metadata_key='mystnb', kernel_rgx_aliases={}, execution_mode='force', execution_cache_path='', execution_excludepatterns=[], execution_timeout=30, execution_in_temp=False, execution_allow_errors=False, execution_raise_on_error=False, execution_show_tb=False, merge_streams=False, render_plugin='default', remove_code_source=False, remove_code_outputs=False, code_prompt_show='Show code cell {type}', code_prompt_hide='Hide code cell {type}', number_source_lines=False, output_stderr='show', render_text_lexer='myst-ansi', render_error_lexer='ipythontb', render_image_options={}, render_figure_options={}, render_markdown_format='commonmark', output_folder='build', append_css=True, metadata_to_fm=False)\r\n",
      "Using jupyter-cache at: /Users/wijehyeon/workspace/jetech-trading.github.io/_build/.jupyter_cache\r\n",
      "\u001B[01mbuilding [mo]: \u001B[39;49;00mtargets for 0 po files that are out of date\r\n",
      "\u001B[01mbuilding [html]: \u001B[39;49;00mtargets for 9 source files that are out of date\r\n",
      "\u001B[01mupdating environment: \u001B[39;49;00m0 added, 3 changed, 0 removed\r\n",
      "/Users/wijehyeon/workspace/jetech-trading.github.io/script.ipynb: Executing notebook using local CWD [mystnb]   \r\n"
     ]
    }
   ],
   "source": [
    "!jupyter-book build ./\n"
   ]
  },
  {
   "cell_type": "code",
   "execution_count": null,
<<<<<<< HEAD
   "metadata": {},
=======
   "metadata": {
    "is_executing": true
   },
>>>>>>> c6f243b4f43ed70bc521150ebcddfd5a9201eaf0
   "outputs": [],
   "source": [
    "\n",
    "!ghp-import -n -p -f _build/html"
   ]
  },
  {
   "cell_type": "code",
   "execution_count": 9,
   "metadata": {},
   "outputs": [
    {
     "name": "stderr",
     "output_type": "stream",
     "text": [
<<<<<<< HEAD
=======
      "warning: in the working copy of '_build/html/_sources/script.ipynb', LF will be replaced by CRLF the next time Git touches it\n",
      "warning: in the working copy of '_build/jupyter_execute/script.ipynb', LF will be replaced by CRLF the next time Git touches it\n",
>>>>>>> c6f243b4f43ed70bc521150ebcddfd5a9201eaf0
      "warning: in the working copy of 'script.ipynb', LF will be replaced by CRLF the next time Git touches it\n"
     ]
    },
    {
     "name": "stdout",
     "output_type": "stream",
     "text": [
<<<<<<< HEAD
      "[main 09b467c] update from windows\n",
      " 1 file changed, 167 insertions(+), 2 deletions(-)\n"
=======
      "[main bda4b39] update from windows\n",
      " 20 files changed, 359 insertions(+), 512 deletions(-)\n",
      "branch 'main' set up to track 'origin/main'.\n"
>>>>>>> c6f243b4f43ed70bc521150ebcddfd5a9201eaf0
     ]
    },
    {
     "name": "stderr",
     "output_type": "stream",
     "text": [
<<<<<<< HEAD
      "remote: Permission to jetech-trading/jetech-trading.github.io.git denied to wijehyeon.\n",
      "fatal: unable to access 'https://github.com/jetech-trading/jetech-trading.github.io.git/': The requested URL returned error: 403\n"
=======
      "remote: Resolving deltas:   0% (0/23)        \n",
      "remote: Resolving deltas:   4% (1/23)        \n",
      "remote: Resolving deltas:   8% (2/23)        \n",
      "remote: Resolving deltas:  13% (3/23)        \n",
      "remote: Resolving deltas:  17% (4/23)        \n",
      "remote: Resolving deltas:  21% (5/23)        \n",
      "remote: Resolving deltas:  26% (6/23)        \n",
      "remote: Resolving deltas:  30% (7/23)        \n",
      "remote: Resolving deltas:  34% (8/23)        \n",
      "remote: Resolving deltas:  39% (9/23)        \n",
      "remote: Resolving deltas:  43% (10/23)        \n",
      "remote: Resolving deltas:  47% (11/23)        \n",
      "remote: Resolving deltas:  52% (12/23)        \n",
      "remote: Resolving deltas:  56% (13/23)        \n",
      "remote: Resolving deltas:  60% (14/23)        \n",
      "remote: Resolving deltas:  65% (15/23)        \n",
      "remote: Resolving deltas:  69% (16/23)        \n",
      "remote: Resolving deltas:  73% (17/23)        \n",
      "remote: Resolving deltas:  78% (18/23)        \n",
      "remote: Resolving deltas:  82% (19/23)        \n",
      "remote: Resolving deltas:  86% (20/23)        \n",
      "remote: Resolving deltas:  91% (21/23)        \n",
      "remote: Resolving deltas:  95% (22/23)        \n",
      "remote: Resolving deltas: 100% (23/23)        \n",
      "remote: Resolving deltas: 100% (23/23), completed with 22 local objects.        \n",
      "To https://github.com/jetech-trading/jetech-trading.github.io.git\n",
      "   746e86d..bda4b39  main -> main\n"
>>>>>>> c6f243b4f43ed70bc521150ebcddfd5a9201eaf0
     ]
    }
   ],
   "source": [
    "!git config --global user.email 'xile803@likelion.org'\n",
    "!git config user.email 'xile803@likelion.org'\n",
    "!git config --global user.name 'jetech-trading'\n",
    "!git config user.name 'jetech-trading'\n",
    "!git add .\n",
    "!git commit -m \"update from windows\"\n",
<<<<<<< HEAD
    "!git push -u origin main\n",
    "!ghp-import -n -p -f _build/html"
   ]
=======
    "!git push -u origin main"
   ]
  },
  {
   "cell_type": "code",
   "execution_count": null,
   "metadata": {},
   "outputs": [],
   "source": []
>>>>>>> c6f243b4f43ed70bc521150ebcddfd5a9201eaf0
  }
 ],
 "metadata": {
  "kernelspec": {
   "display_name": "tf",
   "language": "python",
   "name": "python3"
  },
  "language_info": {
   "codemirror_mode": {
    "name": "ipython",
    "version": 3
   },
   "file_extension": ".py",
   "mimetype": "text/x-python",
   "name": "python",
   "nbconvert_exporter": "python",
   "pygments_lexer": "ipython3",
   "version": "3.9.16"
  },
  "orig_nbformat": 4
 },
 "nbformat": 4,
 "nbformat_minor": 2
}
