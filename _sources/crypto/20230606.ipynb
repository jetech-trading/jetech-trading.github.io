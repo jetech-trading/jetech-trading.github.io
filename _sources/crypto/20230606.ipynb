{
 "cells": [
  {
   "attachments": {},
   "cell_type": "markdown",
   "metadata": {},
   "source": [
    "# 2023.06.06 market test"
   ]
  },
  {
   "cell_type": "code",
   "execution_count": 3,
   "metadata": {},
   "outputs": [],
   "source": [
    "import pandas as pd\n",
    "import numpy as np\n",
    "\n",
    "df = pd.DataFrame(np.random.randn(10, 4), columns=list('ABCD'))"
   ]
  },
  {
   "cell_type": "code",
   "execution_count": 4,
   "metadata": {},
   "outputs": [
    {
     "data": {
      "text/html": [
       "<div>\n",
       "<style scoped>\n",
       "    .dataframe tbody tr th:only-of-type {\n",
       "        vertical-align: middle;\n",
       "    }\n",
       "\n",
       "    .dataframe tbody tr th {\n",
       "        vertical-align: top;\n",
       "    }\n",
       "\n",
       "    .dataframe thead th {\n",
       "        text-align: right;\n",
       "    }\n",
       "</style>\n",
       "<table border=\"1\" class=\"dataframe\">\n",
       "  <thead>\n",
       "    <tr style=\"text-align: right;\">\n",
       "      <th></th>\n",
       "      <th>A</th>\n",
       "      <th>B</th>\n",
       "      <th>C</th>\n",
       "      <th>D</th>\n",
       "    </tr>\n",
       "  </thead>\n",
       "  <tbody>\n",
       "    <tr>\n",
       "      <th>0</th>\n",
       "      <td>-1.468762</td>\n",
       "      <td>-2.635111</td>\n",
       "      <td>0.930419</td>\n",
       "      <td>0.111960</td>\n",
       "    </tr>\n",
       "    <tr>\n",
       "      <th>1</th>\n",
       "      <td>-0.889743</td>\n",
       "      <td>1.622334</td>\n",
       "      <td>2.164640</td>\n",
       "      <td>-0.625858</td>\n",
       "    </tr>\n",
       "    <tr>\n",
       "      <th>2</th>\n",
       "      <td>0.652604</td>\n",
       "      <td>0.322479</td>\n",
       "      <td>0.775165</td>\n",
       "      <td>-0.720410</td>\n",
       "    </tr>\n",
       "    <tr>\n",
       "      <th>3</th>\n",
       "      <td>1.998471</td>\n",
       "      <td>1.395703</td>\n",
       "      <td>0.096728</td>\n",
       "      <td>-1.891140</td>\n",
       "    </tr>\n",
       "    <tr>\n",
       "      <th>4</th>\n",
       "      <td>-0.336655</td>\n",
       "      <td>0.210017</td>\n",
       "      <td>0.216319</td>\n",
       "      <td>-0.203643</td>\n",
       "    </tr>\n",
       "    <tr>\n",
       "      <th>5</th>\n",
       "      <td>2.216936</td>\n",
       "      <td>-0.287734</td>\n",
       "      <td>-1.807188</td>\n",
       "      <td>-2.043379</td>\n",
       "    </tr>\n",
       "    <tr>\n",
       "      <th>6</th>\n",
       "      <td>0.382665</td>\n",
       "      <td>-0.370652</td>\n",
       "      <td>1.839660</td>\n",
       "      <td>-0.244683</td>\n",
       "    </tr>\n",
       "    <tr>\n",
       "      <th>7</th>\n",
       "      <td>0.669576</td>\n",
       "      <td>-0.873904</td>\n",
       "      <td>0.047261</td>\n",
       "      <td>0.753694</td>\n",
       "    </tr>\n",
       "    <tr>\n",
       "      <th>8</th>\n",
       "      <td>-0.175374</td>\n",
       "      <td>-0.658678</td>\n",
       "      <td>0.426250</td>\n",
       "      <td>1.297062</td>\n",
       "    </tr>\n",
       "    <tr>\n",
       "      <th>9</th>\n",
       "      <td>0.575363</td>\n",
       "      <td>-0.048230</td>\n",
       "      <td>-0.461707</td>\n",
       "      <td>0.009812</td>\n",
       "    </tr>\n",
       "  </tbody>\n",
       "</table>\n",
       "</div>"
      ],
      "text/plain": [
       "          A         B         C         D\n",
       "0 -1.468762 -2.635111  0.930419  0.111960\n",
       "1 -0.889743  1.622334  2.164640 -0.625858\n",
       "2  0.652604  0.322479  0.775165 -0.720410\n",
       "3  1.998471  1.395703  0.096728 -1.891140\n",
       "4 -0.336655  0.210017  0.216319 -0.203643\n",
       "5  2.216936 -0.287734 -1.807188 -2.043379\n",
       "6  0.382665 -0.370652  1.839660 -0.244683\n",
       "7  0.669576 -0.873904  0.047261  0.753694\n",
       "8 -0.175374 -0.658678  0.426250  1.297062\n",
       "9  0.575363 -0.048230 -0.461707  0.009812"
      ]
     },
     "execution_count": 4,
     "metadata": {},
     "output_type": "execute_result"
    }
   ],
   "source": [
    "df"
   ]
  },
  {
   "cell_type": "code",
   "execution_count": null,
   "metadata": {},
   "outputs": [],
   "source": []
  }
 ],
 "metadata": {
  "kernelspec": {
   "display_name": "tf",
   "language": "python",
   "name": "python3"
  },
  "language_info": {
   "codemirror_mode": {
    "name": "ipython",
    "version": 3
   },
   "file_extension": ".py",
   "mimetype": "text/x-python",
   "name": "python",
   "nbconvert_exporter": "python",
   "pygments_lexer": "ipython3",
   "version": "3.9.16"
  },
  "orig_nbformat": 4
 },
 "nbformat": 4,
 "nbformat_minor": 2
}
