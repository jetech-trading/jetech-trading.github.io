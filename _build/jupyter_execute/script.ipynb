{
 "cells": [
  {
   "cell_type": "code",
   "execution_count": 1,
   "metadata": {
    "ExecuteTime": {
     "end_time": "2023-06-06T15:19:26.079085Z",
     "start_time": "2023-06-06T15:18:48.507459Z"
    }
   },
   "outputs": [
    {
     "name": "stdout",
     "output_type": "stream",
     "text": [
      "\u001b[32m\u001b[1mRunning Jupyter-Book v0.15.1\u001b[0m\n",
      "\u001b[34m\u001b[1mSource Folder: \u001b[0m/content/drive/MyDrive/jetech-trading.github/jetech-trading.github.io\n",
      "\u001b[34m\u001b[1mConfig Path: \u001b[0m/content/drive/MyDrive/jetech-trading.github/jetech-trading.github.io/_config.yml\n",
      "\u001b[34m\u001b[1mOutput Path: \u001b[0m/content/drive/MyDrive/jetech-trading.github/jetech-trading.github.io/_build/html\n",
      "\u001b[01mRunning Sphinx v5.0.2\u001b[39;49;00m\n"
     ]
    },
    {
     "name": "stdout",
     "output_type": "stream",
     "text": [
      "[etoc] Changing master_doc to 'intro'\n",
      "\u001b[01mloading pickled environment... \u001b[39;49;00mdone\n",
      "\u001b[01mmyst v0.18.1:\u001b[39;49;00m MdParserConfig(commonmark_only=False, gfm_only=False, enable_extensions=['colon_fence', 'dollarmath', 'linkify', 'substitution', 'tasklist'], disable_syntax=[], all_links_external=False, url_schemes=['mailto', 'http', 'https'], ref_domains=None, highlight_code_blocks=True, number_code_blocks=[], title_to_header=False, heading_anchors=None, heading_slug_func=None, footnote_transition=True, words_per_minute=200, sub_delimiters=('{', '}'), linkify_fuzzy_links=True, dmath_allow_labels=True, dmath_allow_space=True, dmath_allow_digits=True, dmath_double_inline=False, update_mathjax=True, mathjax_classes='tex2jax_process|mathjax_process|math|output_area')\n",
      "\u001b[01mmyst-nb v0.17.2:\u001b[39;49;00m NbParserConfig(custom_formats={}, metadata_key='mystnb', cell_metadata_key='mystnb', kernel_rgx_aliases={}, execution_mode='force', execution_cache_path='', execution_excludepatterns=[], execution_timeout=30, execution_in_temp=False, execution_allow_errors=False, execution_raise_on_error=False, execution_show_tb=False, merge_streams=False, render_plugin='default', remove_code_source=False, remove_code_outputs=False, code_prompt_show='Show code cell {type}', code_prompt_hide='Hide code cell {type}', number_source_lines=False, output_stderr='show', render_text_lexer='myst-ansi', render_error_lexer='ipythontb', render_image_options={}, render_figure_options={}, render_markdown_format='commonmark', output_folder='build', append_css=True, metadata_to_fm=False)\n",
      "Using jupyter-cache at: /content/drive/MyDrive/jetech-trading.github/jetech-trading.github.io/_build/.jupyter_cache\n",
      "\u001b[01mbuilding [mo]: \u001b[39;49;00mtargets for 0 po files that are out of date\n",
      "\u001b[01mbuilding [html]: \u001b[39;49;00mtargets for 0 source files that are out of date\n",
      "\u001b[01mupdating environment: \u001b[39;49;00m"
     ]
    },
    {
     "name": "stdout",
     "output_type": "stream",
     "text": [
      "1 added, 1 changed, 0 removed\n",
      "\u001b[01mreading sources... \u001b[39;49;00m[ 50%] \u001b[35mintro\u001b[39;49;00m\r",
      "\u001b[01mreading sources... \u001b[39;49;00m[100%] \u001b[35mresearch/research\u001b[39;49;00m\r\n",
      "\u001b[01mlooking for now-outdated files... \u001b[39;49;00mnone found\n",
      "\u001b[01mpickling environment... \u001b[39;49;00mdone\n",
      "\u001b[01mchecking consistency... \u001b[39;49;00m\u001b[91m/content/drive/MyDrive/jetech-trading.github/jetech-trading.github.io/markdown.md: WARNING: document isn't included in any toctree\u001b[39;49;00m\n",
      "\u001b[91m/content/drive/MyDrive/jetech-trading.github/jetech-trading.github.io/script.ipynb: WARNING: document isn't included in any toctree\u001b[39;49;00m\n",
      "done\n",
      "\u001b[01mpreparing documents... \u001b[39;49;00mdone\n",
      "\u001b[01mwriting output... \u001b[39;49;00m[ 50%] \u001b[32mintro\u001b[39;49;00m\r"
     ]
    },
    {
     "name": "stdout",
     "output_type": "stream",
     "text": [
      "\u001b[01mwriting output... \u001b[39;49;00m[100%] \u001b[32mresearch/research\u001b[39;49;00m\r\n",
      "\u001b[01mgenerating indices... \u001b[39;49;00mgenindex done\n",
      "\u001b[01mwriting additional pages... \u001b[39;49;00msearch done\n",
      "\u001b[01mcopying static files... \u001b[39;49;00m"
     ]
    },
    {
     "name": "stdout",
     "output_type": "stream",
     "text": [
      "done\n",
      "\u001b[01mcopying extra files... \u001b[39;49;00mdone\n",
      "\u001b[01mdumping search index in English (code: en)... \u001b[39;49;00mdone\n",
      "\u001b[01mdumping object inventory... \u001b[39;49;00mdone\n"
     ]
    },
    {
     "name": "stdout",
     "output_type": "stream",
     "text": [
      "\u001b[01mbuild succeeded, 2 warnings.\u001b[39;49;00m\n",
      "\n",
      "The HTML pages are in _build/html.\n",
      "\n",
      "\u001b[92m===============================================================================\u001b[0m\n",
      "\n",
      "Finished generating HTML for book.\n",
      "Your book's HTML pages are here:\n",
      "    _build/html/\n",
      "You can look at your book by opening this file in a browser:\n",
      "    _build/html/index.html\n",
      "Or paste this line directly into your browser bar:\n",
      "    file:///content/drive/MyDrive/jetech-trading.github/jetech-trading.github.io/_build/html/index.html            \n",
      "\n",
      "\u001b[92m===============================================================================\u001b[0m\n",
      "\n"
     ]
    }
   ],
   "source": [
    "!jupyter-book build ./\n"
   ]
  },
  {
   "cell_type": "code",
   "execution_count": 2,
   "metadata": {},
   "outputs": [
    {
     "name": "stdout",
     "output_type": "stream",
     "text": [
      "Enumerating objects: 33, done.\n",
      "Counting objects:   3% (1/33)\r",
      "Counting objects:   6% (2/33)\r",
      "Counting objects:   9% (3/33)\r",
      "Counting objects:  12% (4/33)\r",
      "Counting objects:  15% (5/33)\r",
      "Counting objects:  18% (6/33)\r",
      "Counting objects:  21% (7/33)\r",
      "Counting objects:  24% (8/33)\r",
      "Counting objects:  27% (9/33)\r",
      "Counting objects:  30% (10/33)\r",
      "Counting objects:  33% (11/33)\r",
      "Counting objects:  36% (12/33)\r",
      "Counting objects:  39% (13/33)\r",
      "Counting objects:  42% (14/33)\r",
      "Counting objects:  45% (15/33)\r",
      "Counting objects:  48% (16/33)\r",
      "Counting objects:  51% (17/33)\r",
      "Counting objects:  54% (18/33)\r",
      "Counting objects:  57% (19/33)\r",
      "Counting objects:  60% (20/33)\r",
      "Counting objects:  63% (21/33)\r",
      "Counting objects:  66% (22/33)\r",
      "Counting objects:  69% (23/33)\r",
      "Counting objects:  72% (24/33)\r",
      "Counting objects:  75% (25/33)\r",
      "Counting objects:  78% (26/33)\r",
      "Counting objects:  81% (27/33)\r",
      "Counting objects:  84% (28/33)\r",
      "Counting objects:  87% (29/33)\r",
      "Counting objects:  90% (30/33)\r",
      "Counting objects:  93% (31/33)\r",
      "Counting objects:  96% (32/33)\r",
      "Counting objects: 100% (33/33)\r",
      "Counting objects: 100% (33/33), done.\n",
      "Delta compression using up to 2 threads\n",
      "Compressing objects:   5% (1/18)\r",
      "Compressing objects:  11% (2/18)\r",
      "Compressing objects:  16% (3/18)\r",
      "Compressing objects:  22% (4/18)\r",
      "Compressing objects:  27% (5/18)\r",
      "Compressing objects:  33% (6/18)\r",
      "Compressing objects:  38% (7/18)\r",
      "Compressing objects:  44% (8/18)\r",
      "Compressing objects:  50% (9/18)\r",
      "Compressing objects:  55% (10/18)\r",
      "Compressing objects:  61% (11/18)\r",
      "Compressing objects:  66% (12/18)\r",
      "Compressing objects:  72% (13/18)\r",
      "Compressing objects:  77% (14/18)\r",
      "Compressing objects:  83% (15/18)\r",
      "Compressing objects:  88% (16/18)\r",
      "Compressing objects:  94% (17/18)\r",
      "Compressing objects: 100% (18/18)\r",
      "Compressing objects: 100% (18/18), done.\n",
      "Writing objects:   5% (1/18)\r",
      "Writing objects:  11% (2/18)\r",
      "Writing objects:  16% (3/18)\r",
      "Writing objects:  22% (4/18)\r",
      "Writing objects:  27% (5/18)\r",
      "Writing objects:  33% (6/18)\r",
      "Writing objects:  38% (7/18)\r",
      "Writing objects:  44% (8/18)\r",
      "Writing objects:  50% (9/18)\r",
      "Writing objects:  55% (10/18)\r",
      "Writing objects:  61% (11/18)\r",
      "Writing objects:  66% (12/18)\r",
      "Writing objects:  72% (13/18)\r",
      "Writing objects:  77% (14/18)\r",
      "Writing objects:  83% (15/18)\r",
      "Writing objects:  88% (16/18)\r",
      "Writing objects:  94% (17/18)\r",
      "Writing objects: 100% (18/18)\r",
      "Writing objects: 100% (18/18), 8.98 KiB | 437.00 KiB/s, done.\n",
      "Total 18 (delta 11), reused 0 (delta 0)\n"
     ]
    },
    {
     "name": "stdout",
     "output_type": "stream",
     "text": [
      "remote: Resolving deltas:   0% (0/11)\u001b[K\r",
      "remote: Resolving deltas:   9% (1/11)\u001b[K\r",
      "remote: Resolving deltas:  18% (2/11)\u001b[K\r",
      "remote: Resolving deltas:  27% (3/11)\u001b[K\r",
      "remote: Resolving deltas:  36% (4/11)\u001b[K\r",
      "remote: Resolving deltas:  45% (5/11)\u001b[K\r",
      "remote: Resolving deltas:  54% (6/11)\u001b[K\r",
      "remote: Resolving deltas:  63% (7/11)\u001b[K\r",
      "remote: Resolving deltas:  72% (8/11)\u001b[K\r",
      "remote: Resolving deltas:  81% (9/11)\u001b[K\r",
      "remote: Resolving deltas:  90% (10/11)\u001b[K\r",
      "remote: Resolving deltas: 100% (11/11)\u001b[K\r",
      "remote: Resolving deltas: 100% (11/11), completed with 10 local objects.\u001b[K\n"
     ]
    },
    {
     "name": "stdout",
     "output_type": "stream",
     "text": [
      "To https://github.com/jetech-trading/jetech-trading.github.io.git\n",
      "   0ba679c..e5c5164  gh-pages -> gh-pages\n"
     ]
    }
   ],
   "source": [
    "!ghp-import -n -p -f _build/html"
   ]
  },
  {
   "cell_type": "code",
   "execution_count": 3,
   "metadata": {
    "ExecuteTime": {
     "end_time": "2023-06-06T15:23:54.814461Z",
     "start_time": "2023-06-06T15:23:53.368985Z"
    }
   },
   "outputs": [
    {
     "name": "stdout",
     "output_type": "stream",
     "text": [
      "[main 8cfadd1] update from windows\n",
      " 15 files changed, 522 insertions(+), 65 deletions(-)\n",
      " create mode 100644 _build/.doctrees/research/research.doctree\n",
      " create mode 100644 _build/html/_sources/research/research.md\n",
      " rewrite _build/html/objects.inv (74%)\n",
      " create mode 100644 _build/html/research/research.html\n",
      " rewrite _build/html/searchindex.js (99%)\n"
     ]
    },
    {
     "name": "stdout",
     "output_type": "stream",
     "text": [
      "Enumerating objects: 51, done.\n",
      "Counting objects:   1% (1/51)\r",
      "Counting objects:   3% (2/51)\r",
      "Counting objects:   5% (3/51)\r",
      "Counting objects:   7% (4/51)\r",
      "Counting objects:   9% (5/51)\r",
      "Counting objects:  11% (6/51)\r",
      "Counting objects:  13% (7/51)\r",
      "Counting objects:  15% (8/51)\r",
      "Counting objects:  17% (9/51)\r",
      "Counting objects:  19% (10/51)\r",
      "Counting objects:  21% (11/51)\r",
      "Counting objects:  23% (12/51)\r",
      "Counting objects:  25% (13/51)\r",
      "Counting objects:  27% (14/51)\r",
      "Counting objects:  29% (15/51)\r",
      "Counting objects:  31% (16/51)\r",
      "Counting objects:  33% (17/51)\r",
      "Counting objects:  35% (18/51)\r",
      "Counting objects:  37% (19/51)\r",
      "Counting objects:  39% (20/51)\r",
      "Counting objects:  41% (21/51)\r",
      "Counting objects:  43% (22/51)\r",
      "Counting objects:  45% (23/51)\r",
      "Counting objects:  47% (24/51)\r",
      "Counting objects:  49% (25/51)\r",
      "Counting objects:  50% (26/51)\r",
      "Counting objects:  52% (27/51)\r",
      "Counting objects:  54% (28/51)\r",
      "Counting objects:  56% (29/51)\r",
      "Counting objects:  58% (30/51)\r",
      "Counting objects:  60% (31/51)\r",
      "Counting objects:  62% (32/51)\r",
      "Counting objects:  64% (33/51)\r",
      "Counting objects:  66% (34/51)\r",
      "Counting objects:  68% (35/51)\r",
      "Counting objects:  70% (36/51)\r",
      "Counting objects:  72% (37/51)\r",
      "Counting objects:  74% (38/51)\r",
      "Counting objects:  76% (39/51)\r",
      "Counting objects:  78% (40/51)\r",
      "Counting objects:  80% (41/51)\r",
      "Counting objects:  82% (42/51)\r",
      "Counting objects:  84% (43/51)\r",
      "Counting objects:  86% (44/51)\r",
      "Counting objects:  88% (45/51)\r",
      "Counting objects:  90% (46/51)\r",
      "Counting objects:  92% (47/51)\r",
      "Counting objects:  94% (48/51)\r",
      "Counting objects:  96% (49/51)\r",
      "Counting objects:  98% (50/51)\r",
      "Counting objects: 100% (51/51)\r",
      "Counting objects: 100% (51/51), done.\n",
      "Delta compression using up to 2 threads\n",
      "Compressing objects:   3% (1/26)\r",
      "Compressing objects:   7% (2/26)\r",
      "Compressing objects:  11% (3/26)\r",
      "Compressing objects:  15% (4/26)\r",
      "Compressing objects:  19% (5/26)\r",
      "Compressing objects:  23% (6/26)\r",
      "Compressing objects:  26% (7/26)\r",
      "Compressing objects:  30% (8/26)\r",
      "Compressing objects:  34% (9/26)\r",
      "Compressing objects:  38% (10/26)\r",
      "Compressing objects:  42% (11/26)\r",
      "Compressing objects:  46% (12/26)\r",
      "Compressing objects:  50% (13/26)\r",
      "Compressing objects:  53% (14/26)\r",
      "Compressing objects:  57% (15/26)\r",
      "Compressing objects:  61% (16/26)\r",
      "Compressing objects:  65% (17/26)\r",
      "Compressing objects:  69% (18/26)\r",
      "Compressing objects:  73% (19/26)\r",
      "Compressing objects:  76% (20/26)\r",
      "Compressing objects:  80% (21/26)\r",
      "Compressing objects:  84% (22/26)\r",
      "Compressing objects:  88% (23/26)\r",
      "Compressing objects:  92% (24/26)\r",
      "Compressing objects:  96% (25/26)\r",
      "Compressing objects: 100% (26/26)\r",
      "Compressing objects: 100% (26/26), done.\n",
      "Writing objects:   3% (1/27)\r",
      "Writing objects:   7% (2/27)\r",
      "Writing objects:  11% (3/27)\r",
      "Writing objects:  14% (4/27)\r",
      "Writing objects:  18% (5/27)\r",
      "Writing objects:  22% (6/27)\r",
      "Writing objects:  25% (7/27)\r",
      "Writing objects:  29% (8/27)\r",
      "Writing objects:  33% (9/27)\r",
      "Writing objects:  37% (10/27)\r",
      "Writing objects:  40% (11/27)\r",
      "Writing objects:  44% (12/27)\r",
      "Writing objects:  48% (13/27)\r",
      "Writing objects:  51% (14/27)\r",
      "Writing objects:  55% (15/27)\r",
      "Writing objects:  59% (16/27)\r",
      "Writing objects:  62% (17/27)\r",
      "Writing objects:  66% (18/27)\r",
      "Writing objects:  70% (19/27)\r",
      "Writing objects:  74% (20/27)\r",
      "Writing objects:  77% (21/27)\r",
      "Writing objects:  81% (22/27)\r",
      "Writing objects:  85% (23/27)\r",
      "Writing objects:  88% (24/27)\r",
      "Writing objects:  92% (25/27)\r",
      "Writing objects:  96% (26/27)\r",
      "Writing objects: 100% (27/27)\r",
      "Writing objects: 100% (27/27), 13.48 KiB | 445.00 KiB/s, done.\n",
      "Total 27 (delta 18), reused 0 (delta 0)\n"
     ]
    },
    {
     "name": "stdout",
     "output_type": "stream",
     "text": [
      "remote: Resolving deltas:   0% (0/18)\u001b[K\r",
      "remote: Resolving deltas:   5% (1/18)\u001b[K\r",
      "remote: Resolving deltas:  11% (2/18)\u001b[K\r",
      "remote: Resolving deltas:  16% (3/18)\u001b[K\r",
      "remote: Resolving deltas:  22% (4/18)\u001b[K\r",
      "remote: Resolving deltas:  27% (5/18)\u001b[K\r",
      "remote: Resolving deltas:  33% (6/18)\u001b[K\r",
      "remote: Resolving deltas:  38% (7/18)\u001b[K\r",
      "remote: Resolving deltas:  44% (8/18)\u001b[K\r",
      "remote: Resolving deltas:  50% (9/18)\u001b[K\r",
      "remote: Resolving deltas:  55% (10/18)\u001b[K\r",
      "remote: Resolving deltas:  61% (11/18)\u001b[K\r",
      "remote: Resolving deltas:  66% (12/18)\u001b[K\r",
      "remote: Resolving deltas:  72% (13/18)\u001b[K\r",
      "remote: Resolving deltas:  77% (14/18)\u001b[K\r",
      "remote: Resolving deltas:  83% (15/18)\u001b[K\r",
      "remote: Resolving deltas:  88% (16/18)\u001b[K\r",
      "remote: Resolving deltas:  94% (17/18)\u001b[K\r",
      "remote: Resolving deltas: 100% (18/18)\u001b[K\r",
      "remote: Resolving deltas: 100% (18/18), completed with 16 local objects.\u001b[K\n"
     ]
    },
    {
     "name": "stdout",
     "output_type": "stream",
     "text": [
      "To https://github.com/jetech-trading/jetech-trading.github.io.git\n",
      "   d35e9af..8cfadd1  main -> main\n",
      "Branch 'main' set up to track remote branch 'main' from 'origin'.\n"
     ]
    }
   ],
   "source": [
    "\n",
    "!git config user.email 'xile803@likelion.org'\n",
    "!git config user.name 'jetech-trading'\n",
    "!git add .\n",
    "!git commit -m \"update from windows\"\n",
    "!git push -u origin main"
   ]
  },
  {
   "cell_type": "code",
   "execution_count": 4,
   "metadata": {
    "ExecuteTime": {
     "end_time": "2023-06-06T15:24:20.601443Z",
     "start_time": "2023-06-06T15:24:20.447076Z"
    }
   },
   "outputs": [
    {
     "name": "stdout",
     "output_type": "stream",
     "text": [
      "jetech-trading\n"
     ]
    }
   ],
   "source": [
    "!git config user.name"
   ]
  },
  {
   "cell_type": "code",
   "execution_count": 5,
   "metadata": {
    "ExecuteTime": {
     "end_time": "2023-06-06T15:24:25.607288Z",
     "start_time": "2023-06-06T15:24:25.451632Z"
    },
    "collapsed": false
   },
   "outputs": [],
   "source": [
    "!git config user.password"
   ]
  },
  {
   "cell_type": "code",
   "execution_count": null,
   "metadata": {
    "collapsed": false
   },
   "outputs": [],
   "source": []
  }
 ],
 "metadata": {
  "kernelspec": {
   "display_name": "tf",
   "language": "python",
   "name": "python3"
  },
  "language_info": {
   "codemirror_mode": {
    "name": "ipython",
    "version": 3
   },
   "file_extension": ".py",
   "mimetype": "text/x-python",
   "name": "python",
   "nbconvert_exporter": "python",
   "pygments_lexer": "ipython3",
   "version": "3.10.12"
  }
 },
 "nbformat": 4,
 "nbformat_minor": 2
}