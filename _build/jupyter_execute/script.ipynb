{
 "cells": [
  {
   "cell_type": "code",
   "execution_count": 1,
   "metadata": {},
   "outputs": [
    {
     "name": "stdout",
     "output_type": "stream",
     "text": [
      "Looking in indexes: https://pypi.org/simple, https://us-python.pkg.dev/colab-wheels/public/simple/\n",
      "Requirement already satisfied: ghp-import in /usr/local/lib/python3.10/dist-packages (2.1.0)\n",
      "Requirement already satisfied: python-dateutil>=2.8.1 in /usr/local/lib/python3.10/dist-packages (from ghp-import) (2.8.2)\n",
      "Requirement already satisfied: six>=1.5 in /usr/local/lib/python3.10/dist-packages (from python-dateutil>=2.8.1->ghp-import) (1.16.0)\n"
     ]
    }
   ],
   "source": [
    "!pip install ghp-import"
   ]
  },
  {
   "cell_type": "code",
   "execution_count": 2,
   "metadata": {},
   "outputs": [
    {
     "name": "stdout",
     "output_type": "stream",
     "text": [
      "\u001b[32m\u001b[1mRunning Jupyter-Book v0.15.1\u001b[0m\n",
      "\u001b[34m\u001b[1mSource Folder: \u001b[0m/content/drive/MyDrive/jetech-trading.github/jetech-trading.github.io\n",
      "\u001b[34m\u001b[1mConfig Path: \u001b[0m/content/drive/MyDrive/jetech-trading.github/jetech-trading.github.io/_config.yml\n",
      "\u001b[34m\u001b[1mOutput Path: \u001b[0m/content/drive/MyDrive/jetech-trading.github/jetech-trading.github.io/_build/html\n",
      "\u001b[01mRunning Sphinx v5.0.2\u001b[39;49;00m\n"
     ]
    },
    {
     "name": "stdout",
     "output_type": "stream",
     "text": [
      "[etoc] Changing master_doc to 'intro'\n",
      "\u001b[01mloading pickled environment... \u001b[39;49;00mfailed\n",
      "failed: 'TocTree' object has no attribute '__dict__'\n",
      "checking bibtex cache... out of date\n",
      "parsing bibtex file /content/drive/MyDrive/jetech-trading.github/jetech-trading.github.io/references.bib... parsed 5 entries\n"
     ]
    },
    {
     "name": "stdout",
     "output_type": "stream",
     "text": [
      "\u001b[01mmyst v0.18.1:\u001b[39;49;00m MdParserConfig(commonmark_only=False, gfm_only=False, enable_extensions=['colon_fence', 'dollarmath', 'linkify', 'substitution', 'tasklist'], disable_syntax=[], all_links_external=False, url_schemes=['mailto', 'http', 'https'], ref_domains=None, highlight_code_blocks=True, number_code_blocks=[], title_to_header=False, heading_anchors=None, heading_slug_func=None, footnote_transition=True, words_per_minute=200, sub_delimiters=('{', '}'), linkify_fuzzy_links=True, dmath_allow_labels=True, dmath_allow_space=True, dmath_allow_digits=True, dmath_double_inline=False, update_mathjax=True, mathjax_classes='tex2jax_process|mathjax_process|math|output_area')\n",
      "\u001b[01mmyst-nb v0.17.2:\u001b[39;49;00m NbParserConfig(custom_formats={}, metadata_key='mystnb', cell_metadata_key='mystnb', kernel_rgx_aliases={}, execution_mode='force', execution_cache_path='', execution_excludepatterns=[], execution_timeout=30, execution_in_temp=False, execution_allow_errors=False, execution_raise_on_error=False, execution_show_tb=False, merge_streams=False, render_plugin='default', remove_code_source=False, remove_code_outputs=False, code_prompt_show='Show code cell {type}', code_prompt_hide='Hide code cell {type}', number_source_lines=False, output_stderr='show', render_text_lexer='myst-ansi', render_error_lexer='ipythontb', render_image_options={}, render_figure_options={}, render_markdown_format='commonmark', output_folder='build', append_css=True, metadata_to_fm=False)\n",
      "Using jupyter-cache at: /content/drive/MyDrive/jetech-trading.github/jetech-trading.github.io/_build/.jupyter_cache\n",
      "\u001b[01mbuilding [mo]: \u001b[39;49;00mtargets for 0 po files that are out of date\n",
      "\u001b[01mbuilding [html]: \u001b[39;49;00mtargets for 6 source files that are out of date\n",
      "\u001b[01mupdating environment: \u001b[39;49;00m"
     ]
    },
    {
     "name": "stdout",
     "output_type": "stream",
     "text": [
      "[new config] 6 added, 0 changed, 0 removed\n",
      "\u001b[01mreading sources... \u001b[39;49;00m[ 16%] \u001b[35mintro\u001b[39;49;00m\r",
      "\u001b[01mreading sources... \u001b[39;49;00m[ 33%] \u001b[35mmarkdown\u001b[39;49;00m\r",
      "\u001b[01mreading sources... \u001b[39;49;00m[ 50%] \u001b[35mmarkdown-notebooks\u001b[39;49;00m\r",
      "/content/drive/MyDrive/jetech-trading.github/jetech-trading.github.io/markdown-notebooks.md: Executing notebook using local CWD [mystnb]\n"
     ]
    },
    {
     "name": "stdout",
     "output_type": "stream",
     "text": [
      "/content/drive/MyDrive/jetech-trading.github/jetech-trading.github.io/markdown-notebooks.md: Executed notebook in 1.80 seconds [mystnb]\n",
      "\u001b[01mreading sources... \u001b[39;49;00m[ 66%] \u001b[35mnotebooks\u001b[39;49;00m\r",
      "/content/drive/MyDrive/jetech-trading.github/jetech-trading.github.io/notebooks.ipynb: Executing notebook using local CWD [mystnb]\n"
     ]
    },
    {
     "name": "stdout",
     "output_type": "stream",
     "text": [
      "/content/drive/MyDrive/jetech-trading.github/jetech-trading.github.io/notebooks.ipynb: Executed notebook in 4.01 seconds [mystnb]\n"
     ]
    },
    {
     "name": "stdout",
     "output_type": "stream",
     "text": [
      "\u001b[01mreading sources... \u001b[39;49;00m[ 83%] \u001b[35mresearch/Untitled\u001b[39;49;00m\r",
      "/content/drive/MyDrive/jetech-trading.github/jetech-trading.github.io/research/Untitled.ipynb: Executing notebook using local CWD [mystnb]\n"
     ]
    },
    {
     "name": "stdout",
     "output_type": "stream",
     "text": [
      "/content/drive/MyDrive/jetech-trading.github/jetech-trading.github.io/research/Untitled.ipynb: Executed notebook in 4.02 seconds [mystnb]\n",
      "\u001b[01mreading sources... \u001b[39;49;00m[100%] \u001b[35mscript\u001b[39;49;00m\r",
      "/content/drive/MyDrive/jetech-trading.github/jetech-trading.github.io/script.ipynb: Executing notebook using local CWD [mystnb]\n"
     ]
    }
   ],
   "source": [
    "!jupyter-book build ./"
   ]
  },
  {
   "cell_type": "code",
   "execution_count": 9,
   "metadata": {},
   "outputs": [
    {
     "name": "stderr",
     "output_type": "stream",
     "text": [
      "warning: in the working copy of 'script.ipynb', LF will be replaced by CRLF the next time Git touches it\n"
     ]
    },
    {
     "name": "stdout",
     "output_type": "stream",
     "text": [
      "[main 09b467c] update from windows\n",
      " 1 file changed, 167 insertions(+), 2 deletions(-)\n"
     ]
    },
    {
     "name": "stderr",
     "output_type": "stream",
     "text": [
      "remote: Permission to jetech-trading/jetech-trading.github.io.git denied to wijehyeon.\n",
      "fatal: unable to access 'https://github.com/jetech-trading/jetech-trading.github.io.git/': The requested URL returned error: 403\n"
     ]
    }
   ],
   "source": [
    "!git config --global user.email 'xile803@likelion.org'\n",
    "!git config user.email 'xile803@likelion.org'\n",
    "!git config --global user.name 'jetech-trading'\n",
    "!git config user.name 'jetech-trading'\n",
    "!git add .\n",
    "!git commit -m \"update from windows\"\n",
    "!git push -u origin main\n",
    "!ghp-import -n -p -f _build/html"
   ]
  }
 ],
 "metadata": {
  "kernelspec": {
   "display_name": "tf",
   "language": "python",
   "name": "python3"
  },
  "language_info": {
   "codemirror_mode": {
    "name": "ipython",
    "version": 3
   },
   "file_extension": ".py",
   "mimetype": "text/x-python",
   "name": "python",
   "nbconvert_exporter": "python",
   "pygments_lexer": "ipython3",
   "version": "3.10.11"
  }
 },
 "nbformat": 4,
 "nbformat_minor": 2
}