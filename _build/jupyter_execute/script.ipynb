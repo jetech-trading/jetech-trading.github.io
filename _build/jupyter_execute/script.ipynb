{
 "cells": [
  {
   "cell_type": "code",
   "execution_count": 1,
   "metadata": {
    "ExecuteTime": {
     "end_time": "2023-06-06T15:19:26.079085Z",
     "start_time": "2023-06-06T15:18:48.507459Z"
    }
   },
   "outputs": [
    {
     "name": "stdout",
     "output_type": "stream",
     "text": [
      "\u001b[32m\u001b[1mRunning Jupyter-Book v0.15.1\u001b[0m\n",
      "\u001b[34m\u001b[1mSource Folder: \u001b[0m/content/drive/MyDrive/jetech-trading.github/jetech-trading.github.io\n",
      "\u001b[34m\u001b[1mConfig Path: \u001b[0m/content/drive/MyDrive/jetech-trading.github/jetech-trading.github.io/_config.yml\n",
      "\u001b[34m\u001b[1mOutput Path: \u001b[0m/content/drive/MyDrive/jetech-trading.github/jetech-trading.github.io/_build/html\n",
      "\u001b[01mRunning Sphinx v5.0.2\u001b[39;49;00m\n"
     ]
    },
    {
     "name": "stdout",
     "output_type": "stream",
     "text": [
      "[etoc] Changing master_doc to 'intro'\n",
      "\u001b[01mloading pickled environment... \u001b[39;49;00mdone\n",
      "\u001b[01mmyst v0.18.1:\u001b[39;49;00m MdParserConfig(commonmark_only=False, gfm_only=False, enable_extensions=['colon_fence', 'dollarmath', 'linkify', 'substitution', 'tasklist'], disable_syntax=[], all_links_external=False, url_schemes=['mailto', 'http', 'https'], ref_domains=None, highlight_code_blocks=True, number_code_blocks=[], title_to_header=False, heading_anchors=None, heading_slug_func=None, footnote_transition=True, words_per_minute=200, sub_delimiters=('{', '}'), linkify_fuzzy_links=True, dmath_allow_labels=True, dmath_allow_space=True, dmath_allow_digits=True, dmath_double_inline=False, update_mathjax=True, mathjax_classes='tex2jax_process|mathjax_process|math|output_area')\n",
      "\u001b[01mmyst-nb v0.17.2:\u001b[39;49;00m NbParserConfig(custom_formats={}, metadata_key='mystnb', cell_metadata_key='mystnb', kernel_rgx_aliases={}, execution_mode='force', execution_cache_path='', execution_excludepatterns=[], execution_timeout=30, execution_in_temp=False, execution_allow_errors=False, execution_raise_on_error=False, execution_show_tb=False, merge_streams=False, render_plugin='default', remove_code_source=False, remove_code_outputs=False, code_prompt_show='Show code cell {type}', code_prompt_hide='Hide code cell {type}', number_source_lines=False, output_stderr='show', render_text_lexer='myst-ansi', render_error_lexer='ipythontb', render_image_options={}, render_figure_options={}, render_markdown_format='commonmark', output_folder='build', append_css=True, metadata_to_fm=False)\n",
      "Using jupyter-cache at: /content/drive/MyDrive/jetech-trading.github/jetech-trading.github.io/_build/.jupyter_cache\n",
      "\u001b[01mbuilding [mo]: \u001b[39;49;00mtargets for 0 po files that are out of date\n",
      "\u001b[01mbuilding [html]: \u001b[39;49;00mtargets for 0 source files that are out of date\n",
      "\u001b[01mupdating environment: \u001b[39;49;00m"
     ]
    },
    {
     "name": "stdout",
     "output_type": "stream",
     "text": [
      "0 added, 1 changed, 0 removed\n",
      "\u001b[01mreading sources... \u001b[39;49;00m[100%] \u001b[35mintro\u001b[39;49;00m\r\n",
      "\u001b[91m/content/drive/MyDrive/jetech-trading.github/jetech-trading.github.io/intro.md:: WARNING: toctree contains reference to nonexisting document 'research/research' [etoc.ref]\u001b[39;49;00m\n",
      "\u001b[01mlooking for now-outdated files... \u001b[39;49;00mnone found\n",
      "\u001b[01mpickling environment... \u001b[39;49;00mdone\n",
      "\u001b[01mchecking consistency... \u001b[39;49;00m\u001b[91m/content/drive/MyDrive/jetech-trading.github/jetech-trading.github.io/markdown.md: WARNING: document isn't included in any toctree\u001b[39;49;00m\n",
      "\u001b[91m/content/drive/MyDrive/jetech-trading.github/jetech-trading.github.io/research/20230618.ipynb: WARNING: document isn't included in any toctree\u001b[39;49;00m\n",
      "\u001b[91m/content/drive/MyDrive/jetech-trading.github/jetech-trading.github.io/script.ipynb: WARNING: document isn't included in any toctree\u001b[39;49;00m\n",
      "done\n",
      "\u001b[01mpreparing documents... \u001b[39;49;00mdone\n",
      "\u001b[01mwriting output... \u001b[39;49;00m[100%] \u001b[32mintro\u001b[39;49;00m\r"
     ]
    },
    {
     "name": "stdout",
     "output_type": "stream",
     "text": [
      "\n",
      "\u001b[01mgenerating indices... \u001b[39;49;00mgenindex done\n",
      "\u001b[01mwriting additional pages... \u001b[39;49;00msearch done\n",
      "\u001b[01mcopying static files... \u001b[39;49;00m"
     ]
    },
    {
     "name": "stdout",
     "output_type": "stream",
     "text": [
      "done\n",
      "\u001b[01mcopying extra files... \u001b[39;49;00mdone\n",
      "\u001b[01mdumping search index in English (code: en)... \u001b[39;49;00mdone\n",
      "\u001b[01mdumping object inventory... \u001b[39;49;00mdone\n",
      "\u001b[01mbuild succeeded, 4 warnings.\u001b[39;49;00m\n",
      "\n",
      "The HTML pages are in _build/html.\n",
      "\n",
      "\u001b[92m===============================================================================\u001b[0m\n",
      "\n",
      "Finished generating HTML for book.\n",
      "Your book's HTML pages are here:\n",
      "    _build/html/\n",
      "You can look at your book by opening this file in a browser:\n",
      "    _build/html/index.html\n",
      "Or paste this line directly into your browser bar:\n",
      "    file:///content/drive/MyDrive/jetech-trading.github/jetech-trading.github.io/_build/html/index.html            \n",
      "\n",
      "\u001b[92m===============================================================================\u001b[0m\n",
      "\n"
     ]
    }
   ],
   "source": [
    "!jupyter-book build ./\n"
   ]
  },
  {
   "cell_type": "code",
   "execution_count": 2,
   "metadata": {},
   "outputs": [
    {
     "name": "stdout",
     "output_type": "stream",
     "text": [
      "Enumerating objects: 1, done.\n",
      "Counting objects: 100% (1/1)\r",
      "Counting objects: 100% (1/1), done.\n",
      "Writing objects: 100% (1/1)\r",
      "Writing objects: 100% (1/1), 194 bytes | 48.00 KiB/s, done.\n",
      "Total 1 (delta 0), reused 0 (delta 0)\n"
     ]
    },
    {
     "name": "stdout",
     "output_type": "stream",
     "text": [
      "To https://github.com/jetech-trading/jetech-trading.github.io.git\n",
      "   924a751..0ba679c  gh-pages -> gh-pages\n"
     ]
    }
   ],
   "source": [
    "!ghp-import -n -p -f _build/html"
   ]
  },
  {
   "cell_type": "code",
   "execution_count": 3,
   "metadata": {
    "ExecuteTime": {
     "end_time": "2023-06-06T15:23:54.814461Z",
     "start_time": "2023-06-06T15:23:53.368985Z"
    }
   },
   "outputs": [
    {
     "name": "stdout",
     "output_type": "stream",
     "text": [
      "[main 149382a] update from windows\n",
      " 6 files changed, 64 insertions(+), 58 deletions(-)\n"
     ]
    },
    {
     "name": "stdout",
     "output_type": "stream",
     "text": [
      "Enumerating objects: 29, done.\n",
      "Counting objects:   3% (1/29)\r",
      "Counting objects:   6% (2/29)\r",
      "Counting objects:  10% (3/29)\r",
      "Counting objects:  13% (4/29)\r",
      "Counting objects:  17% (5/29)\r",
      "Counting objects:  20% (6/29)\r",
      "Counting objects:  24% (7/29)\r",
      "Counting objects:  27% (8/29)\r",
      "Counting objects:  31% (9/29)\r",
      "Counting objects:  34% (10/29)\r",
      "Counting objects:  37% (11/29)\r",
      "Counting objects:  41% (12/29)\r",
      "Counting objects:  44% (13/29)\r",
      "Counting objects:  48% (14/29)\r",
      "Counting objects:  51% (15/29)\r",
      "Counting objects:  55% (16/29)\r",
      "Counting objects:  58% (17/29)\r",
      "Counting objects:  62% (18/29)\r",
      "Counting objects:  65% (19/29)\r",
      "Counting objects:  68% (20/29)\r",
      "Counting objects:  72% (21/29)\r",
      "Counting objects:  75% (22/29)\r",
      "Counting objects:  79% (23/29)\r",
      "Counting objects:  82% (24/29)\r",
      "Counting objects:  86% (25/29)\r",
      "Counting objects:  89% (26/29)\r",
      "Counting objects:  93% (27/29)\r",
      "Counting objects:  96% (28/29)\r",
      "Counting objects: 100% (29/29)\r",
      "Counting objects: 100% (29/29), done.\n",
      "Delta compression using up to 2 threads\n",
      "Compressing objects:   7% (1/14)\r",
      "Compressing objects:  14% (2/14)\r",
      "Compressing objects:  21% (3/14)\r",
      "Compressing objects:  28% (4/14)\r",
      "Compressing objects:  35% (5/14)\r",
      "Compressing objects:  42% (6/14)\r",
      "Compressing objects:  50% (7/14)\r",
      "Compressing objects:  57% (8/14)\r",
      "Compressing objects:  64% (9/14)\r",
      "Compressing objects:  71% (10/14)\r",
      "Compressing objects:  78% (11/14)\r",
      "Compressing objects:  85% (12/14)\r",
      "Compressing objects:  92% (13/14)\r",
      "Compressing objects: 100% (14/14)\r",
      "Compressing objects: 100% (14/14), done.\n",
      "Writing objects:   6% (1/15)\r",
      "Writing objects:  13% (2/15)\r",
      "Writing objects:  20% (3/15)\r",
      "Writing objects:  26% (4/15)\r",
      "Writing objects:  33% (5/15)\r",
      "Writing objects:  40% (6/15)\r",
      "Writing objects:  46% (7/15)\r",
      "Writing objects:  53% (8/15)\r",
      "Writing objects:  60% (9/15)\r",
      "Writing objects:  66% (10/15)\r",
      "Writing objects:  73% (11/15)\r",
      "Writing objects:  80% (12/15)\r",
      "Writing objects:  86% (13/15)\r",
      "Writing objects:  93% (14/15)\r",
      "Writing objects: 100% (15/15)\r",
      "Writing objects: 100% (15/15), 4.54 KiB | 273.00 KiB/s, done.\n",
      "Total 15 (delta 9), reused 0 (delta 0)\n"
     ]
    },
    {
     "name": "stdout",
     "output_type": "stream",
     "text": [
      "remote: Resolving deltas:   0% (0/9)\u001b[K\r",
      "remote: Resolving deltas:  11% (1/9)\u001b[K\r",
      "remote: Resolving deltas:  22% (2/9)\u001b[K\r",
      "remote: Resolving deltas:  33% (3/9)\u001b[K\r",
      "remote: Resolving deltas:  44% (4/9)\u001b[K\r",
      "remote: Resolving deltas:  55% (5/9)\u001b[K\r",
      "remote: Resolving deltas:  66% (6/9)\u001b[K\r",
      "remote: Resolving deltas:  77% (7/9)\u001b[K\r",
      "remote: Resolving deltas:  88% (8/9)\u001b[K\r",
      "remote: Resolving deltas: 100% (9/9)\u001b[K\r",
      "remote: Resolving deltas: 100% (9/9), completed with 9 local objects.\u001b[K\n"
     ]
    },
    {
     "name": "stdout",
     "output_type": "stream",
     "text": [
      "To https://github.com/jetech-trading/jetech-trading.github.io.git\n",
      "   78d96a2..149382a  main -> main\n",
      "Branch 'main' set up to track remote branch 'main' from 'origin'.\n"
     ]
    }
   ],
   "source": [
    "\n",
    "!git config user.email 'xile803@likelion.org'\n",
    "!git config user.name 'jetech-trading'\n",
    "!git add .\n",
    "!git commit -m \"update from windows\"\n",
    "!git push -u origin main"
   ]
  },
  {
   "cell_type": "code",
   "execution_count": 4,
   "metadata": {
    "ExecuteTime": {
     "end_time": "2023-06-06T15:24:20.601443Z",
     "start_time": "2023-06-06T15:24:20.447076Z"
    }
   },
   "outputs": [
    {
     "name": "stdout",
     "output_type": "stream",
     "text": [
      "jetech-trading\n"
     ]
    }
   ],
   "source": [
    "!git config user.name"
   ]
  },
  {
   "cell_type": "code",
   "execution_count": 5,
   "metadata": {
    "ExecuteTime": {
     "end_time": "2023-06-06T15:24:25.607288Z",
     "start_time": "2023-06-06T15:24:25.451632Z"
    },
    "collapsed": false
   },
   "outputs": [],
   "source": [
    "!git config user.password"
   ]
  },
  {
   "cell_type": "code",
   "execution_count": null,
   "metadata": {
    "collapsed": false
   },
   "outputs": [],
   "source": []
  }
 ],
 "metadata": {
  "kernelspec": {
   "display_name": "tf",
   "language": "python",
   "name": "python3"
  },
  "language_info": {
   "codemirror_mode": {
    "name": "ipython",
    "version": 3
   },
   "file_extension": ".py",
   "mimetype": "text/x-python",
   "name": "python",
   "nbconvert_exporter": "python",
   "pygments_lexer": "ipython3",
   "version": "3.10.12"
  }
 },
 "nbformat": 4,
 "nbformat_minor": 2
}