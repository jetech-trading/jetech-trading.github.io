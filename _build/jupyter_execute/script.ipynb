{
 "cells": [
  {
   "cell_type": "code",
   "execution_count": 1,
   "metadata": {},
   "outputs": [
    {
     "name": "stdout",
     "output_type": "stream",
     "text": [
      "^C\n",
      "Running Jupyter-Book v0.15.1\n",
      "Source Folder: c:\\workspace\\jetech-trading.github.io\n",
      "Config Path: c:\\workspace\\jetech-trading.github.io\\_config.yml\n",
      "Output Path: c:\\workspace\\jetech-trading.github.io\\_build\\html\n",
      "\u001b[01mRunning Sphinx v5.0.2\u001b[39;49;00m\n",
      "[etoc] Changing master_doc to 'intro'\n",
      "\u001b[01mloading pickled environment... \u001b[39;49;00mdone\n",
      "\u001b[01mmyst v0.18.1:\u001b[39;49;00m MdParserConfig(commonmark_only=False, gfm_only=False, enable_extensions=['colon_fence', 'dollarmath', 'linkify', 'substitution', 'tasklist'], disable_syntax=[], all_links_external=False, url_schemes=['mailto', 'http', 'https'], ref_domains=None, highlight_code_blocks=True, number_code_blocks=[], title_to_header=False, heading_anchors=None, heading_slug_func=None, footnote_transition=True, words_per_minute=200, sub_delimiters=('{', '}'), linkify_fuzzy_links=True, dmath_allow_labels=True, dmath_allow_space=True, dmath_allow_digits=True, dmath_double_inline=False, update_mathjax=True, mathjax_classes='tex2jax_process|mathjax_process|math|output_area')\n",
      "\u001b[01mmyst-nb v0.17.2:\u001b[39;49;00m NbParserConfig(custom_formats={}, metadata_key='mystnb', cell_metadata_key='mystnb', kernel_rgx_aliases={}, execution_mode='force', execution_cache_path='', execution_excludepatterns=[], execution_timeout=30, execution_in_temp=False, execution_allow_errors=False, execution_raise_on_error=False, execution_show_tb=False, merge_streams=False, render_plugin='default', remove_code_source=False, remove_code_outputs=False, code_prompt_show='Show code cell {type}', code_prompt_hide='Hide code cell {type}', number_source_lines=False, output_stderr='show', render_text_lexer='myst-ansi', render_error_lexer='ipythontb', render_image_options={}, render_figure_options={}, render_markdown_format='commonmark', output_folder='build', append_css=True, metadata_to_fm=False)\n",
      "Using jupyter-cache at: C:\\workspace\\jetech-trading.github.io\\_build\\.jupyter_cache\n",
      "\u001b[01mbuilding [mo]: \u001b[39;49;00mtargets for 0 po files that are out of date\n",
      "\u001b[01mbuilding [html]: \u001b[39;49;00mtargets for 8 source files that are out of date\n",
      "\u001b[01mupdating environment: \u001b[39;49;00m0 added, 2 changed, 0 removed\n",
      "\u001b[01mreading sources... \u001b[39;49;00m[ 50%] \u001b[35mintro\u001b[39;49;00m                                                \n",
      "\u001b[01mreading sources... \u001b[39;49;00m[100%] \u001b[35mscript\u001b[39;49;00m                                               \n",
      "c:\\workspace\\jetech-trading.github.io\\script.ipynb: Executing notebook using local CWD [mystnb]\n"
     ]
    },
    {
     "name": "stderr",
     "output_type": "stream",
     "text": [
      "C:\\Users\\User\\anaconda3\\envs\\tf\\lib\\site-packages\\zmq\\_future.py:681: RuntimeWarning: Proactor event loop does not implement add_reader family of methods required for zmq. Registering an additional selector thread for add_reader support via tornado. Use `asyncio.set_event_loop_policy(WindowsSelectorEventLoopPolicy())` to avoid this warning.\n",
      "  self._get_loop()\n"
     ]
    },
    {
     "name": "stderr",
     "output_type": "stream",
     "text": [
      "To https://github.com/jetech-trading/jetech-trading.github.io.git\n",
      "   2a4d4c5..4beceb3  gh-pages -> gh-pages\n"
     ]
    }
   ],
   "source": [
    "!jupyter-book build ./\n",
    "\n",
    "!ghp-import -n -p -f _build/html"
   ]
  },
  {
   "cell_type": "code",
   "execution_count": 5,
   "metadata": {},
   "outputs": [
    {
     "name": "stderr",
     "output_type": "stream",
     "text": [
      "warning: in the working copy of '_build/html/_sources/notebooks.ipynb', LF will be replaced by CRLF the next time Git touches it\n",
      "warning: in the working copy of '_build/html/_sources/script.ipynb', LF will be replaced by CRLF the next time Git touches it\n",
      "warning: in the working copy of '_build/jupyter_execute/markdown-notebooks.ipynb', LF will be replaced by CRLF the next time Git touches it\n",
      "warning: in the working copy of '_build/jupyter_execute/notebooks.ipynb', LF will be replaced by CRLF the next time Git touches it\n",
      "warning: in the working copy of '_build/jupyter_execute/research/Untitled.ipynb', LF will be replaced by CRLF the next time Git touches it\n",
      "warning: in the working copy of '_build/jupyter_execute/script.ipynb', LF will be replaced by CRLF the next time Git touches it\n",
      "warning: in the working copy of 'notebooks.ipynb', LF will be replaced by CRLF the next time Git touches it\n",
      "warning: in the working copy of 'script.ipynb', LF will be replaced by CRLF the next time Git touches it\n"
     ]
    },
    {
     "name": "stdout",
     "output_type": "stream",
     "text": [
      "[main 746e86d] update from windows\n",
      " 27 files changed, 634 insertions(+), 562 deletions(-)\n"
     ]
    },
    {
     "name": "stderr",
     "output_type": "stream",
     "text": [
      "remote: Resolving deltas:   0% (0/51)        \n",
      "remote: Resolving deltas:   1% (1/51)        \n",
      "remote: Resolving deltas:   3% (2/51)        \n",
      "remote: Resolving deltas:   5% (3/51)        \n",
      "remote: Resolving deltas:   7% (4/51)        \n",
      "remote: Resolving deltas:   9% (5/51)        \n",
      "remote: Resolving deltas:  11% (6/51)        \n",
      "remote: Resolving deltas:  13% (7/51)        \n",
      "remote: Resolving deltas:  15% (8/51)        \n",
      "remote: Resolving deltas:  17% (9/51)        \n",
      "remote: Resolving deltas:  19% (10/51)        \n",
      "remote: Resolving deltas:  21% (11/51)        \n",
      "remote: Resolving deltas:  23% (12/51)        \n",
      "remote: Resolving deltas:  25% (13/51)        \n",
      "remote: Resolving deltas:  27% (14/51)        \n",
      "remote: Resolving deltas:  29% (15/51)        \n",
      "remote: Resolving deltas:  31% (16/51)        \n",
      "remote: Resolving deltas:  33% (17/51)        \n",
      "remote: Resolving deltas:  35% (18/51)        \n",
      "remote: Resolving deltas:  37% (19/51)        \n",
      "remote: Resolving deltas:  39% (20/51)        \n",
      "remote: Resolving deltas:  41% (21/51)        \n",
      "remote: Resolving deltas:  43% (22/51)        \n",
      "remote: Resolving deltas:  45% (23/51)        \n",
      "remote: Resolving deltas:  47% (24/51)        \n",
      "remote: Resolving deltas:  49% (25/51)        \n",
      "remote: Resolving deltas:  50% (26/51)        \n",
      "remote: Resolving deltas:  52% (27/51)        \n",
      "remote: Resolving deltas:  54% (28/51)        \n",
      "remote: Resolving deltas:  56% (29/51)        \n",
      "remote: Resolving deltas:  58% (30/51)        \n",
      "remote: Resolving deltas:  60% (31/51)        \n",
      "remote: Resolving deltas:  62% (32/51)        \n",
      "remote: Resolving deltas:  64% (33/51)        \n",
      "remote: Resolving deltas:  66% (34/51)        \n",
      "remote: Resolving deltas:  68% (35/51)        \n",
      "remote: Resolving deltas:  70% (36/51)        \n",
      "remote: Resolving deltas:  72% (37/51)        \n",
      "remote: Resolving deltas:  74% (38/51)        \n",
      "remote: Resolving deltas:  76% (39/51)        \n",
      "remote: Resolving deltas:  78% (40/51)        \n",
      "remote: Resolving deltas:  80% (41/51)        \n",
      "remote: Resolving deltas:  82% (42/51)        \n",
      "remote: Resolving deltas:  84% (43/51)        \n",
      "remote: Resolving deltas:  86% (44/51)        \n",
      "remote: Resolving deltas:  88% (45/51)        \n",
      "remote: Resolving deltas:  90% (46/51)        \n",
      "remote: Resolving deltas:  92% (47/51)        \n",
      "remote: Resolving deltas:  94% (48/51)        \n",
      "remote: Resolving deltas:  96% (49/51)        \n",
      "remote: Resolving deltas:  98% (50/51)        \n",
      "remote: Resolving deltas: 100% (51/51)        \n",
      "remote: Resolving deltas: 100% (51/51), completed with 19 local objects.        \n",
      "remote: error: GH006: Protected branch update failed for refs/heads/main.        \n",
      "remote: error: At least 1 approving review is required by reviewers with write access.        \n",
      "To https://github.com/jetech-trading/jetech-trading.github.io.git\n",
      " ! [remote rejected] main -> main (protected branch hook declined)\n",
      "error: failed to push some refs to 'https://github.com/jetech-trading/jetech-trading.github.io.git'\n"
     ]
    }
   ],
   "source": [
    "!git config --global user.email 'xile803@likelion.org'\n",
    "!git config user.email 'xile803@likelion.org'\n",
    "!git config --global user.name 'jetech-trading'\n",
    "!git config user.name 'jetech-trading'\n",
    "!git add .\n",
    "!git commit -m \"update from windows\"\n",
    "!git push -u origin main"
   ]
  }
 ],
 "metadata": {
  "kernelspec": {
   "display_name": "tf",
   "language": "python",
   "name": "python3"
  },
  "language_info": {
   "codemirror_mode": {
    "name": "ipython",
    "version": 3
   },
   "file_extension": ".py",
   "mimetype": "text/x-python",
   "name": "python",
   "nbconvert_exporter": "python",
   "pygments_lexer": "ipython3",
   "version": "3.9.16"
  }
 },
 "nbformat": 4,
 "nbformat_minor": 2
}