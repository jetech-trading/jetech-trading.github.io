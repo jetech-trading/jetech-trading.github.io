{
 "cells": [
  {
   "cell_type": "code",
   "execution_count": 1,
   "metadata": {
    "ExecuteTime": {
     "end_time": "2023-06-06T15:19:26.079085Z",
     "start_time": "2023-06-06T15:18:48.507459Z"
    }
   },
   "outputs": [
    {
     "name": "stdout",
     "output_type": "stream",
     "text": [
      "\u001b[32m\u001b[1mRunning Jupyter-Book v0.15.1\u001b[0m\n",
      "\u001b[34m\u001b[1mSource Folder: \u001b[0m/content/drive/MyDrive/jetech-trading.github/jetech-trading.github.io\n",
      "\u001b[34m\u001b[1mConfig Path: \u001b[0m/content/drive/MyDrive/jetech-trading.github/jetech-trading.github.io/_config.yml\n",
      "\u001b[34m\u001b[1mOutput Path: \u001b[0m/content/drive/MyDrive/jetech-trading.github/jetech-trading.github.io/_build/html\n",
      "\u001b[01mRunning Sphinx v5.0.2\u001b[39;49;00m\n"
     ]
    },
    {
     "name": "stdout",
     "output_type": "stream",
     "text": [
      "[etoc] Changing master_doc to 'intro'\n",
      "\u001b[01mloading pickled environment... \u001b[39;49;00mdone\n",
      "\u001b[01mmyst v0.18.1:\u001b[39;49;00m MdParserConfig(commonmark_only=False, gfm_only=False, enable_extensions=['colon_fence', 'dollarmath', 'linkify', 'substitution', 'tasklist'], disable_syntax=[], all_links_external=False, url_schemes=['mailto', 'http', 'https'], ref_domains=None, highlight_code_blocks=True, number_code_blocks=[], title_to_header=False, heading_anchors=None, heading_slug_func=None, footnote_transition=True, words_per_minute=200, sub_delimiters=('{', '}'), linkify_fuzzy_links=True, dmath_allow_labels=True, dmath_allow_space=True, dmath_allow_digits=True, dmath_double_inline=False, update_mathjax=True, mathjax_classes='tex2jax_process|mathjax_process|math|output_area')\n",
      "\u001b[01mmyst-nb v0.17.2:\u001b[39;49;00m NbParserConfig(custom_formats={}, metadata_key='mystnb', cell_metadata_key='mystnb', kernel_rgx_aliases={}, execution_mode='force', execution_cache_path='', execution_excludepatterns=[], execution_timeout=30, execution_in_temp=False, execution_allow_errors=False, execution_raise_on_error=False, execution_show_tb=False, merge_streams=False, render_plugin='default', remove_code_source=False, remove_code_outputs=False, code_prompt_show='Show code cell {type}', code_prompt_hide='Hide code cell {type}', number_source_lines=False, output_stderr='show', render_text_lexer='myst-ansi', render_error_lexer='ipythontb', render_image_options={}, render_figure_options={}, render_markdown_format='commonmark', output_folder='build', append_css=True, metadata_to_fm=False)\n",
      "Using jupyter-cache at: /content/drive/MyDrive/jetech-trading.github/jetech-trading.github.io/_build/.jupyter_cache\n",
      "\u001b[01mbuilding [mo]: \u001b[39;49;00mtargets for 0 po files that are out of date\n",
      "\u001b[01mbuilding [html]: \u001b[39;49;00mtargets for 1 source files that are out of date\n",
      "\u001b[01mupdating environment: \u001b[39;49;00m"
     ]
    },
    {
     "name": "stdout",
     "output_type": "stream",
     "text": [
      "1 added, 2 changed, 0 removed\n",
      "\u001b[01mreading sources... \u001b[39;49;00m[ 50%] \u001b[35mresearch/20230712/20230712\u001b[39;49;00m\r",
      "/content/drive/MyDrive/jetech-trading.github/jetech-trading.github.io/research/20230712/20230712.ipynb: Executing notebook using local CWD [mystnb]\n"
     ]
    },
    {
     "name": "stdout",
     "output_type": "stream",
     "text": [
      "/content/drive/MyDrive/jetech-trading.github/jetech-trading.github.io/research/20230712/20230712.ipynb: Executed notebook in 3.04 seconds [mystnb]\n",
      "\u001b[01mreading sources... \u001b[39;49;00m[100%] \u001b[35mresearch/research\u001b[39;49;00m\r\n",
      "\u001b[01mlooking for now-outdated files... \u001b[39;49;00mnone found\n",
      "\u001b[01mpickling environment... \u001b[39;49;00mdone\n",
      "\u001b[01mchecking consistency... \u001b[39;49;00m\u001b[91m/content/drive/MyDrive/jetech-trading.github/jetech-trading.github.io/markdown.md: WARNING: document isn't included in any toctree\u001b[39;49;00m\n",
      "\u001b[91m/content/drive/MyDrive/jetech-trading.github/jetech-trading.github.io/markdown-notebooks.md: WARNING: document isn't included in any toctree\u001b[39;49;00m\n",
      "\u001b[91m/content/drive/MyDrive/jetech-trading.github/jetech-trading.github.io/script.ipynb: WARNING: document isn't included in any toctree\u001b[39;49;00m\n",
      "done\n",
      "\u001b[01mpreparing documents... \u001b[39;49;00mdone\n",
      "\u001b[01mwriting output... \u001b[39;49;00m[ 25%] \u001b[32mintro\u001b[39;49;00m\r"
     ]
    },
    {
     "name": "stdout",
     "output_type": "stream",
     "text": [
      "\u001b[01mwriting output... \u001b[39;49;00m[ 50%] \u001b[32mresearch/20230618\u001b[39;49;00m\r"
     ]
    },
    {
     "name": "stdout",
     "output_type": "stream",
     "text": [
      "\u001b[01mwriting output... \u001b[39;49;00m[ 75%] \u001b[32mresearch/20230712/20230712\u001b[39;49;00m\r",
      "\u001b[01mwriting output... \u001b[39;49;00m[100%] \u001b[32mresearch/research\u001b[39;49;00m\r\n",
      "\u001b[01mgenerating indices... \u001b[39;49;00mgenindex "
     ]
    },
    {
     "name": "stdout",
     "output_type": "stream",
     "text": [
      "done\n",
      "\u001b[01mwriting additional pages... \u001b[39;49;00msearch done\n",
      "\u001b[01mcopying static files... \u001b[39;49;00m"
     ]
    },
    {
     "name": "stdout",
     "output_type": "stream",
     "text": [
      "done\n",
      "\u001b[01mcopying extra files... \u001b[39;49;00mdone\n",
      "\u001b[01mdumping search index in English (code: en)... \u001b[39;49;00mdone\n",
      "\u001b[01mdumping object inventory... \u001b[39;49;00mdone\n",
      "\u001b[01mbuild succeeded, 3 warnings.\u001b[39;49;00m\n",
      "\n",
      "The HTML pages are in _build/html.\n",
      "\n",
      "\u001b[92m===============================================================================\u001b[0m\n",
      "\n",
      "Finished generating HTML for book.\n",
      "Your book's HTML pages are here:\n",
      "    _build/html/\n",
      "You can look at your book by opening this file in a browser:\n",
      "    _build/html/index.html\n",
      "Or paste this line directly into your browser bar:\n",
      "    file:///content/drive/MyDrive/jetech-trading.github/jetech-trading.github.io/_build/html/index.html            \n",
      "\n",
      "\u001b[92m===============================================================================\u001b[0m\n",
      "\n"
     ]
    }
   ],
   "source": [
    "!jupyter-book build ./\n"
   ]
  },
  {
   "cell_type": "code",
   "execution_count": 2,
   "metadata": {},
   "outputs": [
    {
     "name": "stdout",
     "output_type": "stream",
     "text": [
      "Enumerating objects: 30, done.\n",
      "Counting objects:   3% (1/30)\r",
      "Counting objects:   6% (2/30)\r",
      "Counting objects:  10% (3/30)\r",
      "Counting objects:  13% (4/30)\r",
      "Counting objects:  16% (5/30)\r",
      "Counting objects:  20% (6/30)\r",
      "Counting objects:  23% (7/30)\r",
      "Counting objects:  26% (8/30)\r",
      "Counting objects:  30% (9/30)\r",
      "Counting objects:  33% (10/30)\r",
      "Counting objects:  36% (11/30)\r",
      "Counting objects:  40% (12/30)\r",
      "Counting objects:  43% (13/30)\r",
      "Counting objects:  46% (14/30)\r",
      "Counting objects:  50% (15/30)\r",
      "Counting objects:  53% (16/30)\r"
     ]
    },
    {
     "name": "stdout",
     "output_type": "stream",
     "text": [
      "Counting objects:  56% (17/30)\r",
      "Counting objects:  60% (18/30)\r",
      "Counting objects:  63% (19/30)\r",
      "Counting objects:  66% (20/30)\r",
      "Counting objects:  70% (21/30)\r",
      "Counting objects:  73% (22/30)\r",
      "Counting objects:  76% (23/30)\r"
     ]
    },
    {
     "name": "stdout",
     "output_type": "stream",
     "text": [
      "Counting objects:  80% (24/30)\r",
      "Counting objects:  83% (25/30)\r",
      "Counting objects:  86% (26/30)\r",
      "Counting objects:  90% (27/30)\r",
      "Counting objects:  93% (28/30)\r",
      "Counting objects:  96% (29/30)\r",
      "Counting objects: 100% (30/30)\r",
      "Counting objects: 100% (30/30), done.\n",
      "Delta compression using up to 2 threads\n",
      "Compressing objects:   6% (1/16)\r",
      "Compressing objects:  12% (2/16)\r",
      "Compressing objects:  18% (3/16)\r",
      "Compressing objects:  25% (4/16)\r",
      "Compressing objects:  31% (5/16)\r",
      "Compressing objects:  37% (6/16)\r",
      "Compressing objects:  43% (7/16)\r",
      "Compressing objects:  50% (8/16)\r",
      "Compressing objects:  56% (9/16)\r",
      "Compressing objects:  62% (10/16)\r",
      "Compressing objects:  68% (11/16)\r",
      "Compressing objects:  75% (12/16)\r",
      "Compressing objects:  81% (13/16)\r",
      "Compressing objects:  87% (14/16)\r",
      "Compressing objects:  93% (15/16)\r",
      "Compressing objects: 100% (16/16)\r",
      "Compressing objects: 100% (16/16), done.\n"
     ]
    },
    {
     "name": "stdout",
     "output_type": "stream",
     "text": [
      "Writing objects:   5% (1/19)\r",
      "Writing objects:  10% (2/19)\r",
      "Writing objects:  15% (3/19)\r",
      "Writing objects:  21% (4/19)\r",
      "Writing objects:  26% (5/19)\r",
      "Writing objects:  31% (6/19)\r",
      "Writing objects:  36% (7/19)\r",
      "Writing objects:  42% (8/19)\r",
      "Writing objects:  47% (9/19)\r",
      "Writing objects:  52% (10/19)\r",
      "Writing objects:  63% (12/19)\r",
      "Writing objects:  68% (13/19)\r",
      "Writing objects:  73% (14/19)\r",
      "Writing objects:  78% (15/19)\r",
      "Writing objects:  84% (16/19)\r",
      "Writing objects:  89% (17/19)\r",
      "Writing objects:  94% (18/19)\r",
      "Writing objects: 100% (19/19)\r",
      "Writing objects: 100% (19/19), 632.81 KiB | 4.19 MiB/s, done.\n",
      "Total 19 (delta 13), reused 0 (delta 0)\n"
     ]
    },
    {
     "name": "stdout",
     "output_type": "stream",
     "text": [
      "remote: Resolving deltas:   0% (0/13)\u001b[K\r",
      "remote: Resolving deltas:   7% (1/13)\u001b[K\r",
      "remote: Resolving deltas:  15% (2/13)\u001b[K\r",
      "remote: Resolving deltas:  23% (3/13)\u001b[K\r",
      "remote: Resolving deltas:  30% (4/13)\u001b[K\r",
      "remote: Resolving deltas:  38% (5/13)\u001b[K\r",
      "remote: Resolving deltas:  46% (6/13)\u001b[K\r",
      "remote: Resolving deltas:  53% (7/13)\u001b[K\r",
      "remote: Resolving deltas:  61% (8/13)\u001b[K\r",
      "remote: Resolving deltas:  69% (9/13)\u001b[K\r",
      "remote: Resolving deltas:  76% (10/13)\u001b[K\r",
      "remote: Resolving deltas:  84% (11/13)\u001b[K\r",
      "remote: Resolving deltas:  92% (12/13)\u001b[K\r",
      "remote: Resolving deltas: 100% (13/13)\u001b[K\r",
      "remote: Resolving deltas: 100% (13/13), completed with 10 local objects.\u001b[K\n"
     ]
    },
    {
     "name": "stdout",
     "output_type": "stream",
     "text": [
      "To https://github.com/jetech-trading/jetech-trading.github.io.git\n",
      "   fd0fc14..169dd14  gh-pages -> gh-pages\n"
     ]
    }
   ],
   "source": [
    "!ghp-import -n -p -f _build/html"
   ]
  },
  {
   "cell_type": "code",
   "execution_count": 3,
   "metadata": {
    "ExecuteTime": {
     "end_time": "2023-06-06T15:23:54.814461Z",
     "start_time": "2023-06-06T15:23:53.368985Z"
    }
   },
   "outputs": [
    {
     "name": "stdout",
     "output_type": "stream",
     "text": [
      "[main ba2c96b] update from windows\n"
     ]
    },
    {
     "name": "stdout",
     "output_type": "stream",
     "text": [
      " 32 files changed, 51319 insertions(+), 1229 deletions(-)\n",
      " rewrite _build/.doctrees/environment.pickle (76%)\n",
      " create mode 100644 _build/.doctrees/research/20230712/20230712.doctree\n",
      " rewrite _build/.doctrees/script.doctree (78%)\n",
      " create mode 100644 _build/html/_sources/research/20230712/20230712.ipynb\n",
      " rewrite _build/html/objects.inv (77%)\n",
      " create mode 100644 _build/html/research/20230618 (1).html\n",
      " create mode 100644 _build/html/research/20230618.slides.html\n",
      " create mode 100644 _build/html/research/20230712/20230712.html\n",
      " rewrite _build/html/searchindex.js (97%)\n",
      " create mode 100644 _build/html/slides/20230630.slides.html\n",
      " create mode 100644 _build/jupyter_execute/research/20230712/20230712.ipynb\n",
      " rewrite _build/jupyter_execute/script.ipynb (67%)\n",
      " create mode 100644 research/20230630/20230630.slides.html\n",
      " create mode 100644 research/20230712/20230712.ipynb\n"
     ]
    },
    {
     "name": "stdout",
     "output_type": "stream",
     "text": [
      "^C\n"
     ]
    }
   ],
   "source": [
    "\n",
    "!git config user.email 'xile803@likelion.org'\n",
    "!git config user.name 'jetech-trading'\n",
    "!git add .\n",
    "!git commit -m \"update from windows\"\n",
    "!git push -u origin main"
   ]
  },
  {
   "cell_type": "code",
   "execution_count": 14,
   "metadata": {
    "ExecuteTime": {
     "end_time": "2023-06-06T15:24:20.601443Z",
     "start_time": "2023-06-06T15:24:20.447076Z"
    }
   },
   "outputs": [
    {
     "name": "stdout",
     "output_type": "stream",
     "text": [
      "jetech-trading\r\n"
     ]
    }
   ],
   "source": [
    "!git config user.name"
   ]
  },
  {
   "cell_type": "code",
   "execution_count": 15,
   "metadata": {
    "ExecuteTime": {
     "end_time": "2023-06-06T15:24:25.607288Z",
     "start_time": "2023-06-06T15:24:25.451632Z"
    },
    "collapsed": false
   },
   "outputs": [
    {
     "name": "stdout",
     "output_type": "stream",
     "text": [
      "wpgus1995!\r\n"
     ]
    }
   ],
   "source": [
    "!git config user.password"
   ]
  },
  {
   "cell_type": "code",
   "execution_count": null,
   "metadata": {
    "collapsed": false
   },
   "outputs": [],
   "source": []
  }
 ],
 "metadata": {
  "kernelspec": {
   "display_name": "tf",
   "language": "python",
   "name": "python3"
  },
  "language_info": {
   "codemirror_mode": {
    "name": "ipython",
    "version": 3
   },
   "file_extension": ".py",
   "mimetype": "text/x-python",
   "name": "python",
   "nbconvert_exporter": "python",
   "pygments_lexer": "ipython3",
   "version": "3.10.12"
  }
 },
 "nbformat": 4,
 "nbformat_minor": 2
}