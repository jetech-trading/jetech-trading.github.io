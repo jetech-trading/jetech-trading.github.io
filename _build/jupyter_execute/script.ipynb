{
 "cells": [
  {
   "cell_type": "code",
   "execution_count": 1,
   "metadata": {
    "ExecuteTime": {
     "end_time": "2023-06-06T15:19:26.079085Z",
     "start_time": "2023-06-06T15:18:48.507459Z"
    }
   },
   "outputs": [
    {
     "name": "stdout",
     "output_type": "stream",
     "text": [
      "\u001b[32m\u001b[1mRunning Jupyter-Book v0.15.1\u001b[0m\n",
      "\u001b[34m\u001b[1mSource Folder: \u001b[0m/content/drive/MyDrive/jetech-trading.github/jetech-trading.github.io\n",
      "\u001b[34m\u001b[1mConfig Path: \u001b[0m/content/drive/MyDrive/jetech-trading.github/jetech-trading.github.io/_config.yml\n",
      "\u001b[34m\u001b[1mOutput Path: \u001b[0m/content/drive/MyDrive/jetech-trading.github/jetech-trading.github.io/_build/html\n",
      "\u001b[01mRunning Sphinx v5.0.2\u001b[39;49;00m\n"
     ]
    },
    {
     "name": "stdout",
     "output_type": "stream",
     "text": [
      "[etoc] Changing master_doc to 'intro'\n",
      "\u001b[01mloading pickled environment... \u001b[39;49;00mdone\n",
      "\u001b[01mmyst v0.18.1:\u001b[39;49;00m MdParserConfig(commonmark_only=False, gfm_only=False, enable_extensions=['colon_fence', 'dollarmath', 'linkify', 'substitution', 'tasklist'], disable_syntax=[], all_links_external=False, url_schemes=['mailto', 'http', 'https'], ref_domains=None, highlight_code_blocks=True, number_code_blocks=[], title_to_header=False, heading_anchors=None, heading_slug_func=None, footnote_transition=True, words_per_minute=200, sub_delimiters=('{', '}'), linkify_fuzzy_links=True, dmath_allow_labels=True, dmath_allow_space=True, dmath_allow_digits=True, dmath_double_inline=False, update_mathjax=True, mathjax_classes='tex2jax_process|mathjax_process|math|output_area')\n",
      "\u001b[01mmyst-nb v0.17.2:\u001b[39;49;00m NbParserConfig(custom_formats={}, metadata_key='mystnb', cell_metadata_key='mystnb', kernel_rgx_aliases={}, execution_mode='force', execution_cache_path='', execution_excludepatterns=[], execution_timeout=30, execution_in_temp=False, execution_allow_errors=False, execution_raise_on_error=False, execution_show_tb=False, merge_streams=False, render_plugin='default', remove_code_source=False, remove_code_outputs=False, code_prompt_show='Show code cell {type}', code_prompt_hide='Hide code cell {type}', number_source_lines=False, output_stderr='show', render_text_lexer='myst-ansi', render_error_lexer='ipythontb', render_image_options={}, render_figure_options={}, render_markdown_format='commonmark', output_folder='build', append_css=True, metadata_to_fm=False)\n",
      "Using jupyter-cache at: /content/drive/MyDrive/jetech-trading.github/jetech-trading.github.io/_build/.jupyter_cache\n",
      "\u001b[01mbuilding [mo]: \u001b[39;49;00mtargets for 0 po files that are out of date\n",
      "\u001b[01mbuilding [html]: \u001b[39;49;00mtargets for 0 source files that are out of date\n",
      "\u001b[01mupdating environment: \u001b[39;49;00m"
     ]
    },
    {
     "name": "stdout",
     "output_type": "stream",
     "text": [
      "0 added, 0 changed, 0 removed\n",
      "\u001b[01mlooking for now-outdated files... \u001b[39;49;00mnone found\n",
      "\u001b[01mno targets are out of date.\u001b[39;49;00m\n",
      "\u001b[01mbuild succeeded.\u001b[39;49;00m\n",
      "\n",
      "The HTML pages are in _build/html.\n",
      "\n",
      "\u001b[92m===============================================================================\u001b[0m\n",
      "\n",
      "Finished generating HTML for book.\n",
      "Your book's HTML pages are here:\n",
      "    _build/html/\n",
      "You can look at your book by opening this file in a browser:\n",
      "    _build/html/index.html\n",
      "Or paste this line directly into your browser bar:\n",
      "    file:///content/drive/MyDrive/jetech-trading.github/jetech-trading.github.io/_build/html/index.html            \n",
      "\n",
      "\u001b[92m===============================================================================\u001b[0m\n",
      "\n"
     ]
    }
   ],
   "source": [
    "!jupyter-book build ./\n"
   ]
  },
  {
   "cell_type": "code",
   "execution_count": 2,
   "metadata": {},
   "outputs": [
    {
     "name": "stdout",
     "output_type": "stream",
     "text": [
      "Enumerating objects: 1, done.\n",
      "Counting objects: 100% (1/1)\r",
      "Counting objects: 100% (1/1), done.\n",
      "Writing objects: 100% (1/1)\r",
      "Writing objects: 100% (1/1), 194 bytes | 38.00 KiB/s, done.\n",
      "Total 1 (delta 0), reused 0 (delta 0)\n"
     ]
    },
    {
     "name": "stdout",
     "output_type": "stream",
     "text": [
      "To https://github.com/jetech-trading/jetech-trading.github.io.git\n",
      "   c411aec..a8c8124  gh-pages -> gh-pages\n"
     ]
    }
   ],
   "source": [
    "!ghp-import -n -p -f _build/html"
   ]
  },
  {
   "cell_type": "code",
   "execution_count": 3,
   "metadata": {
    "ExecuteTime": {
     "end_time": "2023-06-06T15:23:54.814461Z",
     "start_time": "2023-06-06T15:23:53.368985Z"
    }
   },
   "outputs": [
    {
     "name": "stdout",
     "output_type": "stream",
     "text": [
      "[main 4355dbf] update from windows\n",
      " 21 files changed, 482 insertions(+), 17251 deletions(-)\n",
      " rewrite _build/html/searchindex.js (86%)\n",
      " delete mode 100644 _build/html/slides/20230630.slides.html\n"
     ]
    },
    {
     "name": "stdout",
     "output_type": "stream",
     "text": [
      "Enumerating objects: 1\r",
      "Enumerating objects: 141, done.\n",
      "Counting objects:   0% (1/141)\r",
      "Counting objects:   1% (2/141)\r",
      "Counting objects:   2% (3/141)\r",
      "Counting objects:   3% (5/141)\r",
      "Counting objects:   4% (6/141)\r",
      "Counting objects:   5% (8/141)\r",
      "Counting objects:   6% (9/141)\r",
      "Counting objects:   7% (10/141)\r",
      "Counting objects:   8% (12/141)\r",
      "Counting objects:   9% (13/141)\r",
      "Counting objects:  10% (15/141)\r",
      "Counting objects:  11% (16/141)\r",
      "Counting objects:  12% (17/141)\r",
      "Counting objects:  13% (19/141)\r",
      "Counting objects:  14% (20/141)\r",
      "Counting objects:  15% (22/141)\r",
      "Counting objects:  16% (23/141)\r",
      "Counting objects:  17% (24/141)\r",
      "Counting objects:  18% (26/141)\r",
      "Counting objects:  19% (27/141)\r",
      "Counting objects:  20% (29/141)\r",
      "Counting objects:  21% (30/141)\r",
      "Counting objects:  22% (32/141)\r",
      "Counting objects:  23% (33/141)\r",
      "Counting objects:  24% (34/141)\r",
      "Counting objects:  25% (36/141)\r",
      "Counting objects:  26% (37/141)\r",
      "Counting objects:  27% (39/141)\r",
      "Counting objects:  28% (40/141)\r",
      "Counting objects:  29% (41/141)\r",
      "Counting objects:  30% (43/141)\r",
      "Counting objects:  31% (44/141)\r",
      "Counting objects:  32% (46/141)\r",
      "Counting objects:  33% (47/141)\r",
      "Counting objects:  34% (48/141)\r",
      "Counting objects:  35% (50/141)\r",
      "Counting objects:  36% (51/141)\r",
      "Counting objects:  37% (53/141)\r",
      "Counting objects:  38% (54/141)\r",
      "Counting objects:  39% (55/141)\r",
      "Counting objects:  40% (57/141)\r",
      "Counting objects:  41% (58/141)\r",
      "Counting objects:  42% (60/141)\r",
      "Counting objects:  43% (61/141)\r",
      "Counting objects:  44% (63/141)\r",
      "Counting objects:  45% (64/141)\r",
      "Counting objects:  46% (65/141)\r",
      "Counting objects:  47% (67/141)\r",
      "Counting objects:  48% (68/141)\r",
      "Counting objects:  49% (70/141)\r",
      "Counting objects:  50% (71/141)\r",
      "Counting objects:  51% (72/141)\r",
      "Counting objects:  52% (74/141)\r",
      "Counting objects:  53% (75/141)\r",
      "Counting objects:  54% (77/141)\r",
      "Counting objects:  55% (78/141)\r",
      "Counting objects:  56% (79/141)\r",
      "Counting objects:  57% (81/141)\r",
      "Counting objects:  58% (82/141)\r",
      "Counting objects:  59% (84/141)\r",
      "Counting objects:  60% (85/141)\r",
      "Counting objects:  61% (87/141)\r",
      "Counting objects:  62% (88/141)\r",
      "Counting objects:  63% (89/141)\r",
      "Counting objects:  64% (91/141)\r",
      "Counting objects:  65% (92/141)\r",
      "Counting objects:  66% (94/141)\r",
      "Counting objects:  67% (95/141)\r",
      "Counting objects:  68% (96/141)\r",
      "Counting objects:  69% (98/141)\r",
      "Counting objects:  70% (99/141)\r",
      "Counting objects:  71% (101/141)\r",
      "Counting objects:  72% (102/141)\r",
      "Counting objects:  73% (103/141)\r",
      "Counting objects:  74% (105/141)\r",
      "Counting objects:  75% (106/141)\r",
      "Counting objects:  76% (108/141)\r",
      "Counting objects:  77% (109/141)\r",
      "Counting objects:  78% (110/141)\r",
      "Counting objects:  79% (112/141)\r",
      "Counting objects:  80% (113/141)\r",
      "Counting objects:  81% (115/141)\r",
      "Counting objects:  82% (116/141)\r",
      "Counting objects:  83% (118/141)\r",
      "Counting objects:  84% (119/141)\r",
      "Counting objects:  85% (120/141)\r",
      "Counting objects:  86% (122/141)\r",
      "Counting objects:  87% (123/141)\r",
      "Counting objects:  88% (125/141)\r",
      "Counting objects:  89% (126/141)\r",
      "Counting objects:  90% (127/141)\r",
      "Counting objects:  91% (129/141)\r",
      "Counting objects:  92% (130/141)\r",
      "Counting objects:  93% (132/141)\r",
      "Counting objects:  94% (133/141)\r",
      "Counting objects:  95% (134/141)\r",
      "Counting objects:  96% (136/141)\r",
      "Counting objects:  97% (137/141)\r",
      "Counting objects:  98% (139/141)\r",
      "Counting objects:  99% (140/141)\r",
      "Counting objects: 100% (141/141)\r",
      "Counting objects: 100% (141/141), done.\n",
      "Delta compression using up to 2 threads\n",
      "Compressing objects:   1% (1/81)\r",
      "Compressing objects:   2% (2/81)\r",
      "Compressing objects:   3% (3/81)\r",
      "Compressing objects:   4% (4/81)\r",
      "Compressing objects:   6% (5/81)\r",
      "Compressing objects:   7% (6/81)\r",
      "Compressing objects:   8% (7/81)\r",
      "Compressing objects:   9% (8/81)\r",
      "Compressing objects:  11% (9/81)\r",
      "Compressing objects:  12% (10/81)\r",
      "Compressing objects:  13% (11/81)\r",
      "Compressing objects:  14% (12/81)\r",
      "Compressing objects:  16% (13/81)\r"
     ]
    },
    {
     "name": "stdout",
     "output_type": "stream",
     "text": [
      "Compressing objects:  17% (14/81)\r",
      "Compressing objects:  18% (15/81)\r",
      "Compressing objects:  19% (16/81)\r",
      "Compressing objects:  20% (17/81)\r",
      "Compressing objects:  22% (18/81)\r",
      "Compressing objects:  23% (19/81)\r",
      "Compressing objects:  24% (20/81)\r",
      "Compressing objects:  25% (21/81)\r",
      "Compressing objects:  27% (22/81)\r",
      "Compressing objects:  28% (23/81)\r",
      "Compressing objects:  29% (24/81)\r",
      "Compressing objects:  30% (25/81)\r",
      "Compressing objects:  32% (26/81)\r",
      "Compressing objects:  33% (27/81)\r",
      "Compressing objects:  34% (28/81)\r",
      "Compressing objects:  35% (29/81)\r",
      "Compressing objects:  37% (30/81)\r",
      "Compressing objects:  38% (31/81)\r",
      "Compressing objects:  39% (32/81)\r",
      "Compressing objects:  40% (33/81)\r",
      "Compressing objects:  41% (34/81)\r",
      "Compressing objects:  43% (35/81)\r",
      "Compressing objects:  44% (36/81)\r",
      "Compressing objects:  45% (37/81)\r",
      "Compressing objects:  46% (38/81)\r",
      "Compressing objects:  48% (39/81)\r",
      "Compressing objects:  49% (40/81)\r",
      "Compressing objects:  50% (41/81)\r",
      "Compressing objects:  51% (42/81)\r",
      "Compressing objects:  53% (43/81)\r",
      "Compressing objects:  54% (44/81)\r",
      "Compressing objects:  55% (45/81)\r",
      "Compressing objects:  56% (46/81)\r",
      "Compressing objects:  58% (47/81)\r",
      "Compressing objects:  59% (48/81)\r",
      "Compressing objects:  60% (49/81)\r",
      "Compressing objects:  61% (50/81)\r",
      "Compressing objects:  62% (51/81)\r",
      "Compressing objects:  64% (52/81)\r",
      "Compressing objects:  65% (53/81)\r",
      "Compressing objects:  66% (54/81)\r",
      "Compressing objects:  67% (55/81)\r",
      "Compressing objects:  69% (56/81)\r",
      "Compressing objects:  70% (57/81)\r",
      "Compressing objects:  71% (58/81)\r",
      "Compressing objects:  72% (59/81)\r",
      "Compressing objects:  74% (60/81)\r",
      "Compressing objects:  75% (61/81)\r",
      "Compressing objects:  76% (62/81)\r",
      "Compressing objects:  77% (63/81)\r",
      "Compressing objects:  79% (64/81)\r",
      "Compressing objects:  80% (65/81)\r",
      "Compressing objects:  81% (66/81)\r",
      "Compressing objects:  82% (67/81)\r",
      "Compressing objects:  83% (68/81)\r",
      "Compressing objects:  85% (69/81)\r",
      "Compressing objects:  86% (70/81)\r",
      "Compressing objects:  87% (71/81)\r",
      "Compressing objects:  88% (72/81)\r",
      "Compressing objects:  90% (73/81)\r"
     ]
    },
    {
     "name": "stdout",
     "output_type": "stream",
     "text": [
      "Compressing objects:  91% (74/81)\r",
      "Compressing objects:  92% (75/81)\r",
      "Compressing objects:  93% (76/81)\r",
      "Compressing objects:  95% (77/81)\r",
      "Compressing objects:  96% (78/81)\r",
      "Compressing objects:  97% (79/81)\r",
      "Compressing objects:  98% (80/81)\r",
      "Compressing objects: 100% (81/81)\r",
      "Compressing objects: 100% (81/81), done.\n",
      "Writing objects:   1% (1/96)\r",
      "Writing objects:   2% (2/96)\r",
      "Writing objects:   3% (3/96)\r",
      "Writing objects:   4% (4/96)\r",
      "Writing objects:   5% (5/96)\r",
      "Writing objects:   6% (6/96)\r",
      "Writing objects:   7% (7/96)\r",
      "Writing objects:   9% (9/96)\r",
      "Writing objects:  10% (10/96)\r",
      "Writing objects:  11% (11/96)\r",
      "Writing objects:  12% (12/96)\r",
      "Writing objects:  13% (13/96)\r",
      "Writing objects:  14% (14/96)\r",
      "Writing objects:  15% (15/96)\r",
      "Writing objects:  16% (16/96)\r",
      "Writing objects:  17% (17/96)\r",
      "Writing objects:  18% (18/96)\r",
      "Writing objects:  20% (20/96)\r",
      "Writing objects:  21% (21/96)\r",
      "Writing objects:  22% (22/96)\r",
      "Writing objects:  23% (23/96)\r",
      "Writing objects:  25% (24/96)\r",
      "Writing objects:  26% (25/96)\r",
      "Writing objects:  27% (26/96)\r",
      "Writing objects:  28% (27/96)\r",
      "Writing objects:  29% (28/96)\r",
      "Writing objects:  30% (29/96)\r",
      "Writing objects:  31% (30/96)\r",
      "Writing objects:  32% (31/96)\r",
      "Writing objects:  33% (32/96)\r",
      "Writing objects:  34% (33/96)\r",
      "Writing objects:  35% (34/96)\r",
      "Writing objects:  36% (35/96)\r",
      "Writing objects:  38% (37/96)\r",
      "Writing objects:  39% (38/96)\r",
      "Writing objects:  40% (39/96)\r",
      "Writing objects:  41% (40/96)\r",
      "Writing objects:  42% (41/96)\r",
      "Writing objects:  43% (42/96)\r",
      "Writing objects:  44% (43/96)\r",
      "Writing objects:  45% (44/96)\r",
      "Writing objects:  46% (45/96)\r",
      "Writing objects:  47% (46/96)\r",
      "Writing objects:  48% (47/96)\r",
      "Writing objects:  50% (48/96)\r",
      "Writing objects:  51% (49/96)\r",
      "Writing objects:  52% (50/96)\r",
      "Writing objects:  53% (51/96)\r",
      "Writing objects:  54% (52/96)\r",
      "Writing objects:  55% (53/96)\r",
      "Writing objects:  56% (54/96)\r",
      "Writing objects:  57% (55/96)\r",
      "Writing objects:  58% (56/96)\r",
      "Writing objects:  59% (57/96)\r",
      "Writing objects:  60% (58/96)\r",
      "Writing objects:  61% (59/96)\r",
      "Writing objects:  62% (60/96)\r"
     ]
    },
    {
     "name": "stdout",
     "output_type": "stream",
     "text": [
      "Writing objects:  63% (61/96)\r",
      "Writing objects:  64% (62/96)\r",
      "Writing objects:  65% (63/96)\r",
      "Writing objects:  66% (64/96)\r"
     ]
    },
    {
     "name": "stdout",
     "output_type": "stream",
     "text": [
      "Writing objects:  67% (65/96), 1.05 MiB | 2.01 MiB/s\r",
      "Writing objects:  68% (66/96), 1.05 MiB | 2.01 MiB/s\r",
      "Writing objects:  69% (67/96), 1.05 MiB | 2.01 MiB/s\r",
      "Writing objects:  70% (68/96), 1.05 MiB | 2.01 MiB/s\r",
      "Writing objects:  71% (69/96), 1.05 MiB | 2.01 MiB/s\r",
      "Writing objects:  72% (70/96), 1.05 MiB | 2.01 MiB/s\r",
      "Writing objects:  73% (71/96), 1.05 MiB | 2.01 MiB/s\r",
      "Writing objects:  75% (72/96), 1.05 MiB | 2.01 MiB/s\r",
      "Writing objects:  76% (73/96), 1.05 MiB | 2.01 MiB/s\r",
      "Writing objects:  77% (74/96), 1.05 MiB | 2.01 MiB/s\r",
      "Writing objects:  78% (75/96), 1.05 MiB | 2.01 MiB/s\r",
      "Writing objects:  79% (76/96), 1.05 MiB | 2.01 MiB/s\r",
      "Writing objects:  80% (77/96), 1.05 MiB | 2.01 MiB/s\r",
      "Writing objects:  81% (78/96), 1.05 MiB | 2.01 MiB/s\r",
      "Writing objects:  82% (79/96), 1.05 MiB | 2.01 MiB/s\r",
      "Writing objects:  83% (80/96), 1.05 MiB | 2.01 MiB/s\r",
      "Writing objects:  84% (81/96), 1.05 MiB | 2.01 MiB/s\r",
      "Writing objects:  85% (82/96), 1.05 MiB | 2.01 MiB/s\r",
      "Writing objects:  86% (83/96), 1.05 MiB | 2.01 MiB/s\r",
      "Writing objects:  87% (84/96), 1.05 MiB | 2.01 MiB/s\r",
      "Writing objects:  88% (85/96), 1.05 MiB | 2.01 MiB/s\r",
      "Writing objects:  89% (86/96), 1.05 MiB | 2.01 MiB/s\r",
      "Writing objects:  90% (87/96), 1.05 MiB | 2.01 MiB/s\r",
      "Writing objects:  91% (88/96), 1.05 MiB | 2.01 MiB/s\r",
      "Writing objects:  92% (89/96), 1.05 MiB | 2.01 MiB/s\r",
      "Writing objects:  93% (90/96), 1.05 MiB | 2.01 MiB/s\r",
      "Writing objects:  94% (91/96), 1.05 MiB | 2.01 MiB/s\r",
      "Writing objects:  95% (92/96), 1.05 MiB | 2.01 MiB/s\r",
      "Writing objects:  96% (93/96), 1.05 MiB | 2.01 MiB/s\r",
      "Writing objects:  97% (94/96), 1.05 MiB | 2.01 MiB/s\r",
      "Writing objects:  98% (95/96), 1.05 MiB | 2.01 MiB/s\r",
      "Writing objects: 100% (96/96), 1.05 MiB | 2.01 MiB/s\r",
      "Writing objects: 100% (96/96), 1.41 MiB | 2.24 MiB/s, done.\n",
      "Total 96 (delta 58), reused 0 (delta 0)\n",
      "remote: Resolving deltas:   0% (0/58)\u001b[K\r",
      "remote: Resolving deltas:   1% (1/58)\u001b[K\r",
      "remote: Resolving deltas:   3% (2/58)\u001b[K\r",
      "remote: Resolving deltas:   5% (3/58)\u001b[K\r",
      "remote: Resolving deltas:   6% (4/58)\u001b[K\r",
      "remote: Resolving deltas:   8% (5/58)\u001b[K\r",
      "remote: Resolving deltas:  10% (6/58)\u001b[K\r",
      "remote: Resolving deltas:  12% (7/58)\u001b[K\r",
      "remote: Resolving deltas:  13% (8/58)\u001b[K\r",
      "remote: Resolving deltas:  15% (9/58)\u001b[K\r",
      "remote: Resolving deltas:  17% (10/58)\u001b[K\r",
      "remote: Resolving deltas:  18% (11/58)\u001b[K\r",
      "remote: Resolving deltas:  20% (12/58)\u001b[K\r",
      "remote: Resolving deltas:  22% (13/58)\u001b[K\r",
      "remote: Resolving deltas:  24% (14/58)\u001b[K\r",
      "remote: Resolving deltas:  25% (15/58)\u001b[K\r",
      "remote: Resolving deltas:  27% (16/58)\u001b[K\r",
      "remote: Resolving deltas:  29% (17/58)\u001b[K\r",
      "remote: Resolving deltas:  31% (18/58)\u001b[K\r",
      "remote: Resolving deltas:  32% (19/58)\u001b[K\r",
      "remote: Resolving deltas:  34% (20/58)\u001b[K\r",
      "remote: Resolving deltas:  36% (21/58)\u001b[K\r",
      "remote: Resolving deltas:  37% (22/58)\u001b[K\r",
      "remote: Resolving deltas:  39% (23/58)\u001b[K\r",
      "remote: Resolving deltas:  41% (24/58)\u001b[K\r",
      "remote: Resolving deltas:  43% (25/58)\u001b[K\r",
      "remote: Resolving deltas:  44% (26/58)\u001b[K\r",
      "remote: Resolving deltas:  46% (27/58)\u001b[K\r",
      "remote: Resolving deltas:  48% (28/58)\u001b[K\r",
      "remote: Resolving deltas:  50% (29/58)\u001b[K\r",
      "remote: Resolving deltas:  51% (30/58)\u001b[K\r",
      "remote: Resolving deltas:  53% (31/58)\u001b[K\r",
      "remote: Resolving deltas:  55% (32/58)\u001b[K\r",
      "remote: Resolving deltas:  56% (33/58)\u001b[K\r",
      "remote: Resolving deltas:  58% (34/58)\u001b[K\r",
      "remote: Resolving deltas:  60% (35/58)\u001b[K\r"
     ]
    },
    {
     "name": "stdout",
     "output_type": "stream",
     "text": [
      "remote: Resolving deltas:  62% (36/58)\u001b[K\r",
      "remote: Resolving deltas:  63% (37/58)\u001b[K\r",
      "remote: Resolving deltas:  65% (38/58)\u001b[K\r",
      "remote: Resolving deltas:  67% (39/58)\u001b[K\r",
      "remote: Resolving deltas:  68% (40/58)\u001b[K\r",
      "remote: Resolving deltas:  70% (41/58)\u001b[K\r",
      "remote: Resolving deltas:  72% (42/58)\u001b[K\r",
      "remote: Resolving deltas:  74% (43/58)\u001b[K\r",
      "remote: Resolving deltas:  75% (44/58)\u001b[K\r",
      "remote: Resolving deltas:  77% (45/58)\u001b[K\r",
      "remote: Resolving deltas:  79% (46/58)\u001b[K\r",
      "remote: Resolving deltas:  81% (47/58)\u001b[K\r",
      "remote: Resolving deltas:  82% (48/58)\u001b[K\r",
      "remote: Resolving deltas:  84% (49/58)\u001b[K\r",
      "remote: Resolving deltas:  86% (50/58)\u001b[K\r",
      "remote: Resolving deltas:  87% (51/58)\u001b[K\r",
      "remote: Resolving deltas:  89% (52/58)\u001b[K\r",
      "remote: Resolving deltas:  91% (53/58)\u001b[K\r",
      "remote: Resolving deltas:  93% (54/58)\u001b[K\r",
      "remote: Resolving deltas:  94% (55/58)\u001b[K\r",
      "remote: Resolving deltas:  96% (56/58)\u001b[K\r",
      "remote: Resolving deltas:  98% (57/58)\u001b[K\r",
      "remote: Resolving deltas: 100% (58/58)\u001b[K\r",
      "remote: Resolving deltas: 100% (58/58), completed with 30 local objects.\u001b[K\n"
     ]
    },
    {
     "name": "stdout",
     "output_type": "stream",
     "text": [
      "To https://github.com/jetech-trading/jetech-trading.github.io.git\n",
      "   4c7058e..4355dbf  main -> main\n",
      "Branch 'main' set up to track remote branch 'main' from 'origin'.\n"
     ]
    }
   ],
   "source": [
    "\n",
    "!git config user.email 'xile803@likelion.org'\n",
    "!git config user.name 'jetech-trading'\n",
    "!git add .\n",
    "!git commit -m \"update from windows\"\n",
    "!git push -u origin main"
   ]
  },
  {
   "cell_type": "code",
   "execution_count": 4,
   "metadata": {
    "ExecuteTime": {
     "end_time": "2023-06-06T15:24:20.601443Z",
     "start_time": "2023-06-06T15:24:20.447076Z"
    }
   },
   "outputs": [
    {
     "name": "stdout",
     "output_type": "stream",
     "text": [
      "jetech-trading\n"
     ]
    }
   ],
   "source": [
    "!git config user.name"
   ]
  },
  {
   "cell_type": "code",
   "execution_count": 5,
   "metadata": {
    "ExecuteTime": {
     "end_time": "2023-06-06T15:24:25.607288Z",
     "start_time": "2023-06-06T15:24:25.451632Z"
    },
    "collapsed": false
   },
   "outputs": [],
   "source": [
    "!git config user.password"
   ]
  },
  {
   "cell_type": "code",
   "execution_count": null,
   "metadata": {
    "collapsed": false
   },
   "outputs": [],
   "source": []
  }
 ],
 "metadata": {
  "kernelspec": {
   "display_name": "tf",
   "language": "python",
   "name": "python3"
  },
  "language_info": {
   "codemirror_mode": {
    "name": "ipython",
    "version": 3
   },
   "file_extension": ".py",
   "mimetype": "text/x-python",
   "name": "python",
   "nbconvert_exporter": "python",
   "pygments_lexer": "ipython3",
   "version": "3.10.12"
  }
 },
 "nbformat": 4,
 "nbformat_minor": 2
}