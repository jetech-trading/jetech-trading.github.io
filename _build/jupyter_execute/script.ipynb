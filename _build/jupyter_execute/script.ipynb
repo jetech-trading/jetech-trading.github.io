{
 "cells": [
  {
   "cell_type": "code",
   "execution_count": 1,
   "metadata": {
    "ExecuteTime": {
     "end_time": "2023-06-06T15:19:26.079085Z",
     "start_time": "2023-06-06T15:18:48.507459Z"
    }
   },
   "outputs": [
    {
     "name": "stdout",
     "output_type": "stream",
     "text": [
      "\u001b[32m\u001b[1mRunning Jupyter-Book v0.15.1\u001b[0m\n",
      "\u001b[34m\u001b[1mSource Folder: \u001b[0m/content/drive/MyDrive/jetech-trading.github/jetech-trading.github.io\n",
      "\u001b[34m\u001b[1mConfig Path: \u001b[0m/content/drive/MyDrive/jetech-trading.github/jetech-trading.github.io/_config.yml\n",
      "\u001b[34m\u001b[1mOutput Path: \u001b[0m/content/drive/MyDrive/jetech-trading.github/jetech-trading.github.io/_build/html\n",
      "\u001b[01mRunning Sphinx v5.0.2\u001b[39;49;00m\n"
     ]
    },
    {
     "name": "stdout",
     "output_type": "stream",
     "text": [
      "[etoc] Changing master_doc to 'intro'\n",
      "\u001b[01mloading pickled environment... \u001b[39;49;00mdone\n",
      "\u001b[01mmyst v0.18.1:\u001b[39;49;00m MdParserConfig(commonmark_only=False, gfm_only=False, enable_extensions=['colon_fence', 'dollarmath', 'linkify', 'substitution', 'tasklist'], disable_syntax=[], all_links_external=False, url_schemes=['mailto', 'http', 'https'], ref_domains=None, highlight_code_blocks=True, number_code_blocks=[], title_to_header=False, heading_anchors=None, heading_slug_func=None, footnote_transition=True, words_per_minute=200, sub_delimiters=('{', '}'), linkify_fuzzy_links=True, dmath_allow_labels=True, dmath_allow_space=True, dmath_allow_digits=True, dmath_double_inline=False, update_mathjax=True, mathjax_classes='tex2jax_process|mathjax_process|math|output_area')\n",
      "\u001b[01mmyst-nb v0.17.2:\u001b[39;49;00m NbParserConfig(custom_formats={}, metadata_key='mystnb', cell_metadata_key='mystnb', kernel_rgx_aliases={}, execution_mode='force', execution_cache_path='', execution_excludepatterns=[], execution_timeout=30, execution_in_temp=False, execution_allow_errors=False, execution_raise_on_error=False, execution_show_tb=False, merge_streams=False, render_plugin='default', remove_code_source=False, remove_code_outputs=False, code_prompt_show='Show code cell {type}', code_prompt_hide='Hide code cell {type}', number_source_lines=False, output_stderr='show', render_text_lexer='myst-ansi', render_error_lexer='ipythontb', render_image_options={}, render_figure_options={}, render_markdown_format='commonmark', output_folder='build', append_css=True, metadata_to_fm=False)\n",
      "Using jupyter-cache at: /content/drive/MyDrive/jetech-trading.github/jetech-trading.github.io/_build/.jupyter_cache\n",
      "\u001b[01mbuilding [mo]: \u001b[39;49;00mtargets for 0 po files that are out of date\n",
      "\u001b[01mbuilding [html]: \u001b[39;49;00mtargets for 10 source files that are out of date\n",
      "\u001b[01mupdating environment: \u001b[39;49;00m"
     ]
    },
    {
     "name": "stdout",
     "output_type": "stream",
     "text": [
      "1 added, 3 changed, 0 removed\n",
      "\u001b[01mreading sources... \u001b[39;49;00m[ 33%] \u001b[35mresearch/20230630/20230630\u001b[39;49;00m\r"
     ]
    },
    {
     "name": "stdout",
     "output_type": "stream",
     "text": [
      "/content/drive/MyDrive/jetech-trading.github/jetech-trading.github.io/research/20230630/20230630.ipynb: Executing notebook using local CWD [mystnb]\n"
     ]
    },
    {
     "name": "stdout",
     "output_type": "stream",
     "text": [
      "/content/drive/MyDrive/jetech-trading.github/jetech-trading.github.io/research/20230630/20230630.ipynb: Executed notebook in 5.78 seconds [mystnb]\n",
      "\u001b[01mreading sources... \u001b[39;49;00m[ 66%] \u001b[35mresearch/research\u001b[39;49;00m\r",
      "\u001b[01mreading sources... \u001b[39;49;00m[100%] \u001b[35mstock/stock\u001b[39;49;00m\r\n",
      "\u001b[01mlooking for now-outdated files... \u001b[39;49;00mnone found\n",
      "\u001b[01mpickling environment... \u001b[39;49;00mdone\n",
      "\u001b[01mchecking consistency... \u001b[39;49;00m\u001b[91m/content/drive/MyDrive/jetech-trading.github/jetech-trading.github.io/markdown.md: WARNING: document isn't included in any toctree\u001b[39;49;00m\n",
      "\u001b[91m/content/drive/MyDrive/jetech-trading.github/jetech-trading.github.io/markdown-notebooks.md: WARNING: document isn't included in any toctree\u001b[39;49;00m\n",
      "\u001b[91m/content/drive/MyDrive/jetech-trading.github/jetech-trading.github.io/script.ipynb: WARNING: document isn't included in any toctree\u001b[39;49;00m\n",
      "done\n",
      "\u001b[01mpreparing documents... \u001b[39;49;00mdone\n",
      "\u001b[01mwriting output... \u001b[39;49;00m[  9%] \u001b[32mcrypto/20230606\u001b[39;49;00m\r"
     ]
    },
    {
     "name": "stdout",
     "output_type": "stream",
     "text": [
      "\u001b[01mwriting output... \u001b[39;49;00m[ 18%] \u001b[32mcrypto/crypto\u001b[39;49;00m\r",
      "\u001b[01mwriting output... \u001b[39;49;00m[ 27%] \u001b[32mintro\u001b[39;49;00m\r",
      "\u001b[01mwriting output... \u001b[39;49;00m[ 36%] \u001b[32mmarkdown\u001b[39;49;00m\r",
      "\u001b[01mwriting output... \u001b[39;49;00m[ 45%] \u001b[32mmarkdown-notebooks\u001b[39;49;00m\r"
     ]
    },
    {
     "name": "stdout",
     "output_type": "stream",
     "text": [
      "\u001b[01mwriting output... \u001b[39;49;00m[ 54%] \u001b[32mresearch/20230618\u001b[39;49;00m\r"
     ]
    },
    {
     "name": "stdout",
     "output_type": "stream",
     "text": [
      "\u001b[01mwriting output... \u001b[39;49;00m[ 63%] \u001b[32mresearch/20230630/20230630\u001b[39;49;00m\r"
     ]
    },
    {
     "name": "stdout",
     "output_type": "stream",
     "text": [
      "\u001b[01mwriting output... \u001b[39;49;00m[ 72%] \u001b[32mresearch/research\u001b[39;49;00m\r",
      "\u001b[01mwriting output... \u001b[39;49;00m[ 81%] \u001b[32mscript\u001b[39;49;00m\r"
     ]
    },
    {
     "name": "stdout",
     "output_type": "stream",
     "text": [
      "\u001b[01mwriting output... \u001b[39;49;00m[ 90%] \u001b[32mstock/20230606\u001b[39;49;00m\r"
     ]
    },
    {
     "name": "stdout",
     "output_type": "stream",
     "text": [
      "\u001b[01mwriting output... \u001b[39;49;00m[100%] \u001b[32mstock/stock\u001b[39;49;00m\r\n",
      "\u001b[01mgenerating indices... \u001b[39;49;00mgenindex done\n",
      "\u001b[01mwriting additional pages... \u001b[39;49;00msearch done\n",
      "\u001b[01mcopying images... \u001b[39;49;00m[ 25%] \u001b[33m_build/jupyter_execute/b4c19ae4283c2cc1a401e6a31f3b8fe95915801d363f628067dcab4cd7484539.png\u001b[39;49;00m\r",
      "\u001b[01mcopying images... \u001b[39;49;00m[ 50%] \u001b[33m_build/jupyter_execute/529ae1bd334057e94d848fc46904e7c686f3c63f27a03c43ced45c0c1e02824a.png\u001b[39;49;00m\r",
      "\u001b[01mcopying images... \u001b[39;49;00m[ 75%] \u001b[33m_build/jupyter_execute/2ac91291a546b3870c8017d68e7efae770004c9f583a6bbcc39e091200fc7bfe.png\u001b[39;49;00m\r",
      "\u001b[01mcopying images... \u001b[39;49;00m[100%] \u001b[33m_build/jupyter_execute/c9da7873e4a49d237cbb656c65671f03d35a48298acf88813f75a1bc6249a439.png\u001b[39;49;00m\r\n",
      "\u001b[01mcopying static files... \u001b[39;49;00m"
     ]
    },
    {
     "name": "stdout",
     "output_type": "stream",
     "text": [
      "done\n",
      "\u001b[01mcopying extra files... \u001b[39;49;00mdone\n",
      "\u001b[01mdumping search index in English (code: en)... \u001b[39;49;00mdone\n",
      "\u001b[01mdumping object inventory... \u001b[39;49;00mdone\n",
      "\u001b[01mbuild succeeded, 3 warnings.\u001b[39;49;00m\n",
      "\n",
      "The HTML pages are in _build/html.\n",
      "\n",
      "\u001b[92m===============================================================================\u001b[0m\n",
      "\n",
      "Finished generating HTML for book.\n",
      "Your book's HTML pages are here:\n",
      "    _build/html/\n",
      "You can look at your book by opening this file in a browser:\n",
      "    _build/html/index.html\n",
      "Or paste this line directly into your browser bar:\n",
      "    file:///content/drive/MyDrive/jetech-trading.github/jetech-trading.github.io/_build/html/index.html            \n",
      "\n",
      "\u001b[92m===============================================================================\u001b[0m\n",
      "\n"
     ]
    }
   ],
   "source": [
    "!jupyter-book build ./\n"
   ]
  },
  {
   "cell_type": "code",
   "execution_count": 2,
   "metadata": {},
   "outputs": [
    {
     "name": "stdout",
     "output_type": "stream",
     "text": [
      "Enumerating objects: 1\r",
      "Enumerating objects: 45, done.\n",
      "Counting objects:   2% (1/45)\r",
      "Counting objects:   4% (2/45)\r",
      "Counting objects:   6% (3/45)\r"
     ]
    },
    {
     "name": "stdout",
     "output_type": "stream",
     "text": [
      "Counting objects:   8% (4/45)\r",
      "Counting objects:  11% (5/45)\r",
      "Counting objects:  13% (6/45)\r",
      "Counting objects:  15% (7/45)\r",
      "Counting objects:  17% (8/45)\r",
      "Counting objects:  20% (9/45)\r",
      "Counting objects:  22% (10/45)\r",
      "Counting objects:  24% (11/45)\r",
      "Counting objects:  26% (12/45)\r",
      "Counting objects:  28% (13/45)\r",
      "Counting objects:  31% (14/45)\r",
      "Counting objects:  33% (15/45)\r"
     ]
    },
    {
     "name": "stdout",
     "output_type": "stream",
     "text": [
      "Counting objects:  35% (16/45)\r",
      "Counting objects:  37% (17/45)\r",
      "Counting objects:  40% (18/45)\r",
      "Counting objects:  42% (19/45)\r"
     ]
    },
    {
     "name": "stdout",
     "output_type": "stream",
     "text": [
      "Counting objects:  44% (20/45)\r",
      "Counting objects:  46% (21/45)\r",
      "Counting objects:  48% (22/45)\r"
     ]
    },
    {
     "name": "stdout",
     "output_type": "stream",
     "text": [
      "Counting objects:  51% (23/45)\r",
      "Counting objects:  53% (24/45)\r",
      "Counting objects:  55% (25/45)\r",
      "Counting objects:  57% (26/45)\r",
      "Counting objects:  60% (27/45)\r",
      "Counting objects:  62% (28/45)\r",
      "Counting objects:  64% (29/45)\r",
      "Counting objects:  66% (30/45)\r",
      "Counting objects:  68% (31/45)\r",
      "Counting objects:  71% (32/45)\r",
      "Counting objects:  73% (33/45)\r",
      "Counting objects:  75% (34/45)\r",
      "Counting objects:  77% (35/45)\r"
     ]
    },
    {
     "name": "stdout",
     "output_type": "stream",
     "text": [
      "Counting objects:  80% (36/45)\r"
     ]
    },
    {
     "name": "stdout",
     "output_type": "stream",
     "text": [
      "Counting objects:  82% (37/45)\r",
      "Counting objects:  84% (38/45)\r",
      "Counting objects:  86% (39/45)\r",
      "Counting objects:  88% (40/45)\r",
      "Counting objects:  91% (41/45)\r"
     ]
    },
    {
     "name": "stdout",
     "output_type": "stream",
     "text": [
      "Counting objects:  93% (42/45)\r",
      "Counting objects:  95% (43/45)\r",
      "Counting objects:  97% (44/45)\r"
     ]
    },
    {
     "name": "stdout",
     "output_type": "stream",
     "text": [
      "Counting objects: 100% (45/45)\r",
      "Counting objects: 100% (45/45), done.\n",
      "Delta compression using up to 2 threads\n",
      "Compressing objects:   4% (1/23)\r",
      "Compressing objects:   8% (2/23)\r",
      "Compressing objects:  13% (3/23)\r",
      "Compressing objects:  17% (4/23)\r",
      "Compressing objects:  21% (5/23)\r",
      "Compressing objects:  26% (6/23)\r",
      "Compressing objects:  30% (7/23)\r",
      "Compressing objects:  34% (8/23)\r",
      "Compressing objects:  39% (9/23)\r",
      "Compressing objects:  43% (10/23)\r",
      "Compressing objects:  47% (11/23)\r",
      "Compressing objects:  52% (12/23)\r",
      "Compressing objects:  56% (13/23)\r",
      "Compressing objects:  60% (14/23)\r",
      "Compressing objects:  65% (15/23)\r",
      "Compressing objects:  69% (16/23)\r",
      "Compressing objects:  73% (17/23)\r",
      "Compressing objects:  78% (18/23)\r",
      "Compressing objects:  82% (19/23)\r",
      "Compressing objects:  86% (20/23)\r",
      "Compressing objects:  91% (21/23)\r",
      "Compressing objects:  95% (22/23)\r",
      "Compressing objects: 100% (23/23)\r",
      "Compressing objects: 100% (23/23), done.\n",
      "Writing objects:   4% (1/25)\r",
      "Writing objects:   8% (2/25)\r",
      "Writing objects:  12% (3/25)\r",
      "Writing objects:  16% (4/25)\r",
      "Writing objects:  20% (5/25)\r",
      "Writing objects:  28% (7/25)\r",
      "Writing objects:  32% (8/25)\r",
      "Writing objects:  36% (9/25)\r",
      "Writing objects:  40% (10/25)\r",
      "Writing objects:  44% (11/25)\r",
      "Writing objects:  48% (12/25)\r",
      "Writing objects:  52% (13/25)\r",
      "Writing objects:  56% (14/25)\r",
      "Writing objects:  60% (15/25)\r",
      "Writing objects:  64% (16/25)\r",
      "Writing objects:  68% (17/25)\r",
      "Writing objects:  72% (18/25)\r",
      "Writing objects:  76% (19/25)\r",
      "Writing objects:  80% (20/25)\r",
      "Writing objects:  84% (21/25)\r",
      "Writing objects:  88% (22/25)\r",
      "Writing objects:  92% (23/25)\r",
      "Writing objects:  96% (24/25)\r",
      "Writing objects: 100% (25/25)\r",
      "Writing objects: 100% (25/25), 442.15 KiB | 5.39 MiB/s, done.\n",
      "Total 25 (delta 15), reused 0 (delta 0)\n"
     ]
    },
    {
     "name": "stdout",
     "output_type": "stream",
     "text": [
      "remote: Resolving deltas:   0% (0/15)\u001b[K\r",
      "remote: Resolving deltas:   6% (1/15)\u001b[K\r",
      "remote: Resolving deltas:  13% (2/15)\u001b[K\r",
      "remote: Resolving deltas:  20% (3/15)\u001b[K\r",
      "remote: Resolving deltas:  26% (4/15)\u001b[K\r",
      "remote: Resolving deltas:  33% (5/15)\u001b[K\r",
      "remote: Resolving deltas:  40% (6/15)\u001b[K\r",
      "remote: Resolving deltas:  46% (7/15)\u001b[K\r",
      "remote: Resolving deltas:  53% (8/15)\u001b[K\r",
      "remote: Resolving deltas:  60% (9/15)\u001b[K\r",
      "remote: Resolving deltas:  66% (10/15)\u001b[K\r",
      "remote: Resolving deltas:  73% (11/15)\u001b[K\r",
      "remote: Resolving deltas:  80% (12/15)\u001b[K\r",
      "remote: Resolving deltas:  86% (13/15)\u001b[K\r",
      "remote: Resolving deltas:  93% (14/15)\u001b[K\r",
      "remote: Resolving deltas: 100% (15/15)\u001b[K\r",
      "remote: Resolving deltas: 100% (15/15), completed with 14 local objects.\u001b[K\n"
     ]
    },
    {
     "name": "stdout",
     "output_type": "stream",
     "text": [
      "To https://github.com/jetech-trading/jetech-trading.github.io.git\n",
      "   746fdf5..db8186c  gh-pages -> gh-pages\n"
     ]
    }
   ],
   "source": [
    "!ghp-import -n -p -f _build/html"
   ]
  },
  {
   "cell_type": "code",
   "execution_count": 3,
   "metadata": {
    "ExecuteTime": {
     "end_time": "2023-06-06T15:23:54.814461Z",
     "start_time": "2023-06-06T15:23:53.368985Z"
    }
   },
   "outputs": [
    {
     "name": "stdout",
     "output_type": "stream",
     "text": [
      "[main d038a24] update from windows\n",
      " 26 files changed, 4626 insertions(+), 156 deletions(-)\n",
      " create mode 100644 _build/.doctrees/research/20230630/20230630.doctree\n",
      " create mode 100644 _build/html/_sources/research/20230630/20230630.ipynb\n",
      " rewrite _build/html/objects.inv (75%)\n",
      " create mode 100644 _build/html/research/20230630/20230630.html\n",
      " rewrite _build/html/searchindex.js (97%)\n",
      " create mode 100644 _build/jupyter_execute/research/20230630/20230630.ipynb\n"
     ]
    },
    {
     "name": "stdout",
     "output_type": "stream",
     "text": [
      "Enumerating objects: 82, done.\n",
      "Counting objects:   1% (1/82)\r",
      "Counting objects:   2% (2/82)\r",
      "Counting objects:   3% (3/82)\r",
      "Counting objects:   4% (4/82)\r",
      "Counting objects:   6% (5/82)\r",
      "Counting objects:   7% (6/82)\r",
      "Counting objects:   8% (7/82)\r",
      "Counting objects:   9% (8/82)\r",
      "Counting objects:  10% (9/82)\r",
      "Counting objects:  12% (10/82)\r",
      "Counting objects:  13% (11/82)\r",
      "Counting objects:  14% (12/82)\r",
      "Counting objects:  15% (13/82)\r",
      "Counting objects:  17% (14/82)\r",
      "Counting objects:  18% (15/82)\r",
      "Counting objects:  19% (16/82)\r",
      "Counting objects:  20% (17/82)\r",
      "Counting objects:  21% (18/82)\r",
      "Counting objects:  23% (19/82)\r",
      "Counting objects:  24% (20/82)\r",
      "Counting objects:  25% (21/82)\r",
      "Counting objects:  26% (22/82)\r",
      "Counting objects:  28% (23/82)\r",
      "Counting objects:  29% (24/82)\r",
      "Counting objects:  30% (25/82)\r",
      "Counting objects:  31% (26/82)\r",
      "Counting objects:  32% (27/82)\r",
      "Counting objects:  34% (28/82)\r",
      "Counting objects:  35% (29/82)\r",
      "Counting objects:  36% (30/82)\r",
      "Counting objects:  37% (31/82)\r",
      "Counting objects:  39% (32/82)\r",
      "Counting objects:  40% (33/82)\r",
      "Counting objects:  41% (34/82)\r",
      "Counting objects:  42% (35/82)\r",
      "Counting objects:  43% (36/82)\r",
      "Counting objects:  45% (37/82)\r",
      "Counting objects:  46% (38/82)\r",
      "Counting objects:  47% (39/82)\r",
      "Counting objects:  48% (40/82)\r",
      "Counting objects:  50% (41/82)\r",
      "Counting objects:  51% (42/82)\r",
      "Counting objects:  52% (43/82)\r",
      "Counting objects:  53% (44/82)\r",
      "Counting objects:  54% (45/82)\r",
      "Counting objects:  56% (46/82)\r",
      "Counting objects:  57% (47/82)\r",
      "Counting objects:  58% (48/82)\r",
      "Counting objects:  59% (49/82)\r",
      "Counting objects:  60% (50/82)\r",
      "Counting objects:  62% (51/82)\r",
      "Counting objects:  63% (52/82)\r",
      "Counting objects:  64% (53/82)\r",
      "Counting objects:  65% (54/82)\r",
      "Counting objects:  67% (55/82)\r",
      "Counting objects:  68% (56/82)\r",
      "Counting objects:  69% (57/82)\r",
      "Counting objects:  70% (58/82)\r",
      "Counting objects:  71% (59/82)\r",
      "Counting objects:  73% (60/82)\r",
      "Counting objects:  74% (61/82)\r",
      "Counting objects:  75% (62/82)\r",
      "Counting objects:  76% (63/82)\r",
      "Counting objects:  78% (64/82)\r",
      "Counting objects:  79% (65/82)\r",
      "Counting objects:  80% (66/82)\r",
      "Counting objects:  81% (67/82)\r",
      "Counting objects:  82% (68/82)\r",
      "Counting objects:  84% (69/82)\r",
      "Counting objects:  85% (70/82)\r",
      "Counting objects:  86% (71/82)\r",
      "Counting objects:  87% (72/82)\r",
      "Counting objects:  89% (73/82)\r",
      "Counting objects:  90% (74/82)\r",
      "Counting objects:  91% (75/82)\r",
      "Counting objects:  92% (76/82)\r",
      "Counting objects:  93% (77/82)\r",
      "Counting objects:  95% (78/82)\r",
      "Counting objects:  96% (79/82)\r",
      "Counting objects:  97% (80/82)\r",
      "Counting objects:  98% (81/82)\r",
      "Counting objects: 100% (82/82)\r",
      "Counting objects: 100% (82/82), done.\n",
      "Delta compression using up to 2 threads\n",
      "Compressing objects:   2% (1/40)\r",
      "Compressing objects:   5% (2/40)\r",
      "Compressing objects:   7% (3/40)\r",
      "Compressing objects:  10% (4/40)\r",
      "Compressing objects:  12% (5/40)\r",
      "Compressing objects:  15% (6/40)\r",
      "Compressing objects:  17% (7/40)\r",
      "Compressing objects:  20% (8/40)\r",
      "Compressing objects:  22% (9/40)\r",
      "Compressing objects:  25% (10/40)\r",
      "Compressing objects:  27% (11/40)\r",
      "Compressing objects:  30% (12/40)\r",
      "Compressing objects:  32% (13/40)\r",
      "Compressing objects:  35% (14/40)\r",
      "Compressing objects:  37% (15/40)\r",
      "Compressing objects:  40% (16/40)\r",
      "Compressing objects:  42% (17/40)\r",
      "Compressing objects:  45% (18/40)\r",
      "Compressing objects:  47% (19/40)\r",
      "Compressing objects:  50% (20/40)\r",
      "Compressing objects:  52% (21/40)\r",
      "Compressing objects:  55% (22/40)\r",
      "Compressing objects:  57% (23/40)\r",
      "Compressing objects:  60% (24/40)\r",
      "Compressing objects:  62% (25/40)\r",
      "Compressing objects:  65% (26/40)\r",
      "Compressing objects:  67% (27/40)\r",
      "Compressing objects:  70% (28/40)\r",
      "Compressing objects:  72% (29/40)\r",
      "Compressing objects:  75% (30/40)\r",
      "Compressing objects:  77% (31/40)\r",
      "Compressing objects:  80% (32/40)\r",
      "Compressing objects:  82% (33/40)\r",
      "Compressing objects:  85% (34/40)\r",
      "Compressing objects:  87% (35/40)\r",
      "Compressing objects:  90% (36/40)\r",
      "Compressing objects:  92% (37/40)\r",
      "Compressing objects:  95% (38/40)\r",
      "Compressing objects:  97% (39/40)\r",
      "Compressing objects: 100% (40/40)\r",
      "Compressing objects: 100% (40/40), done.\n",
      "Writing objects:   2% (1/45)\r",
      "Writing objects:   4% (2/45)\r",
      "Writing objects:   6% (3/45)\r",
      "Writing objects:   8% (4/45)\r",
      "Writing objects:  11% (5/45)\r",
      "Writing objects:  13% (6/45)\r",
      "Writing objects:  15% (7/45)\r",
      "Writing objects:  17% (8/45)\r",
      "Writing objects:  20% (9/45)\r",
      "Writing objects:  22% (10/45)\r"
     ]
    },
    {
     "name": "stdout",
     "output_type": "stream",
     "text": [
      "Writing objects:  24% (11/45)\r",
      "Writing objects:  26% (12/45)\r",
      "Writing objects:  28% (13/45)\r",
      "Writing objects:  31% (14/45)\r",
      "Writing objects:  33% (15/45)\r",
      "Writing objects:  35% (16/45)\r",
      "Writing objects:  37% (17/45)\r",
      "Writing objects:  40% (18/45)\r",
      "Writing objects:  42% (19/45)\r",
      "Writing objects:  44% (20/45)\r",
      "Writing objects:  46% (21/45)\r",
      "Writing objects:  48% (22/45)\r",
      "Writing objects:  51% (23/45)\r",
      "Writing objects:  53% (24/45)\r",
      "Writing objects:  55% (25/45)\r",
      "Writing objects:  57% (26/45)\r",
      "Writing objects:  60% (27/45)\r",
      "Writing objects:  62% (28/45)\r",
      "Writing objects:  64% (29/45)\r"
     ]
    },
    {
     "name": "stdout",
     "output_type": "stream",
     "text": [
      "Writing objects:  66% (30/45)\r",
      "Writing objects:  68% (31/45)\r",
      "Writing objects:  71% (32/45)\r",
      "Writing objects:  73% (33/45)\r",
      "Writing objects:  75% (34/45)\r",
      "Writing objects:  77% (35/45)\r",
      "Writing objects:  80% (36/45)\r",
      "Writing objects:  82% (37/45)\r",
      "Writing objects:  84% (38/45)\r",
      "Writing objects:  86% (39/45)\r",
      "Writing objects:  88% (40/45)\r",
      "Writing objects:  91% (41/45)\r",
      "Writing objects:  93% (42/45)\r",
      "Writing objects:  95% (43/45)\r",
      "Writing objects:  97% (44/45)\r",
      "Writing objects: 100% (45/45)\r",
      "Writing objects: 100% (45/45), 1.23 MiB | 2.95 MiB/s, done.\n",
      "Total 45 (delta 26), reused 0 (delta 0)\n",
      "remote: Resolving deltas:   0% (0/26)\u001b[K\r",
      "remote: Resolving deltas:   3% (1/26)\u001b[K\r",
      "remote: Resolving deltas:   7% (2/26)\u001b[K\r",
      "remote: Resolving deltas:  11% (3/26)\u001b[K\r",
      "remote: Resolving deltas:  15% (4/26)\u001b[K\r",
      "remote: Resolving deltas:  19% (5/26)\u001b[K\r",
      "remote: Resolving deltas:  23% (6/26)\u001b[K\r",
      "remote: Resolving deltas:  26% (7/26)\u001b[K\r",
      "remote: Resolving deltas:  30% (8/26)\u001b[K\r",
      "remote: Resolving deltas:  34% (9/26)\u001b[K\r",
      "remote: Resolving deltas:  38% (10/26)\u001b[K\r",
      "remote: Resolving deltas:  42% (11/26)\u001b[K\r",
      "remote: Resolving deltas:  46% (12/26)\u001b[K\r",
      "remote: Resolving deltas:  50% (13/26)\u001b[K\r",
      "remote: Resolving deltas:  53% (14/26)\u001b[K\r",
      "remote: Resolving deltas:  57% (15/26)\u001b[K\r"
     ]
    },
    {
     "name": "stdout",
     "output_type": "stream",
     "text": [
      "remote: Resolving deltas:  61% (16/26)\u001b[K\r",
      "remote: Resolving deltas:  65% (17/26)\u001b[K\r",
      "remote: Resolving deltas:  69% (18/26)\u001b[K\r",
      "remote: Resolving deltas:  73% (19/26)\u001b[K\r",
      "remote: Resolving deltas:  76% (20/26)\u001b[K\r",
      "remote: Resolving deltas:  80% (21/26)\u001b[K\r",
      "remote: Resolving deltas:  84% (22/26)\u001b[K\r",
      "remote: Resolving deltas:  88% (23/26)\u001b[K\r",
      "remote: Resolving deltas:  92% (24/26)\u001b[K\r",
      "remote: Resolving deltas:  96% (25/26)\u001b[K\r",
      "remote: Resolving deltas: 100% (26/26)\u001b[K\r",
      "remote: Resolving deltas: 100% (26/26), completed with 24 local objects.\u001b[K\n"
     ]
    },
    {
     "name": "stdout",
     "output_type": "stream",
     "text": [
      "To https://github.com/jetech-trading/jetech-trading.github.io.git\n",
      "   083b93e..d038a24  main -> main\n",
      "Branch 'main' set up to track remote branch 'main' from 'origin'.\n"
     ]
    }
   ],
   "source": [
    "\n",
    "!git config user.email 'xile803@likelion.org'\n",
    "!git config user.name 'jetech-trading'\n",
    "!git add .\n",
    "!git commit -m \"update from windows\"\n",
    "!git push -u origin main"
   ]
  },
  {
   "cell_type": "code",
   "execution_count": 4,
   "metadata": {
    "ExecuteTime": {
     "end_time": "2023-06-06T15:24:20.601443Z",
     "start_time": "2023-06-06T15:24:20.447076Z"
    }
   },
   "outputs": [
    {
     "name": "stdout",
     "output_type": "stream",
     "text": [
      "jetech-trading\n"
     ]
    }
   ],
   "source": [
    "!git config user.name"
   ]
  },
  {
   "cell_type": "code",
   "execution_count": 5,
   "metadata": {
    "ExecuteTime": {
     "end_time": "2023-06-06T15:24:25.607288Z",
     "start_time": "2023-06-06T15:24:25.451632Z"
    },
    "collapsed": false
   },
   "outputs": [],
   "source": [
    "!git config user.password"
   ]
  },
  {
   "cell_type": "code",
   "execution_count": null,
   "metadata": {
    "collapsed": false
   },
   "outputs": [],
   "source": []
  }
 ],
 "metadata": {
  "kernelspec": {
   "display_name": "tf",
   "language": "python",
   "name": "python3"
  },
  "language_info": {
   "codemirror_mode": {
    "name": "ipython",
    "version": 3
   },
   "file_extension": ".py",
   "mimetype": "text/x-python",
   "name": "python",
   "nbconvert_exporter": "python",
   "pygments_lexer": "ipython3",
   "version": "3.10.12"
  }
 },
 "nbformat": 4,
 "nbformat_minor": 2
}