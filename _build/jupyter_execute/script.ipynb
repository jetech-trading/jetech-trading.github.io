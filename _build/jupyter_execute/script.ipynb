{
 "cells": [
  {
   "cell_type": "code",
   "execution_count": 1,
   "metadata": {
    "ExecuteTime": {
     "end_time": "2023-06-06T15:19:26.079085Z",
     "start_time": "2023-06-06T15:18:48.507459Z"
    }
   },
   "outputs": [
    {
     "name": "stdout",
     "output_type": "stream",
     "text": [
      "\u001b[32m\u001b[1mRunning Jupyter-Book v0.15.1\u001b[0m\n",
      "\u001b[34m\u001b[1mSource Folder: \u001b[0m/content/drive/MyDrive/jetech-trading.github/jetech-trading.github.io\n",
      "\u001b[34m\u001b[1mConfig Path: \u001b[0m/content/drive/MyDrive/jetech-trading.github/jetech-trading.github.io/_config.yml\n",
      "\u001b[34m\u001b[1mOutput Path: \u001b[0m/content/drive/MyDrive/jetech-trading.github/jetech-trading.github.io/_build/html\n",
      "\u001b[01mRunning Sphinx v5.0.2\u001b[39;49;00m\n"
     ]
    },
    {
     "name": "stdout",
     "output_type": "stream",
     "text": [
      "[etoc] Changing master_doc to 'intro'\n",
      "\u001b[01mloading pickled environment... \u001b[39;49;00mfailed\n",
      "failed: 'TocTree' object has no attribute '__dict__'\n"
     ]
    },
    {
     "name": "stdout",
     "output_type": "stream",
     "text": [
      "\u001b[01mmyst v0.18.1:\u001b[39;49;00m MdParserConfig(commonmark_only=False, gfm_only=False, enable_extensions=['colon_fence', 'dollarmath', 'linkify', 'substitution', 'tasklist'], disable_syntax=[], all_links_external=False, url_schemes=['mailto', 'http', 'https'], ref_domains=None, highlight_code_blocks=True, number_code_blocks=[], title_to_header=False, heading_anchors=None, heading_slug_func=None, footnote_transition=True, words_per_minute=200, sub_delimiters=('{', '}'), linkify_fuzzy_links=True, dmath_allow_labels=True, dmath_allow_space=True, dmath_allow_digits=True, dmath_double_inline=False, update_mathjax=True, mathjax_classes='tex2jax_process|mathjax_process|math|output_area')\n",
      "\u001b[01mmyst-nb v0.17.2:\u001b[39;49;00m NbParserConfig(custom_formats={}, metadata_key='mystnb', cell_metadata_key='mystnb', kernel_rgx_aliases={}, execution_mode='force', execution_cache_path='', execution_excludepatterns=[], execution_timeout=30, execution_in_temp=False, execution_allow_errors=False, execution_raise_on_error=False, execution_show_tb=False, merge_streams=False, render_plugin='default', remove_code_source=False, remove_code_outputs=False, code_prompt_show='Show code cell {type}', code_prompt_hide='Hide code cell {type}', number_source_lines=False, output_stderr='show', render_text_lexer='myst-ansi', render_error_lexer='ipythontb', render_image_options={}, render_figure_options={}, render_markdown_format='commonmark', output_folder='build', append_css=True, metadata_to_fm=False)\n",
      "Using jupyter-cache at: /content/drive/MyDrive/jetech-trading.github/jetech-trading.github.io/_build/.jupyter_cache\n",
      "\u001b[01mbuilding [mo]: \u001b[39;49;00mtargets for 0 po files that are out of date\n",
      "\u001b[01mbuilding [html]: \u001b[39;49;00mtargets for 9 source files that are out of date\n",
      "\u001b[01mupdating environment: \u001b[39;49;00m"
     ]
    },
    {
     "name": "stdout",
     "output_type": "stream",
     "text": [
      "[new config] 9 added, 0 changed, 0 removed\n",
      "\u001b[01mreading sources... \u001b[39;49;00m[ 11%] \u001b[35mcrypto/20230606\u001b[39;49;00m\r"
     ]
    },
    {
     "name": "stdout",
     "output_type": "stream",
     "text": [
      "/content/drive/MyDrive/jetech-trading.github/jetech-trading.github.io/crypto/20230606.ipynb: Executing notebook using local CWD [mystnb]\n"
     ]
    },
    {
     "name": "stdout",
     "output_type": "stream",
     "text": [
      "/content/drive/MyDrive/jetech-trading.github/jetech-trading.github.io/crypto/20230606.ipynb: Executed notebook in 5.05 seconds [mystnb]\n",
      "\u001b[01mreading sources... \u001b[39;49;00m[ 22%] \u001b[35mcrypto/crypto\u001b[39;49;00m\r",
      "\u001b[01mreading sources... \u001b[39;49;00m[ 33%] \u001b[35mintro\u001b[39;49;00m\r",
      "\u001b[01mreading sources... \u001b[39;49;00m[ 44%] \u001b[35mmarkdown\u001b[39;49;00m\r"
     ]
    },
    {
     "name": "stdout",
     "output_type": "stream",
     "text": [
      "\u001b[01mreading sources... \u001b[39;49;00m[ 55%] \u001b[35mmarkdown-notebooks\u001b[39;49;00m\r",
      "/content/drive/MyDrive/jetech-trading.github/jetech-trading.github.io/markdown-notebooks.md: Executing notebook using local CWD [mystnb]\n"
     ]
    },
    {
     "name": "stdout",
     "output_type": "stream",
     "text": [
      "/content/drive/MyDrive/jetech-trading.github/jetech-trading.github.io/markdown-notebooks.md: Executed notebook in 3.01 seconds [mystnb]\n"
     ]
    },
    {
     "name": "stdout",
     "output_type": "stream",
     "text": [
      "\u001b[01mreading sources... \u001b[39;49;00m[ 66%] \u001b[35mresearch/20230618\u001b[39;49;00m\r",
      "/content/drive/MyDrive/jetech-trading.github/jetech-trading.github.io/research/20230618.ipynb: Executing notebook using local CWD [mystnb]\n"
     ]
    },
    {
     "name": "stdout",
     "output_type": "stream",
     "text": [
      "/content/drive/MyDrive/jetech-trading.github/jetech-trading.github.io/research/20230618.ipynb: Executed notebook in 12.01 seconds [mystnb]\n"
     ]
    },
    {
     "name": "stdout",
     "output_type": "stream",
     "text": [
      "\u001b[01mreading sources... \u001b[39;49;00m[ 77%] \u001b[35mscript\u001b[39;49;00m\r",
      "/content/drive/MyDrive/jetech-trading.github/jetech-trading.github.io/script.ipynb: Executing notebook using local CWD [mystnb]\n"
     ]
    }
   ],
   "source": [
    "!jupyter-book build ./\n"
   ]
  },
  {
   "cell_type": "code",
   "execution_count": 21,
   "metadata": {},
   "outputs": [
    {
     "name": "stdout",
     "output_type": "stream",
     "text": [
      "remote: Permission to jetech-trading/jetech-trading.github.io.git denied to wijehyeon.\r\n",
      "fatal: unable to access 'https://github.com/jetech-trading/jetech-trading.github.io.git/': The requested URL returned error: 403\r\n",
      "Traceback (most recent call last):\r\n",
      "  File \"/Users/wijehyeon/opt/anaconda3/envs/py39/bin/./ghp-import\", line 8, in <module>\r\n",
      "    sys.exit(main())\r\n",
      "  File \"/Users/wijehyeon/opt/anaconda3/envs/py39/lib/python3.9/site-packages/ghp_import.py\", line 300, in main\r\n",
      "    ghp_import(args.pop(\"directory\"), **args)\r\n",
      "  File \"/Users/wijehyeon/opt/anaconda3/envs/py39/lib/python3.9/site-packages/ghp_import.py\", line 283, in ghp_import\r\n",
      "    git.check_call('push', opts['remote'], opts['branch'], '--force')\r\n",
      "  File \"/Users/wijehyeon/opt/anaconda3/envs/py39/lib/python3.9/site-packages/ghp_import.py\", line 119, in check_call\r\n",
      "    sp.check_call(['git'] + list(args), **kwargs)\r\n",
      "  File \"/Users/wijehyeon/opt/anaconda3/envs/py39/lib/python3.9/subprocess.py\", line 373, in check_call\r\n",
      "    raise CalledProcessError(retcode, cmd)\r\n",
      "subprocess.CalledProcessError: Command '['git', 'push', 'origin', 'gh-pages', '--force']' returned non-zero exit status 128.\r\n"
     ]
    }
   ],
   "source": [
    "!ghp-import -n -p -f _build/html"
   ]
  },
  {
   "cell_type": "code",
   "execution_count": 11,
   "metadata": {
    "ExecuteTime": {
     "end_time": "2023-06-06T15:23:54.814461Z",
     "start_time": "2023-06-06T15:23:53.368985Z"
    }
   },
   "outputs": [
    {
     "name": "stdout",
     "output_type": "stream",
     "text": [
      "[main afa8e10] update from windows\r\n",
      " 1 file changed, 43 insertions(+), 53 deletions(-)\r\n",
      "remote: Permission to jetech-trading/jetech-trading.github.io.git denied to wijehyeon.\r\n",
      "fatal: unable to access 'https://github.com/jetech-trading/jetech-trading.github.io.git/': The requested URL returned error: 403\r\n"
     ]
    }
   ],
   "source": [
    "\n",
    "!git config user.email 'xile803@likelion.org'\n",
    "!git config user.name 'jetech-trading'\n",
    "!git add .\n",
    "!git commit -m \"update from windows\"\n",
    "!git push -u origin main"
   ]
  },
  {
   "cell_type": "code",
   "execution_count": 14,
   "metadata": {
    "ExecuteTime": {
     "end_time": "2023-06-06T15:24:20.601443Z",
     "start_time": "2023-06-06T15:24:20.447076Z"
    }
   },
   "outputs": [
    {
     "name": "stdout",
     "output_type": "stream",
     "text": [
      "jetech-trading\r\n"
     ]
    }
   ],
   "source": [
    "!git config user.name"
   ]
  },
  {
   "cell_type": "code",
   "execution_count": 15,
   "metadata": {
    "ExecuteTime": {
     "end_time": "2023-06-06T15:24:25.607288Z",
     "start_time": "2023-06-06T15:24:25.451632Z"
    },
    "collapsed": false
   },
   "outputs": [
    {
     "name": "stdout",
     "output_type": "stream",
     "text": [
      "wpgus1995!\r\n"
     ]
    }
   ],
   "source": [
    "!git config user.password"
   ]
  },
  {
   "cell_type": "code",
   "execution_count": null,
   "metadata": {
    "collapsed": false
   },
   "outputs": [],
   "source": []
  }
 ],
 "metadata": {
  "kernelspec": {
   "display_name": "tf",
   "language": "python",
   "name": "python3"
  },
  "language_info": {
   "codemirror_mode": {
    "name": "ipython",
    "version": 3
   },
   "file_extension": ".py",
   "mimetype": "text/x-python",
   "name": "python",
   "nbconvert_exporter": "python",
   "pygments_lexer": "ipython3",
   "version": "3.10.12"
  }
 },
 "nbformat": 4,
 "nbformat_minor": 2
}