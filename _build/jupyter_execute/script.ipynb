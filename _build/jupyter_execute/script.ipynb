{
 "cells": [
  {
   "cell_type": "code",
   "execution_count": 1,
   "metadata": {},
   "outputs": [
    {
     "name": "stdout",
     "output_type": "stream",
     "text": [
      "Requirement already satisfied: jupyter-book in c:\\users\\user\\anaconda3\\envs\\tf\\lib\\site-packages (0.15.1)\n",
      "Requirement already satisfied: sphinx-book-theme~=1.0.0 in c:\\users\\user\\anaconda3\\envs\\tf\\lib\\site-packages (from jupyter-book) (1.0.1)\n",
      "Requirement already satisfied: sphinx-copybutton in c:\\users\\user\\anaconda3\\envs\\tf\\lib\\site-packages (from jupyter-book) (0.5.2)\n",
      "Requirement already satisfied: sphinx-design~=0.3.0 in c:\\users\\user\\anaconda3\\envs\\tf\\lib\\site-packages (from jupyter-book) (0.3.0)\n",
      "Requirement already satisfied: jsonschema<5 in c:\\users\\user\\anaconda3\\envs\\tf\\lib\\site-packages (from jupyter-book) (4.17.3)\n",
      "Requirement already satisfied: docutils<0.19,>=0.15 in c:\\users\\user\\anaconda3\\envs\\tf\\lib\\site-packages (from jupyter-book) (0.18.1)\n",
      "Requirement already satisfied: sphinx<6,>=4 in c:\\users\\user\\anaconda3\\envs\\tf\\lib\\site-packages (from jupyter-book) (5.0.2)\n",
      "Requirement already satisfied: sphinx_togglebutton in c:\\users\\user\\anaconda3\\envs\\tf\\lib\\site-packages (from jupyter-book) (0.3.2)\n",
      "Requirement already satisfied: myst-nb~=0.17.1 in c:\\users\\user\\anaconda3\\envs\\tf\\lib\\site-packages (from jupyter-book) (0.17.2)\n",
      "Requirement already satisfied: sphinxcontrib-bibtex<=2.5.0,>=2.2.0 in c:\\users\\user\\anaconda3\\envs\\tf\\lib\\site-packages (from jupyter-book) (2.5.0)\n",
      "Requirement already satisfied: sphinx-multitoc-numbering~=0.1.3 in c:\\users\\user\\anaconda3\\envs\\tf\\lib\\site-packages (from jupyter-book) (0.1.3)\n",
      "Requirement already satisfied: pyyaml in c:\\users\\user\\anaconda3\\envs\\tf\\lib\\site-packages (from jupyter-book) (6.0)\n",
      "Requirement already satisfied: sphinx-comments in c:\\users\\user\\anaconda3\\envs\\tf\\lib\\site-packages (from jupyter-book) (0.0.3)\n",
      "Requirement already satisfied: click<9,>=7.1 in c:\\users\\user\\anaconda3\\envs\\tf\\lib\\site-packages (from jupyter-book) (8.1.3)\n",
      "Requirement already satisfied: linkify-it-py~=2.0.0 in c:\\users\\user\\anaconda3\\envs\\tf\\lib\\site-packages (from jupyter-book) (2.0.2)\n",
      "Requirement already satisfied: sphinx-jupyterbook-latex~=0.5.2 in c:\\users\\user\\anaconda3\\envs\\tf\\lib\\site-packages (from jupyter-book) (0.5.2)\n",
      "Requirement already satisfied: Jinja2 in c:\\users\\user\\anaconda3\\envs\\tf\\lib\\site-packages (from jupyter-book) (3.1.2)\n",
      "Requirement already satisfied: sphinx-external-toc~=0.3.1 in c:\\users\\user\\anaconda3\\envs\\tf\\lib\\site-packages (from jupyter-book) (0.3.1)\n",
      "Requirement already satisfied: sphinx-thebe~=0.2.0 in c:\\users\\user\\anaconda3\\envs\\tf\\lib\\site-packages (from jupyter-book) (0.2.1)\n",
      "Requirement already satisfied: colorama in c:\\users\\user\\anaconda3\\envs\\tf\\lib\\site-packages (from click<9,>=7.1->jupyter-book) (0.4.6)\n",
      "Requirement already satisfied: attrs>=17.4.0 in c:\\users\\user\\anaconda3\\envs\\tf\\lib\\site-packages (from jsonschema<5->jupyter-book) (22.1.0)\n",
      "Requirement already satisfied: pyrsistent!=0.17.0,!=0.17.1,!=0.17.2,>=0.14.0 in c:\\users\\user\\anaconda3\\envs\\tf\\lib\\site-packages (from jsonschema<5->jupyter-book) (0.18.0)\n",
      "Requirement already satisfied: uc-micro-py in c:\\users\\user\\anaconda3\\envs\\tf\\lib\\site-packages (from linkify-it-py~=2.0.0->jupyter-book) (1.0.2)\n",
      "Requirement already satisfied: typing-extensions in c:\\users\\user\\anaconda3\\envs\\tf\\lib\\site-packages (from myst-nb~=0.17.1->jupyter-book) (4.5.0)\n",
      "Requirement already satisfied: jupyter-cache<0.7,>=0.5 in c:\\users\\user\\anaconda3\\envs\\tf\\lib\\site-packages (from myst-nb~=0.17.1->jupyter-book) (0.6.1)\n",
      "Requirement already satisfied: nbformat~=5.0 in c:\\users\\user\\anaconda3\\envs\\tf\\lib\\site-packages (from myst-nb~=0.17.1->jupyter-book) (5.7.0)\n",
      "Requirement already satisfied: ipykernel in c:\\users\\user\\anaconda3\\envs\\tf\\lib\\site-packages (from myst-nb~=0.17.1->jupyter-book) (6.19.2)\n",
      "Requirement already satisfied: ipython in c:\\users\\user\\anaconda3\\envs\\tf\\lib\\site-packages (from myst-nb~=0.17.1->jupyter-book) (8.12.0)\n",
      "Requirement already satisfied: myst-parser~=0.18.0 in c:\\users\\user\\anaconda3\\envs\\tf\\lib\\site-packages (from myst-nb~=0.17.1->jupyter-book) (0.18.1)\n",
      "Requirement already satisfied: importlib_metadata in c:\\users\\user\\anaconda3\\envs\\tf\\lib\\site-packages (from myst-nb~=0.17.1->jupyter-book) (6.6.0)\n",
      "Requirement already satisfied: nbclient in c:\\users\\user\\anaconda3\\envs\\tf\\lib\\site-packages (from myst-nb~=0.17.1->jupyter-book) (0.5.13)\n",
      "Requirement already satisfied: alabaster<0.8,>=0.7 in c:\\users\\user\\anaconda3\\envs\\tf\\lib\\site-packages (from sphinx<6,>=4->jupyter-book) (0.7.13)\n",
      "Requirement already satisfied: sphinxcontrib-jsmath in c:\\users\\user\\anaconda3\\envs\\tf\\lib\\site-packages (from sphinx<6,>=4->jupyter-book) (1.0.1)\n",
      "Requirement already satisfied: sphinxcontrib-applehelp in c:\\users\\user\\anaconda3\\envs\\tf\\lib\\site-packages (from sphinx<6,>=4->jupyter-book) (1.0.4)\n",
      "Requirement already satisfied: sphinxcontrib-htmlhelp>=2.0.0 in c:\\users\\user\\anaconda3\\envs\\tf\\lib\\site-packages (from sphinx<6,>=4->jupyter-book) (2.0.1)\n",
      "Requirement already satisfied: sphinxcontrib-qthelp in c:\\users\\user\\anaconda3\\envs\\tf\\lib\\site-packages (from sphinx<6,>=4->jupyter-book) (1.0.3)\n",
      "Requirement already satisfied: snowballstemmer>=1.1 in c:\\users\\user\\anaconda3\\envs\\tf\\lib\\site-packages (from sphinx<6,>=4->jupyter-book) (2.2.0)\n",
      "Requirement already satisfied: packaging in c:\\users\\user\\anaconda3\\envs\\tf\\lib\\site-packages (from sphinx<6,>=4->jupyter-book) (23.1)\n",
      "Requirement already satisfied: sphinxcontrib-devhelp in c:\\users\\user\\anaconda3\\envs\\tf\\lib\\site-packages (from sphinx<6,>=4->jupyter-book) (1.0.2)\n",
      "Requirement already satisfied: babel>=1.3 in c:\\users\\user\\anaconda3\\envs\\tf\\lib\\site-packages (from sphinx<6,>=4->jupyter-book) (2.11.0)\n",
      "Requirement already satisfied: requests>=2.5.0 in c:\\users\\user\\anaconda3\\envs\\tf\\lib\\site-packages (from sphinx<6,>=4->jupyter-book) (2.29.0)\n",
      "Requirement already satisfied: sphinxcontrib-serializinghtml>=1.1.5 in c:\\users\\user\\anaconda3\\envs\\tf\\lib\\site-packages (from sphinx<6,>=4->jupyter-book) (1.1.5)\n",
      "Requirement already satisfied: Pygments>=2.0 in c:\\users\\user\\anaconda3\\envs\\tf\\lib\\site-packages (from sphinx<6,>=4->jupyter-book) (2.15.1)\n",
      "Requirement already satisfied: imagesize in c:\\users\\user\\anaconda3\\envs\\tf\\lib\\site-packages (from sphinx<6,>=4->jupyter-book) (1.4.1)\n",
      "Requirement already satisfied: MarkupSafe>=2.0 in c:\\users\\user\\anaconda3\\envs\\tf\\lib\\site-packages (from Jinja2->jupyter-book) (2.1.2)\n",
      "Requirement already satisfied: pydata-sphinx-theme>=0.13.3 in c:\\users\\user\\anaconda3\\envs\\tf\\lib\\site-packages (from sphinx-book-theme~=1.0.0->jupyter-book) (0.13.3)\n",
      "Requirement already satisfied: pybtex>=0.24 in c:\\users\\user\\anaconda3\\envs\\tf\\lib\\site-packages (from sphinxcontrib-bibtex<=2.5.0,>=2.2.0->jupyter-book) (0.24.0)\n",
      "Requirement already satisfied: pybtex-docutils>=1.0.0 in c:\\users\\user\\anaconda3\\envs\\tf\\lib\\site-packages (from sphinxcontrib-bibtex<=2.5.0,>=2.2.0->jupyter-book) (1.0.2)\n",
      "Requirement already satisfied: wheel in c:\\users\\user\\anaconda3\\envs\\tf\\lib\\site-packages (from sphinx_togglebutton->jupyter-book) (0.38.4)\n",
      "Requirement already satisfied: setuptools in c:\\users\\user\\anaconda3\\envs\\tf\\lib\\site-packages (from sphinx_togglebutton->jupyter-book) (66.0.0)\n",
      "Requirement already satisfied: pytz>=2015.7 in c:\\users\\user\\anaconda3\\envs\\tf\\lib\\site-packages (from babel>=1.3->sphinx<6,>=4->jupyter-book) (2022.7)\n",
      "Requirement already satisfied: zipp>=0.5 in c:\\users\\user\\anaconda3\\envs\\tf\\lib\\site-packages (from importlib_metadata->myst-nb~=0.17.1->jupyter-book) (3.15.0)\n",
      "Requirement already satisfied: sqlalchemy<3,>=1.3.12 in c:\\users\\user\\anaconda3\\envs\\tf\\lib\\site-packages (from jupyter-cache<0.7,>=0.5->myst-nb~=0.17.1->jupyter-book) (2.0.15)\n",
      "Requirement already satisfied: tabulate in c:\\users\\user\\anaconda3\\envs\\tf\\lib\\site-packages (from jupyter-cache<0.7,>=0.5->myst-nb~=0.17.1->jupyter-book) (0.9.0)\n",
      "Requirement already satisfied: mdit-py-plugins~=0.3.1 in c:\\users\\user\\anaconda3\\envs\\tf\\lib\\site-packages (from myst-parser~=0.18.0->myst-nb~=0.17.1->jupyter-book) (0.3.5)\n",
      "Requirement already satisfied: markdown-it-py<3.0.0,>=1.0.0 in c:\\users\\user\\anaconda3\\envs\\tf\\lib\\site-packages (from myst-parser~=0.18.0->myst-nb~=0.17.1->jupyter-book) (2.2.0)\n",
      "Requirement already satisfied: jupyter-client>=6.1.5 in c:\\users\\user\\anaconda3\\envs\\tf\\lib\\site-packages (from nbclient->myst-nb~=0.17.1->jupyter-book) (8.1.0)\n",
      "Requirement already satisfied: nest-asyncio in c:\\users\\user\\anaconda3\\envs\\tf\\lib\\site-packages (from nbclient->myst-nb~=0.17.1->jupyter-book) (1.5.6)\n",
      "Requirement already satisfied: traitlets>=5.0.0 in c:\\users\\user\\anaconda3\\envs\\tf\\lib\\site-packages (from nbclient->myst-nb~=0.17.1->jupyter-book) (5.7.1)\n",
      "Requirement already satisfied: jupyter-core in c:\\users\\user\\anaconda3\\envs\\tf\\lib\\site-packages (from nbformat~=5.0->myst-nb~=0.17.1->jupyter-book) (5.3.0)\n",
      "Requirement already satisfied: fastjsonschema in c:\\users\\user\\anaconda3\\envs\\tf\\lib\\site-packages (from nbformat~=5.0->myst-nb~=0.17.1->jupyter-book) (2.16.2)\n",
      "Requirement already satisfied: latexcodec>=1.0.4 in c:\\users\\user\\anaconda3\\envs\\tf\\lib\\site-packages (from pybtex>=0.24->sphinxcontrib-bibtex<=2.5.0,>=2.2.0->jupyter-book) (2.0.1)\n",
      "Requirement already satisfied: six in c:\\users\\user\\anaconda3\\envs\\tf\\lib\\site-packages (from pybtex>=0.24->sphinxcontrib-bibtex<=2.5.0,>=2.2.0->jupyter-book) (1.16.0)\n",
      "Requirement already satisfied: beautifulsoup4 in c:\\users\\user\\anaconda3\\envs\\tf\\lib\\site-packages (from pydata-sphinx-theme>=0.13.3->sphinx-book-theme~=1.0.0->jupyter-book) (4.12.2)\n",
      "Requirement already satisfied: accessible-pygments in c:\\users\\user\\anaconda3\\envs\\tf\\lib\\site-packages (from pydata-sphinx-theme>=0.13.3->sphinx-book-theme~=1.0.0->jupyter-book) (0.0.4)\n",
      "Requirement already satisfied: charset-normalizer<4,>=2 in c:\\users\\user\\anaconda3\\envs\\tf\\lib\\site-packages (from requests>=2.5.0->sphinx<6,>=4->jupyter-book) (3.1.0)\n",
      "Requirement already satisfied: urllib3<1.27,>=1.21.1 in c:\\users\\user\\anaconda3\\envs\\tf\\lib\\site-packages (from requests>=2.5.0->sphinx<6,>=4->jupyter-book) (1.26.15)\n",
      "Requirement already satisfied: certifi>=2017.4.17 in c:\\users\\user\\anaconda3\\envs\\tf\\lib\\site-packages (from requests>=2.5.0->sphinx<6,>=4->jupyter-book) (2022.12.7)\n",
      "Requirement already satisfied: idna<4,>=2.5 in c:\\users\\user\\anaconda3\\envs\\tf\\lib\\site-packages (from requests>=2.5.0->sphinx<6,>=4->jupyter-book) (3.4)\n",
      "Requirement already satisfied: matplotlib-inline>=0.1 in c:\\users\\user\\anaconda3\\envs\\tf\\lib\\site-packages (from ipykernel->myst-nb~=0.17.1->jupyter-book) (0.1.6)\n",
      "Requirement already satisfied: comm>=0.1.1 in c:\\users\\user\\anaconda3\\envs\\tf\\lib\\site-packages (from ipykernel->myst-nb~=0.17.1->jupyter-book) (0.1.2)\n",
      "Requirement already satisfied: psutil in c:\\users\\user\\anaconda3\\envs\\tf\\lib\\site-packages (from ipykernel->myst-nb~=0.17.1->jupyter-book) (5.9.0)\n",
      "Requirement already satisfied: pyzmq>=17 in c:\\users\\user\\anaconda3\\envs\\tf\\lib\\site-packages (from ipykernel->myst-nb~=0.17.1->jupyter-book) (25.0.2)\n",
      "Requirement already satisfied: tornado>=6.1 in c:\\users\\user\\anaconda3\\envs\\tf\\lib\\site-packages (from ipykernel->myst-nb~=0.17.1->jupyter-book) (6.2)\n",
      "Requirement already satisfied: debugpy>=1.0 in c:\\users\\user\\anaconda3\\envs\\tf\\lib\\site-packages (from ipykernel->myst-nb~=0.17.1->jupyter-book) (1.5.1)\n",
      "Requirement already satisfied: prompt-toolkit!=3.0.37,<3.1.0,>=3.0.30 in c:\\users\\user\\anaconda3\\envs\\tf\\lib\\site-packages (from ipython->myst-nb~=0.17.1->jupyter-book) (3.0.36)\n",
      "Requirement already satisfied: pickleshare in c:\\users\\user\\anaconda3\\envs\\tf\\lib\\site-packages (from ipython->myst-nb~=0.17.1->jupyter-book) (0.7.5)\n",
      "Requirement already satisfied: backcall in c:\\users\\user\\anaconda3\\envs\\tf\\lib\\site-packages (from ipython->myst-nb~=0.17.1->jupyter-book) (0.2.0)\n",
      "Requirement already satisfied: stack-data in c:\\users\\user\\anaconda3\\envs\\tf\\lib\\site-packages (from ipython->myst-nb~=0.17.1->jupyter-book) (0.2.0)\n",
      "Requirement already satisfied: decorator in c:\\users\\user\\anaconda3\\envs\\tf\\lib\\site-packages (from ipython->myst-nb~=0.17.1->jupyter-book) (5.1.1)\n",
      "Requirement already satisfied: jedi>=0.16 in c:\\users\\user\\anaconda3\\envs\\tf\\lib\\site-packages (from ipython->myst-nb~=0.17.1->jupyter-book) (0.18.1)\n",
      "Requirement already satisfied: parso<0.9.0,>=0.8.0 in c:\\users\\user\\anaconda3\\envs\\tf\\lib\\site-packages (from jedi>=0.16->ipython->myst-nb~=0.17.1->jupyter-book) (0.8.3)\n",
      "Requirement already satisfied: python-dateutil>=2.8.2 in c:\\users\\user\\anaconda3\\envs\\tf\\lib\\site-packages (from jupyter-client>=6.1.5->nbclient->myst-nb~=0.17.1->jupyter-book) (2.8.2)\n",
      "Requirement already satisfied: platformdirs>=2.5 in c:\\users\\user\\anaconda3\\envs\\tf\\lib\\site-packages (from jupyter-core->nbformat~=5.0->myst-nb~=0.17.1->jupyter-book) (2.5.2)\n",
      "Requirement already satisfied: pywin32>=300 in c:\\users\\user\\anaconda3\\envs\\tf\\lib\\site-packages (from jupyter-core->nbformat~=5.0->myst-nb~=0.17.1->jupyter-book) (305.1)\n",
      "Requirement already satisfied: mdurl~=0.1 in c:\\users\\user\\anaconda3\\envs\\tf\\lib\\site-packages (from markdown-it-py<3.0.0,>=1.0.0->myst-parser~=0.18.0->myst-nb~=0.17.1->jupyter-book) (0.1.2)\n",
      "Requirement already satisfied: wcwidth in c:\\users\\user\\anaconda3\\envs\\tf\\lib\\site-packages (from prompt-toolkit!=3.0.37,<3.1.0,>=3.0.30->ipython->myst-nb~=0.17.1->jupyter-book) (0.2.5)\n",
      "Requirement already satisfied: greenlet!=0.4.17 in c:\\users\\user\\anaconda3\\envs\\tf\\lib\\site-packages (from sqlalchemy<3,>=1.3.12->jupyter-cache<0.7,>=0.5->myst-nb~=0.17.1->jupyter-book) (2.0.2)\n",
      "Requirement already satisfied: soupsieve>1.2 in c:\\users\\user\\anaconda3\\envs\\tf\\lib\\site-packages (from beautifulsoup4->pydata-sphinx-theme>=0.13.3->sphinx-book-theme~=1.0.0->jupyter-book) (2.4)\n",
      "Requirement already satisfied: asttokens in c:\\users\\user\\anaconda3\\envs\\tf\\lib\\site-packages (from stack-data->ipython->myst-nb~=0.17.1->jupyter-book) (2.0.5)\n",
      "Requirement already satisfied: pure-eval in c:\\users\\user\\anaconda3\\envs\\tf\\lib\\site-packages (from stack-data->ipython->myst-nb~=0.17.1->jupyter-book) (0.2.2)\n",
      "Requirement already satisfied: executing in c:\\users\\user\\anaconda3\\envs\\tf\\lib\\site-packages (from stack-data->ipython->myst-nb~=0.17.1->jupyter-book) (0.8.3)\n"
     ]
    }
   ],
   "source": [
    "!pip install jupyter-book"
   ]
  },
  {
   "cell_type": "code",
   "execution_count": 2,
   "metadata": {},
   "outputs": [
    {
     "name": "stdout",
     "output_type": "stream",
     "text": [
      "^C\n"
     ]
    },
    {
     "name": "stderr",
     "output_type": "stream",
     "text": [
      "[sphinxcontrib-bibtex] Beware that docutils versions 0.18 and 0.19 (you are running 0.18.1) are known to generate invalid html for citations. If this issue affects you, please use docutils<0.18 (or >=0.20 once released) instead. For more details, see https://sourceforge.net/p/docutils/patches/195/\n",
      "C:\\Users\\User\\anaconda3\\envs\\tf\\lib\\site-packages\\zmq\\_future.py:681: RuntimeWarning: Proactor event loop does not implement add_reader family of methods required for zmq. Registering an additional selector thread for add_reader support via tornado. Use `asyncio.set_event_loop_policy(WindowsSelectorEventLoopPolicy())` to avoid this warning.\n",
      "  self._get_loop()\n"
     ]
    },
    {
     "name": "stdout",
     "output_type": "stream",
     "text": [
      "Running Jupyter-Book v0.15.1\n",
      "Source Folder: c:\\workspace\\jetech-trading.github.io\n",
      "Config Path: c:\\workspace\\jetech-trading.github.io\\_config.yml\n",
      "Output Path: c:\\workspace\\jetech-trading.github.io\\_build\\html\n",
      "\u001b[01mRunning Sphinx v5.0.2\u001b[39;49;00m\n",
      "[etoc] Changing master_doc to 'intro'\n",
      "\u001b[01mloading pickled environment... \u001b[39;49;00mfailed\n",
      "failed: source directory has changed\n",
      "checking bibtex cache... out of date\n",
      "parsing bibtex file c:\\workspace\\jetech-trading.github.io\\references.bib... parsed 5 entries\n",
      "\u001b[01mmyst v0.18.1:\u001b[39;49;00m MdParserConfig(commonmark_only=False, gfm_only=False, enable_extensions=['colon_fence', 'dollarmath', 'linkify', 'substitution', 'tasklist'], disable_syntax=[], all_links_external=False, url_schemes=['mailto', 'http', 'https'], ref_domains=None, highlight_code_blocks=True, number_code_blocks=[], title_to_header=False, heading_anchors=None, heading_slug_func=None, footnote_transition=True, words_per_minute=200, sub_delimiters=('{', '}'), linkify_fuzzy_links=True, dmath_allow_labels=True, dmath_allow_space=True, dmath_allow_digits=True, dmath_double_inline=False, update_mathjax=True, mathjax_classes='tex2jax_process|mathjax_process|math|output_area')\n",
      "\u001b[01mmyst-nb v0.17.2:\u001b[39;49;00m NbParserConfig(custom_formats={}, metadata_key='mystnb', cell_metadata_key='mystnb', kernel_rgx_aliases={}, execution_mode='force', execution_cache_path='', execution_excludepatterns=[], execution_timeout=30, execution_in_temp=False, execution_allow_errors=False, execution_raise_on_error=False, execution_show_tb=False, merge_streams=False, render_plugin='default', remove_code_source=False, remove_code_outputs=False, code_prompt_show='Show code cell {type}', code_prompt_hide='Hide code cell {type}', number_source_lines=False, output_stderr='show', render_text_lexer='myst-ansi', render_error_lexer='ipythontb', render_image_options={}, render_figure_options={}, render_markdown_format='commonmark', output_folder='build', append_css=True, metadata_to_fm=False)\n",
      "Using jupyter-cache at: C:\\workspace\\jetech-trading.github.io\\_build\\.jupyter_cache\n",
      "\u001b[01mbuilding [mo]: \u001b[39;49;00mtargets for 0 po files that are out of date\n",
      "\u001b[01mbuilding [html]: \u001b[39;49;00mtargets for 6 source files that are out of date\n",
      "\u001b[01mupdating environment: \u001b[39;49;00m[new config] 6 added, 0 changed, 0 removed\n",
      "\u001b[01mreading sources... \u001b[39;49;00m[ 16%] \u001b[35mintro\u001b[39;49;00m                                                \n",
      "\u001b[01mreading sources... \u001b[39;49;00m[ 33%] \u001b[35mmarkdown\u001b[39;49;00m                                             \n",
      "\u001b[01mreading sources... \u001b[39;49;00m[ 50%] \u001b[35mmarkdown-notebooks\u001b[39;49;00m                                   \n",
      "c:\\workspace\\jetech-trading.github.io\\markdown-notebooks.md: Executing notebook using local CWD [mystnb]\n",
      "c:\\workspace\\jetech-trading.github.io\\markdown-notebooks.md: Executed notebook in 1.55 seconds [mystnb]\n",
      "\u001b[01mreading sources... \u001b[39;49;00m[ 66%] \u001b[35mnotebooks\u001b[39;49;00m                                            \n",
      "c:\\workspace\\jetech-trading.github.io\\notebooks.ipynb: Executing notebook using local CWD [mystnb]\n",
      "c:\\workspace\\jetech-trading.github.io\\notebooks.ipynb: Executed notebook in 1.96 seconds [mystnb]\n",
      "\u001b[01mreading sources... \u001b[39;49;00m[ 83%] \u001b[35mresearch/Untitled\u001b[39;49;00m                                    \n",
      "c:\\workspace\\jetech-trading.github.io\\research\\Untitled.ipynb: Executing notebook using local CWD [mystnb]\n",
      "c:\\workspace\\jetech-trading.github.io\\research\\Untitled.ipynb: Executed notebook in 1.78 seconds [mystnb]\n",
      "\u001b[01mreading sources... \u001b[39;49;00m[100%] \u001b[35mscript\u001b[39;49;00m                                               \n",
      "c:\\workspace\\jetech-trading.github.io\\script.ipynb: Executing notebook using local CWD [mystnb]\n"
     ]
    }
   ],
   "source": [
    "!jupyter-book build ./"
   ]
  },
  {
   "cell_type": "code",
   "execution_count": null,
   "metadata": {},
   "outputs": [],
   "source": [
    "!git add .\n",
    "!git commit -m \"update from colab\"\n",
    "!git push -u origin main"
   ]
  }
 ],
 "metadata": {
  "kernelspec": {
   "display_name": "tf",
   "language": "python",
   "name": "python3"
  },
  "language_info": {
   "codemirror_mode": {
    "name": "ipython",
    "version": 3
   },
   "file_extension": ".py",
   "mimetype": "text/x-python",
   "name": "python",
   "nbconvert_exporter": "python",
   "pygments_lexer": "ipython3",
   "version": "3.9.16"
  }
 },
 "nbformat": 4,
 "nbformat_minor": 2
}