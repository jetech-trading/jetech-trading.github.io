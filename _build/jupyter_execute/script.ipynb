{
 "cells": [
  {
   "cell_type": "code",
   "execution_count": 1,
   "metadata": {
    "ExecuteTime": {
     "end_time": "2023-06-06T15:19:26.079085Z",
     "start_time": "2023-06-06T15:18:48.507459Z"
    }
   },
   "outputs": [
    {
     "name": "stdout",
     "output_type": "stream",
     "text": [
      "\u001b[32m\u001b[1mRunning Jupyter-Book v0.15.1\u001b[0m\n",
      "\u001b[34m\u001b[1mSource Folder: \u001b[0m/content/drive/MyDrive/jetech-trading.github/jetech-trading.github.io\n",
      "\u001b[34m\u001b[1mConfig Path: \u001b[0m/content/drive/MyDrive/jetech-trading.github/jetech-trading.github.io/_config.yml\n",
      "\u001b[34m\u001b[1mOutput Path: \u001b[0m/content/drive/MyDrive/jetech-trading.github/jetech-trading.github.io/_build/html\n",
      "\u001b[01mRunning Sphinx v5.0.2\u001b[39;49;00m\n"
     ]
    },
    {
     "name": "stdout",
     "output_type": "stream",
     "text": [
      "[etoc] Changing master_doc to 'intro'\n",
      "\u001b[01mloading pickled environment... \u001b[39;49;00mdone\n",
      "\u001b[01mmyst v0.18.1:\u001b[39;49;00m MdParserConfig(commonmark_only=False, gfm_only=False, enable_extensions=['colon_fence', 'dollarmath', 'linkify', 'substitution', 'tasklist'], disable_syntax=[], all_links_external=False, url_schemes=['mailto', 'http', 'https'], ref_domains=None, highlight_code_blocks=True, number_code_blocks=[], title_to_header=False, heading_anchors=None, heading_slug_func=None, footnote_transition=True, words_per_minute=200, sub_delimiters=('{', '}'), linkify_fuzzy_links=True, dmath_allow_labels=True, dmath_allow_space=True, dmath_allow_digits=True, dmath_double_inline=False, update_mathjax=True, mathjax_classes='tex2jax_process|mathjax_process|math|output_area')\n",
      "\u001b[01mmyst-nb v0.17.2:\u001b[39;49;00m NbParserConfig(custom_formats={}, metadata_key='mystnb', cell_metadata_key='mystnb', kernel_rgx_aliases={}, execution_mode='force', execution_cache_path='', execution_excludepatterns=[], execution_timeout=30, execution_in_temp=False, execution_allow_errors=False, execution_raise_on_error=False, execution_show_tb=False, merge_streams=False, render_plugin='default', remove_code_source=False, remove_code_outputs=False, code_prompt_show='Show code cell {type}', code_prompt_hide='Hide code cell {type}', number_source_lines=False, output_stderr='show', render_text_lexer='myst-ansi', render_error_lexer='ipythontb', render_image_options={}, render_figure_options={}, render_markdown_format='commonmark', output_folder='build', append_css=True, metadata_to_fm=False)\n",
      "Using jupyter-cache at: /content/drive/MyDrive/jetech-trading.github/jetech-trading.github.io/_build/.jupyter_cache\n",
      "\u001b[01mbuilding [mo]: \u001b[39;49;00mtargets for 0 po files that are out of date\n",
      "\u001b[01mbuilding [html]: \u001b[39;49;00mtargets for 10 source files that are out of date\n",
      "\u001b[01mupdating environment: \u001b[39;49;00m"
     ]
    },
    {
     "name": "stdout",
     "output_type": "stream",
     "text": [
      "0 added, 2 changed, 0 removed\n",
      "\u001b[01mreading sources... \u001b[39;49;00m[ 50%] \u001b[35mresearch/20230618\u001b[39;49;00m\r"
     ]
    },
    {
     "name": "stdout",
     "output_type": "stream",
     "text": [
      "/content/drive/MyDrive/jetech-trading.github/jetech-trading.github.io/research/20230618.ipynb: Executing notebook using local CWD [mystnb]\n"
     ]
    },
    {
     "name": "stdout",
     "output_type": "stream",
     "text": [
      "/content/drive/MyDrive/jetech-trading.github/jetech-trading.github.io/research/20230618.ipynb: Executed notebook in 9.04 seconds [mystnb]\n"
     ]
    },
    {
     "name": "stdout",
     "output_type": "stream",
     "text": [
      "\u001b[01mreading sources... \u001b[39;49;00m[100%] \u001b[35mresearch/research\u001b[39;49;00m\r\n",
      "\u001b[01mlooking for now-outdated files... \u001b[39;49;00mnone found\n",
      "\u001b[01mpickling environment... \u001b[39;49;00mdone\n",
      "\u001b[01mchecking consistency... \u001b[39;49;00m\u001b[91m/content/drive/MyDrive/jetech-trading.github/jetech-trading.github.io/markdown.md: WARNING: document isn't included in any toctree\u001b[39;49;00m\n",
      "\u001b[91m/content/drive/MyDrive/jetech-trading.github/jetech-trading.github.io/script.ipynb: WARNING: document isn't included in any toctree\u001b[39;49;00m\n",
      "done\n",
      "\u001b[01mpreparing documents... \u001b[39;49;00mdone\n",
      "\u001b[01mwriting output... \u001b[39;49;00m[ 10%] \u001b[32mcrypto/20230606\u001b[39;49;00m\r"
     ]
    },
    {
     "name": "stdout",
     "output_type": "stream",
     "text": [
      "\u001b[01mwriting output... \u001b[39;49;00m[ 20%] \u001b[32mcrypto/crypto\u001b[39;49;00m\r",
      "\u001b[01mwriting output... \u001b[39;49;00m[ 30%] \u001b[32mintro\u001b[39;49;00m\r",
      "\u001b[01mwriting output... \u001b[39;49;00m[ 40%] \u001b[32mmarkdown\u001b[39;49;00m\r"
     ]
    },
    {
     "name": "stdout",
     "output_type": "stream",
     "text": [
      "\u001b[01mwriting output... \u001b[39;49;00m[ 50%] \u001b[32mmarkdown-notebooks\u001b[39;49;00m\r",
      "\u001b[01mwriting output... \u001b[39;49;00m[ 60%] \u001b[32mresearch/20230618\u001b[39;49;00m\r"
     ]
    },
    {
     "name": "stdout",
     "output_type": "stream",
     "text": [
      "\u001b[01mwriting output... \u001b[39;49;00m[ 70%] \u001b[32mresearch/research\u001b[39;49;00m\r",
      "\u001b[01mwriting output... \u001b[39;49;00m[ 80%] \u001b[32mscript\u001b[39;49;00m\r"
     ]
    },
    {
     "name": "stdout",
     "output_type": "stream",
     "text": [
      "\u001b[01mwriting output... \u001b[39;49;00m[ 90%] \u001b[32mstock/20230606\u001b[39;49;00m\r"
     ]
    },
    {
     "name": "stdout",
     "output_type": "stream",
     "text": [
      "\u001b[01mwriting output... \u001b[39;49;00m[100%] \u001b[32mstock/stock\u001b[39;49;00m\r\n",
      "\u001b[01mgenerating indices... \u001b[39;49;00mgenindex done\n",
      "\u001b[01mwriting additional pages... \u001b[39;49;00msearch done\n",
      "\u001b[01mcopying images... \u001b[39;49;00m[ 25%] \u001b[33m_build/jupyter_execute/b4c19ae4283c2cc1a401e6a31f3b8fe95915801d363f628067dcab4cd7484539.png\u001b[39;49;00m\r",
      "\u001b[01mcopying images... \u001b[39;49;00m[ 50%] \u001b[33m_build/jupyter_execute/529ae1bd334057e94d848fc46904e7c686f3c63f27a03c43ced45c0c1e02824a.png\u001b[39;49;00m\r",
      "\u001b[01mcopying images... \u001b[39;49;00m[ 75%] \u001b[33m_build/jupyter_execute/2ac91291a546b3870c8017d68e7efae770004c9f583a6bbcc39e091200fc7bfe.png\u001b[39;49;00m\r",
      "\u001b[01mcopying images... \u001b[39;49;00m[100%] \u001b[33m_build/jupyter_execute/c9da7873e4a49d237cbb656c65671f03d35a48298acf88813f75a1bc6249a439.png\u001b[39;49;00m\r\n",
      "\u001b[01mcopying static files... \u001b[39;49;00m"
     ]
    },
    {
     "name": "stdout",
     "output_type": "stream",
     "text": [
      "done\n",
      "\u001b[01mcopying extra files... \u001b[39;49;00mdone\n",
      "\u001b[01mdumping search index in English (code: en)... \u001b[39;49;00mdone\n",
      "\u001b[01mdumping object inventory... \u001b[39;49;00mdone\n",
      "\u001b[01mbuild succeeded, 2 warnings.\u001b[39;49;00m\n",
      "\n",
      "The HTML pages are in _build/html.\n",
      "\n",
      "\u001b[92m===============================================================================\u001b[0m\n",
      "\n",
      "Finished generating HTML for book.\n",
      "Your book's HTML pages are here:\n",
      "    _build/html/\n",
      "You can look at your book by opening this file in a browser:\n",
      "    _build/html/index.html\n",
      "Or paste this line directly into your browser bar:\n",
      "    file:///content/drive/MyDrive/jetech-trading.github/jetech-trading.github.io/_build/html/index.html            \n",
      "\n",
      "\u001b[92m===============================================================================\u001b[0m\n",
      "\n"
     ]
    }
   ],
   "source": [
    "!jupyter-book build ./\n"
   ]
  },
  {
   "cell_type": "code",
   "execution_count": 2,
   "metadata": {},
   "outputs": [
    {
     "name": "stdout",
     "output_type": "stream",
     "text": [
      "Enumerating objects: 1\r",
      "Enumerating objects: 45, done.\n",
      "Counting objects:   2% (1/45)\r",
      "Counting objects:   4% (2/45)\r",
      "Counting objects:   6% (3/45)\r"
     ]
    },
    {
     "name": "stdout",
     "output_type": "stream",
     "text": [
      "Counting objects:   8% (4/45)\r",
      "Counting objects:  11% (5/45)\r",
      "Counting objects:  13% (6/45)\r",
      "Counting objects:  15% (7/45)\r",
      "Counting objects:  17% (8/45)\r",
      "Counting objects:  20% (9/45)\r",
      "Counting objects:  22% (10/45)\r",
      "Counting objects:  24% (11/45)\r",
      "Counting objects:  26% (12/45)\r",
      "Counting objects:  28% (13/45)\r",
      "Counting objects:  31% (14/45)\r",
      "Counting objects:  33% (15/45)\r",
      "Counting objects:  35% (16/45)\r"
     ]
    },
    {
     "name": "stdout",
     "output_type": "stream",
     "text": [
      "Counting objects:  37% (17/45)\r",
      "Counting objects:  40% (18/45)\r",
      "Counting objects:  42% (19/45)\r",
      "Counting objects:  44% (20/45)\r",
      "Counting objects:  46% (21/45)\r",
      "Counting objects:  48% (22/45)\r",
      "Counting objects:  51% (23/45)\r",
      "Counting objects:  53% (24/45)\r"
     ]
    },
    {
     "name": "stdout",
     "output_type": "stream",
     "text": [
      "Counting objects:  55% (25/45)\r",
      "Counting objects:  57% (26/45)\r",
      "Counting objects:  60% (27/45)\r",
      "Counting objects:  62% (28/45)\r",
      "Counting objects:  64% (29/45)\r",
      "Counting objects:  66% (30/45)\r",
      "Counting objects:  68% (31/45)\r",
      "Counting objects:  71% (32/45)\r",
      "Counting objects:  73% (33/45)\r",
      "Counting objects:  75% (34/45)\r",
      "Counting objects:  77% (35/45)\r",
      "Counting objects:  80% (36/45)\r",
      "Counting objects:  82% (37/45)\r",
      "Counting objects:  84% (38/45)\r",
      "Counting objects:  86% (39/45)\r"
     ]
    },
    {
     "name": "stdout",
     "output_type": "stream",
     "text": [
      "Counting objects:  88% (40/45)\r",
      "Counting objects:  91% (41/45)\r",
      "Counting objects:  93% (42/45)\r",
      "Counting objects:  95% (43/45)\r",
      "Counting objects:  97% (44/45)\r",
      "Counting objects: 100% (45/45)\r",
      "Counting objects: 100% (45/45), done.\n",
      "Delta compression using up to 2 threads\n",
      "Compressing objects:   4% (1/22)\r",
      "Compressing objects:   9% (2/22)\r",
      "Compressing objects:  13% (3/22)\r",
      "Compressing objects:  18% (4/22)\r",
      "Compressing objects:  22% (5/22)\r",
      "Compressing objects:  27% (6/22)\r",
      "Compressing objects:  31% (7/22)\r",
      "Compressing objects:  36% (8/22)\r",
      "Compressing objects:  40% (9/22)\r",
      "Compressing objects:  45% (10/22)\r",
      "Compressing objects:  50% (11/22)\r",
      "Compressing objects:  54% (12/22)\r",
      "Compressing objects:  59% (13/22)\r",
      "Compressing objects:  63% (14/22)\r",
      "Compressing objects:  68% (15/22)\r",
      "Compressing objects:  72% (16/22)\r",
      "Compressing objects:  77% (17/22)\r",
      "Compressing objects:  81% (18/22)\r",
      "Compressing objects:  86% (19/22)\r",
      "Compressing objects:  90% (20/22)\r",
      "Compressing objects:  95% (21/22)\r",
      "Compressing objects: 100% (22/22)\r",
      "Compressing objects: 100% (22/22), done.\n",
      "Writing objects:   4% (1/23)\r",
      "Writing objects:   8% (2/23)\r",
      "Writing objects:  13% (3/23)\r",
      "Writing objects:  17% (4/23)\r",
      "Writing objects:  26% (6/23)\r",
      "Writing objects:  30% (7/23)\r",
      "Writing objects:  34% (8/23)\r",
      "Writing objects:  39% (9/23)\r",
      "Writing objects:  43% (10/23)\r",
      "Writing objects:  47% (11/23)\r",
      "Writing objects:  52% (12/23)\r",
      "Writing objects:  56% (13/23)\r",
      "Writing objects:  60% (14/23)\r",
      "Writing objects:  65% (15/23)\r",
      "Writing objects:  69% (16/23)\r",
      "Writing objects:  73% (17/23)\r",
      "Writing objects:  78% (18/23)\r",
      "Writing objects:  82% (19/23)\r",
      "Writing objects:  86% (20/23)\r",
      "Writing objects:  91% (21/23)\r",
      "Writing objects:  95% (22/23)\r",
      "Writing objects: 100% (23/23)\r",
      "Writing objects: 100% (23/23), 229.06 KiB | 4.58 MiB/s, done.\n",
      "Total 23 (delta 14), reused 0 (delta 0)\n"
     ]
    },
    {
     "name": "stdout",
     "output_type": "stream",
     "text": [
      "remote: Resolving deltas:   7% (1/14)\u001b[K\r",
      "remote: Resolving deltas:  14% (2/14)\u001b[K\r",
      "remote: Resolving deltas:  21% (3/14)\u001b[K\r",
      "remote: Resolving deltas:  28% (4/14)\u001b[K\r",
      "remote: Resolving deltas:  35% (5/14)\u001b[K\r",
      "remote: Resolving deltas:  42% (6/14)\u001b[K\r",
      "remote: Resolving deltas:  50% (7/14)\u001b[K\r",
      "remote: Resolving deltas:  57% (8/14)\u001b[K\r",
      "remote: Resolving deltas:  64% (9/14)\u001b[K\r",
      "remote: Resolving deltas:  71% (10/14)\u001b[K\r",
      "remote: Resolving deltas:  78% (11/14)\u001b[K\r",
      "remote: Resolving deltas:  85% (12/14)\u001b[K\r",
      "remote: Resolving deltas:  92% (13/14)\u001b[K\r",
      "remote: Resolving deltas: 100% (14/14)\u001b[K\r",
      "remote: Resolving deltas: 100% (14/14), completed with 13 local objects.\u001b[K\n"
     ]
    },
    {
     "name": "stdout",
     "output_type": "stream",
     "text": [
      "To https://github.com/jetech-trading/jetech-trading.github.io.git\n",
      "   e5c5164..37284e5  gh-pages -> gh-pages\n"
     ]
    }
   ],
   "source": [
    "!ghp-import -n -p -f _build/html"
   ]
  },
  {
   "cell_type": "code",
   "execution_count": 3,
   "metadata": {
    "ExecuteTime": {
     "end_time": "2023-06-06T15:23:54.814461Z",
     "start_time": "2023-06-06T15:23:53.368985Z"
    }
   },
   "outputs": [
    {
     "name": "stdout",
     "output_type": "stream",
     "text": [
      "[main dfc6a0d] update from windows\n",
      " 23 files changed, 250 insertions(+), 183 deletions(-)\n",
      " rewrite _build/html/_sources/research/20230618.ipynb (82%)\n",
      " rewrite _build/html/objects.inv (75%)\n",
      " rewrite _build/html/searchindex.js (98%)\n"
     ]
    },
    {
     "name": "stdout",
     "output_type": "stream",
     "text": [
      "Enumerating objects: 71, done.\n",
      "Counting objects:   1% (1/71)\r",
      "Counting objects:   2% (2/71)\r",
      "Counting objects:   4% (3/71)\r",
      "Counting objects:   5% (4/71)\r",
      "Counting objects:   7% (5/71)\r",
      "Counting objects:   8% (6/71)\r",
      "Counting objects:   9% (7/71)\r",
      "Counting objects:  11% (8/71)\r",
      "Counting objects:  12% (9/71)\r",
      "Counting objects:  14% (10/71)\r",
      "Counting objects:  15% (11/71)\r",
      "Counting objects:  16% (12/71)\r",
      "Counting objects:  18% (13/71)\r",
      "Counting objects:  19% (14/71)\r",
      "Counting objects:  21% (15/71)\r",
      "Counting objects:  22% (16/71)\r",
      "Counting objects:  23% (17/71)\r",
      "Counting objects:  25% (18/71)\r",
      "Counting objects:  26% (19/71)\r",
      "Counting objects:  28% (20/71)\r",
      "Counting objects:  29% (21/71)\r",
      "Counting objects:  30% (22/71)\r",
      "Counting objects:  32% (23/71)\r",
      "Counting objects:  33% (24/71)\r",
      "Counting objects:  35% (25/71)\r",
      "Counting objects:  36% (26/71)\r",
      "Counting objects:  38% (27/71)\r",
      "Counting objects:  39% (28/71)\r",
      "Counting objects:  40% (29/71)\r",
      "Counting objects:  42% (30/71)\r",
      "Counting objects:  43% (31/71)\r",
      "Counting objects:  45% (32/71)\r",
      "Counting objects:  46% (33/71)\r",
      "Counting objects:  47% (34/71)\r",
      "Counting objects:  49% (35/71)\r",
      "Counting objects:  50% (36/71)\r",
      "Counting objects:  52% (37/71)\r",
      "Counting objects:  53% (38/71)\r",
      "Counting objects:  54% (39/71)\r",
      "Counting objects:  56% (40/71)\r",
      "Counting objects:  57% (41/71)\r",
      "Counting objects:  59% (42/71)\r",
      "Counting objects:  60% (43/71)\r",
      "Counting objects:  61% (44/71)\r",
      "Counting objects:  63% (45/71)\r",
      "Counting objects:  64% (46/71)\r",
      "Counting objects:  66% (47/71)\r",
      "Counting objects:  67% (48/71)\r",
      "Counting objects:  69% (49/71)\r",
      "Counting objects:  70% (50/71)\r",
      "Counting objects:  71% (51/71)\r",
      "Counting objects:  73% (52/71)\r",
      "Counting objects:  74% (53/71)\r",
      "Counting objects:  76% (54/71)\r",
      "Counting objects:  77% (55/71)\r",
      "Counting objects:  78% (56/71)\r",
      "Counting objects:  80% (57/71)\r",
      "Counting objects:  81% (58/71)\r",
      "Counting objects:  83% (59/71)\r",
      "Counting objects:  84% (60/71)\r",
      "Counting objects:  85% (61/71)\r",
      "Counting objects:  87% (62/71)\r",
      "Counting objects:  88% (63/71)\r",
      "Counting objects:  90% (64/71)\r",
      "Counting objects:  91% (65/71)\r",
      "Counting objects:  92% (66/71)\r",
      "Counting objects:  94% (67/71)\r",
      "Counting objects:  95% (68/71)\r",
      "Counting objects:  97% (69/71)\r",
      "Counting objects:  98% (70/71)\r",
      "Counting objects: 100% (71/71)\r",
      "Counting objects: 100% (71/71), done.\n",
      "Delta compression using up to 2 threads\n",
      "Compressing objects:   2% (1/35)\r",
      "Compressing objects:   5% (2/35)\r",
      "Compressing objects:   8% (3/35)\r",
      "Compressing objects:  11% (4/35)\r",
      "Compressing objects:  14% (5/35)\r",
      "Compressing objects:  17% (6/35)\r",
      "Compressing objects:  20% (7/35)\r",
      "Compressing objects:  22% (8/35)\r",
      "Compressing objects:  25% (9/35)\r",
      "Compressing objects:  28% (10/35)\r",
      "Compressing objects:  31% (11/35)\r",
      "Compressing objects:  34% (12/35)\r",
      "Compressing objects:  37% (13/35)\r",
      "Compressing objects:  40% (14/35)\r",
      "Compressing objects:  42% (15/35)\r",
      "Compressing objects:  45% (16/35)\r",
      "Compressing objects:  48% (17/35)\r",
      "Compressing objects:  51% (18/35)\r",
      "Compressing objects:  54% (19/35)\r",
      "Compressing objects:  57% (20/35)\r",
      "Compressing objects:  60% (21/35)\r",
      "Compressing objects:  62% (22/35)\r",
      "Compressing objects:  65% (23/35)\r",
      "Compressing objects:  68% (24/35)\r",
      "Compressing objects:  71% (25/35)\r",
      "Compressing objects:  74% (26/35)\r",
      "Compressing objects:  77% (27/35)\r",
      "Compressing objects:  80% (28/35)\r",
      "Compressing objects:  82% (29/35)\r",
      "Compressing objects:  85% (30/35)\r",
      "Compressing objects:  88% (31/35)\r",
      "Compressing objects:  91% (32/35)\r",
      "Compressing objects:  94% (33/35)\r",
      "Compressing objects:  97% (34/35)\r",
      "Compressing objects: 100% (35/35)\r",
      "Compressing objects: 100% (35/35), done.\n",
      "Writing objects:   2% (1/36)\r",
      "Writing objects:   5% (2/36)\r",
      "Writing objects:   8% (3/36)\r",
      "Writing objects:  11% (4/36)\r",
      "Writing objects:  13% (5/36)\r",
      "Writing objects:  16% (6/36)\r",
      "Writing objects:  19% (7/36)\r",
      "Writing objects:  22% (8/36)\r",
      "Writing objects:  27% (10/36)\r",
      "Writing objects:  30% (11/36)\r",
      "Writing objects:  33% (12/36)\r",
      "Writing objects:  36% (13/36)\r",
      "Writing objects:  38% (14/36)\r",
      "Writing objects:  41% (15/36)\r",
      "Writing objects:  44% (16/36)\r",
      "Writing objects:  47% (17/36)\r",
      "Writing objects:  50% (18/36)\r",
      "Writing objects:  52% (19/36)\r",
      "Writing objects:  55% (20/36)\r",
      "Writing objects:  58% (21/36)\r",
      "Writing objects:  61% (22/36)\r",
      "Writing objects:  63% (23/36)\r",
      "Writing objects:  66% (24/36)\r",
      "Writing objects:  69% (25/36)\r",
      "Writing objects:  72% (26/36)\r",
      "Writing objects:  75% (27/36)\r",
      "Writing objects:  77% (28/36)\r",
      "Writing objects:  80% (29/36)\r",
      "Writing objects:  83% (30/36)\r",
      "Writing objects:  86% (31/36)\r",
      "Writing objects:  88% (32/36)\r",
      "Writing objects:  91% (33/36)\r",
      "Writing objects:  94% (34/36)\r",
      "Writing objects:  97% (35/36)\r",
      "Writing objects: 100% (36/36)\r",
      "Writing objects: 100% (36/36), 448.54 KiB | 5.90 MiB/s, done.\n",
      "Total 36 (delta 22), reused 0 (delta 0)\n"
     ]
    },
    {
     "name": "stdout",
     "output_type": "stream",
     "text": [
      "remote: Resolving deltas:   0% (0/22)\u001b[K\r",
      "remote: Resolving deltas:   4% (1/22)\u001b[K\r",
      "remote: Resolving deltas:   9% (2/22)\u001b[K\r",
      "remote: Resolving deltas:  13% (3/22)\u001b[K\r",
      "remote: Resolving deltas:  18% (4/22)\u001b[K\r",
      "remote: Resolving deltas:  22% (5/22)\u001b[K\r",
      "remote: Resolving deltas:  27% (6/22)\u001b[K\r",
      "remote: Resolving deltas:  31% (7/22)\u001b[K\r",
      "remote: Resolving deltas:  36% (8/22)\u001b[K\r",
      "remote: Resolving deltas:  40% (9/22)\u001b[K\r",
      "remote: Resolving deltas:  45% (10/22)\u001b[K\r",
      "remote: Resolving deltas:  50% (11/22)\u001b[K\r",
      "remote: Resolving deltas:  54% (12/22)\u001b[K\r",
      "remote: Resolving deltas:  59% (13/22)\u001b[K\r",
      "remote: Resolving deltas:  63% (14/22)\u001b[K\r",
      "remote: Resolving deltas:  68% (15/22)\u001b[K\r",
      "remote: Resolving deltas:  72% (16/22)\u001b[K\r",
      "remote: Resolving deltas:  77% (17/22)\u001b[K\r",
      "remote: Resolving deltas:  81% (18/22)\u001b[K\r",
      "remote: Resolving deltas:  86% (19/22)\u001b[K\r",
      "remote: Resolving deltas:  90% (20/22)\u001b[K\r",
      "remote: Resolving deltas:  95% (21/22)\u001b[K\r",
      "remote: Resolving deltas: 100% (22/22)\u001b[K\r",
      "remote: Resolving deltas: 100% (22/22), completed with 21 local objects.\u001b[K\n"
     ]
    },
    {
     "name": "stdout",
     "output_type": "stream",
     "text": [
      "To https://github.com/jetech-trading/jetech-trading.github.io.git\n",
      "   0bc1790..dfc6a0d  main -> main\n",
      "Branch 'main' set up to track remote branch 'main' from 'origin'.\n"
     ]
    }
   ],
   "source": [
    "\n",
    "!git config user.email 'xile803@likelion.org'\n",
    "!git config user.name 'jetech-trading'\n",
    "!git add .\n",
    "!git commit -m \"update from windows\"\n",
    "!git push -u origin main"
   ]
  },
  {
   "cell_type": "code",
   "execution_count": 4,
   "metadata": {
    "ExecuteTime": {
     "end_time": "2023-06-06T15:24:20.601443Z",
     "start_time": "2023-06-06T15:24:20.447076Z"
    }
   },
   "outputs": [
    {
     "name": "stdout",
     "output_type": "stream",
     "text": [
      "jetech-trading\n"
     ]
    }
   ],
   "source": [
    "!git config user.name"
   ]
  },
  {
   "cell_type": "code",
   "execution_count": 5,
   "metadata": {
    "ExecuteTime": {
     "end_time": "2023-06-06T15:24:25.607288Z",
     "start_time": "2023-06-06T15:24:25.451632Z"
    },
    "collapsed": false
   },
   "outputs": [],
   "source": [
    "!git config user.password"
   ]
  },
  {
   "cell_type": "code",
   "execution_count": null,
   "metadata": {
    "collapsed": false
   },
   "outputs": [],
   "source": []
  }
 ],
 "metadata": {
  "kernelspec": {
   "display_name": "tf",
   "language": "python",
   "name": "python3"
  },
  "language_info": {
   "codemirror_mode": {
    "name": "ipython",
    "version": 3
   },
   "file_extension": ".py",
   "mimetype": "text/x-python",
   "name": "python",
   "nbconvert_exporter": "python",
   "pygments_lexer": "ipython3",
   "version": "3.10.12"
  }
 },
 "nbformat": 4,
 "nbformat_minor": 2
}