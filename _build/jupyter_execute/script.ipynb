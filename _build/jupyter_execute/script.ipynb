{
 "cells": [
  {
   "cell_type": "code",
   "execution_count": 1,
   "metadata": {
    "ExecuteTime": {
     "end_time": "2023-06-06T15:19:26.079085Z",
     "start_time": "2023-06-06T15:18:48.507459Z"
    }
   },
   "outputs": [
    {
     "name": "stdout",
     "output_type": "stream",
     "text": [
      "\u001b[32m\u001b[1mRunning Jupyter-Book v0.15.1\u001b[0m\n",
      "\u001b[34m\u001b[1mSource Folder: \u001b[0m/content/drive/MyDrive/jetech-trading.github/jetech-trading.github.io\n",
      "\u001b[34m\u001b[1mConfig Path: \u001b[0m/content/drive/MyDrive/jetech-trading.github/jetech-trading.github.io/_config.yml\n",
      "\u001b[34m\u001b[1mOutput Path: \u001b[0m/content/drive/MyDrive/jetech-trading.github/jetech-trading.github.io/_build/html\n",
      "\u001b[01mRunning Sphinx v5.0.2\u001b[39;49;00m\n"
     ]
    },
    {
     "name": "stdout",
     "output_type": "stream",
     "text": [
      "[etoc] Changing master_doc to 'intro'\n",
      "\u001b[01mloading pickled environment... \u001b[39;49;00mdone\n",
      "\u001b[01mmyst v0.18.1:\u001b[39;49;00m MdParserConfig(commonmark_only=False, gfm_only=False, enable_extensions=['colon_fence', 'dollarmath', 'linkify', 'substitution', 'tasklist'], disable_syntax=[], all_links_external=False, url_schemes=['mailto', 'http', 'https'], ref_domains=None, highlight_code_blocks=True, number_code_blocks=[], title_to_header=False, heading_anchors=None, heading_slug_func=None, footnote_transition=True, words_per_minute=200, sub_delimiters=('{', '}'), linkify_fuzzy_links=True, dmath_allow_labels=True, dmath_allow_space=True, dmath_allow_digits=True, dmath_double_inline=False, update_mathjax=True, mathjax_classes='tex2jax_process|mathjax_process|math|output_area')\n",
      "\u001b[01mmyst-nb v0.17.2:\u001b[39;49;00m NbParserConfig(custom_formats={}, metadata_key='mystnb', cell_metadata_key='mystnb', kernel_rgx_aliases={}, execution_mode='force', execution_cache_path='', execution_excludepatterns=[], execution_timeout=30, execution_in_temp=False, execution_allow_errors=False, execution_raise_on_error=False, execution_show_tb=False, merge_streams=False, render_plugin='default', remove_code_source=False, remove_code_outputs=False, code_prompt_show='Show code cell {type}', code_prompt_hide='Hide code cell {type}', number_source_lines=False, output_stderr='show', render_text_lexer='myst-ansi', render_error_lexer='ipythontb', render_image_options={}, render_figure_options={}, render_markdown_format='commonmark', output_folder='build', append_css=True, metadata_to_fm=False)\n",
      "Using jupyter-cache at: /content/drive/MyDrive/jetech-trading.github/jetech-trading.github.io/_build/.jupyter_cache\n",
      "\u001b[01mbuilding [mo]: \u001b[39;49;00mtargets for 0 po files that are out of date\n",
      "\u001b[01mbuilding [html]: \u001b[39;49;00mtargets for 0 source files that are out of date\n",
      "\u001b[01mupdating environment: \u001b[39;49;00m"
     ]
    },
    {
     "name": "stdout",
     "output_type": "stream",
     "text": [
      "0 added, 0 changed, 0 removed\n",
      "\u001b[01mlooking for now-outdated files... \u001b[39;49;00mnone found\n",
      "\u001b[01mno targets are out of date.\u001b[39;49;00m\n",
      "\u001b[01mbuild succeeded.\u001b[39;49;00m\n",
      "\n",
      "The HTML pages are in _build/html.\n",
      "\n",
      "\u001b[92m===============================================================================\u001b[0m\n",
      "\n",
      "Finished generating HTML for book.\n",
      "Your book's HTML pages are here:\n",
      "    _build/html/\n",
      "You can look at your book by opening this file in a browser:\n",
      "    _build/html/index.html\n",
      "Or paste this line directly into your browser bar:\n",
      "    file:///content/drive/MyDrive/jetech-trading.github/jetech-trading.github.io/_build/html/index.html            \n",
      "\n",
      "\u001b[92m===============================================================================\u001b[0m\n",
      "\n"
     ]
    }
   ],
   "source": [
    "!jupyter-book build ./\n"
   ]
  },
  {
   "cell_type": "code",
   "execution_count": 2,
   "metadata": {},
   "outputs": [
    {
     "name": "stdout",
     "output_type": "stream",
     "text": [
      "Enumerating objects: 32, done.\n",
      "Counting objects:   3% (1/32)\r",
      "Counting objects:   6% (2/32)\r",
      "Counting objects:   9% (3/32)\r",
      "Counting objects:  12% (4/32)\r",
      "Counting objects:  15% (5/32)\r",
      "Counting objects:  18% (6/32)\r",
      "Counting objects:  21% (7/32)\r",
      "Counting objects:  25% (8/32)\r",
      "Counting objects:  28% (9/32)\r",
      "Counting objects:  31% (10/32)\r",
      "Counting objects:  34% (11/32)\r",
      "Counting objects:  37% (12/32)\r",
      "Counting objects:  40% (13/32)\r",
      "Counting objects:  43% (14/32)\r",
      "Counting objects:  46% (15/32)\r",
      "Counting objects:  50% (16/32)\r",
      "Counting objects:  53% (17/32)\r",
      "Counting objects:  56% (18/32)\r",
      "Counting objects:  59% (19/32)\r",
      "Counting objects:  62% (20/32)\r",
      "Counting objects:  65% (21/32)\r",
      "Counting objects:  68% (22/32)\r",
      "Counting objects:  71% (23/32)\r",
      "Counting objects:  75% (24/32)\r",
      "Counting objects:  78% (25/32)\r",
      "Counting objects:  81% (26/32)\r",
      "Counting objects:  84% (27/32)\r",
      "Counting objects:  87% (28/32)\r",
      "Counting objects:  90% (29/32)\r",
      "Counting objects:  93% (30/32)\r",
      "Counting objects:  96% (31/32)\r",
      "Counting objects: 100% (32/32)\r",
      "Counting objects: 100% (32/32), done.\n",
      "Delta compression using up to 2 threads\n",
      "Compressing objects:   7% (1/14)\r",
      "Compressing objects:  14% (2/14)\r",
      "Compressing objects:  21% (3/14)\r",
      "Compressing objects:  28% (4/14)\r",
      "Compressing objects:  35% (5/14)\r",
      "Compressing objects:  42% (6/14)\r",
      "Compressing objects:  50% (7/14)\r",
      "Compressing objects:  57% (8/14)\r",
      "Compressing objects:  64% (9/14)\r",
      "Compressing objects:  71% (10/14)\r",
      "Compressing objects:  78% (11/14)\r",
      "Compressing objects:  85% (12/14)\r",
      "Compressing objects:  92% (13/14)\r",
      "Compressing objects: 100% (14/14)\r",
      "Compressing objects: 100% (14/14), done.\n",
      "Writing objects:   5% (1/17)\r",
      "Writing objects:  11% (2/17)\r",
      "Writing objects:  17% (3/17)\r",
      "Writing objects:  23% (4/17)\r",
      "Writing objects:  29% (5/17)\r",
      "Writing objects:  35% (6/17)\r",
      "Writing objects:  41% (7/17)\r",
      "Writing objects:  47% (8/17)\r",
      "Writing objects:  52% (9/17)\r",
      "Writing objects:  58% (10/17)\r",
      "Writing objects:  64% (11/17)\r",
      "Writing objects:  70% (12/17)\r",
      "Writing objects:  76% (13/17)\r",
      "Writing objects:  82% (14/17)\r",
      "Writing objects:  88% (15/17)\r",
      "Writing objects:  94% (16/17)\r",
      "Writing objects: 100% (17/17)\r",
      "Writing objects: 100% (17/17), 5.93 KiB | 337.00 KiB/s, done.\n",
      "Total 17 (delta 10), reused 0 (delta 0)\n",
      "remote: Resolving deltas:   0% (0/10)\u001b[K\r",
      "remote: Resolving deltas:  10% (1/10)\u001b[K\r",
      "remote: Resolving deltas:  20% (2/10)\u001b[K\r",
      "remote: Resolving deltas:  30% (3/10)\u001b[K\r",
      "remote: Resolving deltas:  40% (4/10)\u001b[K\r",
      "remote: Resolving deltas:  50% (5/10)\u001b[K\r"
     ]
    },
    {
     "name": "stdout",
     "output_type": "stream",
     "text": [
      "remote: Resolving deltas:  60% (6/10)\u001b[K\r",
      "remote: Resolving deltas:  70% (7/10)\u001b[K\r",
      "remote: Resolving deltas:  80% (8/10)\u001b[K\r",
      "remote: Resolving deltas:  90% (9/10)\u001b[K\r",
      "remote: Resolving deltas: 100% (10/10)\u001b[K\r",
      "remote: Resolving deltas: 100% (10/10), completed with 10 local objects.\u001b[K\n"
     ]
    },
    {
     "name": "stdout",
     "output_type": "stream",
     "text": [
      "To https://github.com/jetech-trading/jetech-trading.github.io.git\n",
      "   a8c8124..fdb57b3  gh-pages -> gh-pages\n"
     ]
    }
   ],
   "source": [
    "!ghp-import -n -p -f _build/html"
   ]
  },
  {
   "cell_type": "code",
   "execution_count": 3,
   "metadata": {
    "ExecuteTime": {
     "end_time": "2023-06-06T15:23:54.814461Z",
     "start_time": "2023-06-06T15:23:53.368985Z"
    }
   },
   "outputs": [
    {
     "name": "stdout",
     "output_type": "stream",
     "text": [
      "[main 1a6e7d9] update from windows\n",
      " 20 files changed, 934 insertions(+), 482 deletions(-)\n",
      " rewrite _build/.doctrees/environment.pickle (61%)\n",
      " rewrite _build/.doctrees/script.doctree (61%)\n",
      " rewrite _build/html/searchindex.js (97%)\n"
     ]
    },
    {
     "name": "stdout",
     "output_type": "stream",
     "text": [
      "Enumerating objects: 79, done.\n",
      "Counting objects:   1% (1/79)\r",
      "Counting objects:   2% (2/79)\r",
      "Counting objects:   3% (3/79)\r",
      "Counting objects:   5% (4/79)\r",
      "Counting objects:   6% (5/79)\r",
      "Counting objects:   7% (6/79)\r",
      "Counting objects:   8% (7/79)\r",
      "Counting objects:  10% (8/79)\r",
      "Counting objects:  11% (9/79)\r",
      "Counting objects:  12% (10/79)\r",
      "Counting objects:  13% (11/79)\r",
      "Counting objects:  15% (12/79)\r",
      "Counting objects:  16% (13/79)\r",
      "Counting objects:  17% (14/79)\r",
      "Counting objects:  18% (15/79)\r",
      "Counting objects:  20% (16/79)\r",
      "Counting objects:  21% (17/79)\r",
      "Counting objects:  22% (18/79)\r",
      "Counting objects:  24% (19/79)\r",
      "Counting objects:  25% (20/79)\r",
      "Counting objects:  26% (21/79)\r",
      "Counting objects:  27% (22/79)\r",
      "Counting objects:  29% (23/79)\r",
      "Counting objects:  30% (24/79)\r",
      "Counting objects:  31% (25/79)\r",
      "Counting objects:  32% (26/79)\r",
      "Counting objects:  34% (27/79)\r",
      "Counting objects:  35% (28/79)\r",
      "Counting objects:  36% (29/79)\r",
      "Counting objects:  37% (30/79)\r",
      "Counting objects:  39% (31/79)\r",
      "Counting objects:  40% (32/79)\r",
      "Counting objects:  41% (33/79)\r",
      "Counting objects:  43% (34/79)\r",
      "Counting objects:  44% (35/79)\r",
      "Counting objects:  45% (36/79)\r",
      "Counting objects:  46% (37/79)\r",
      "Counting objects:  48% (38/79)\r",
      "Counting objects:  49% (39/79)\r",
      "Counting objects:  50% (40/79)\r",
      "Counting objects:  51% (41/79)\r",
      "Counting objects:  53% (42/79)\r",
      "Counting objects:  54% (43/79)\r",
      "Counting objects:  55% (44/79)\r",
      "Counting objects:  56% (45/79)\r",
      "Counting objects:  58% (46/79)\r",
      "Counting objects:  59% (47/79)\r",
      "Counting objects:  60% (48/79)\r",
      "Counting objects:  62% (49/79)\r",
      "Counting objects:  63% (50/79)\r",
      "Counting objects:  64% (51/79)\r",
      "Counting objects:  65% (52/79)\r",
      "Counting objects:  67% (53/79)\r",
      "Counting objects:  68% (54/79)\r",
      "Counting objects:  69% (55/79)\r",
      "Counting objects:  70% (56/79)\r",
      "Counting objects:  72% (57/79)\r",
      "Counting objects:  73% (58/79)\r",
      "Counting objects:  74% (59/79)\r",
      "Counting objects:  75% (60/79)\r",
      "Counting objects:  77% (61/79)\r",
      "Counting objects:  78% (62/79)\r",
      "Counting objects:  79% (63/79)\r",
      "Counting objects:  81% (64/79)\r",
      "Counting objects:  82% (65/79)\r",
      "Counting objects:  83% (66/79)\r",
      "Counting objects:  84% (67/79)\r",
      "Counting objects:  86% (68/79)\r",
      "Counting objects:  87% (69/79)\r",
      "Counting objects:  88% (70/79)\r",
      "Counting objects:  89% (71/79)\r",
      "Counting objects:  91% (72/79)\r",
      "Counting objects:  92% (73/79)\r",
      "Counting objects:  93% (74/79)\r",
      "Counting objects:  94% (75/79)\r",
      "Counting objects:  96% (76/79)\r",
      "Counting objects:  97% (77/79)\r",
      "Counting objects:  98% (78/79)\r",
      "Counting objects: 100% (79/79)\r",
      "Counting objects: 100% (79/79), done.\n",
      "Delta compression using up to 2 threads\n",
      "Compressing objects:   2% (1/35)\r",
      "Compressing objects:   5% (2/35)\r",
      "Compressing objects:   8% (3/35)\r",
      "Compressing objects:  11% (4/35)\r",
      "Compressing objects:  14% (5/35)\r",
      "Compressing objects:  17% (6/35)\r",
      "Compressing objects:  20% (7/35)\r",
      "Compressing objects:  22% (8/35)\r",
      "Compressing objects:  25% (9/35)\r",
      "Compressing objects:  28% (10/35)\r",
      "Compressing objects:  31% (11/35)\r",
      "Compressing objects:  34% (12/35)\r",
      "Compressing objects:  37% (13/35)\r",
      "Compressing objects:  40% (14/35)\r",
      "Compressing objects:  42% (15/35)\r",
      "Compressing objects:  45% (16/35)\r",
      "Compressing objects:  48% (17/35)\r",
      "Compressing objects:  51% (18/35)\r",
      "Compressing objects:  54% (19/35)\r",
      "Compressing objects:  57% (20/35)\r",
      "Compressing objects:  60% (21/35)\r",
      "Compressing objects:  62% (22/35)\r",
      "Compressing objects:  65% (23/35)\r",
      "Compressing objects:  68% (24/35)\r",
      "Compressing objects:  71% (25/35)\r",
      "Compressing objects:  74% (26/35)\r",
      "Compressing objects:  77% (27/35)\r",
      "Compressing objects:  80% (28/35)\r",
      "Compressing objects:  82% (29/35)\r",
      "Compressing objects:  85% (30/35)\r",
      "Compressing objects:  88% (31/35)\r",
      "Compressing objects:  91% (32/35)\r",
      "Compressing objects:  94% (33/35)\r",
      "Compressing objects:  97% (34/35)\r",
      "Compressing objects: 100% (35/35)\r",
      "Compressing objects: 100% (35/35), done.\n"
     ]
    },
    {
     "name": "stdout",
     "output_type": "stream",
     "text": [
      "Writing objects:   2% (1/44)\r",
      "Writing objects:   4% (2/44)\r",
      "Writing objects:   6% (3/44)\r",
      "Writing objects:   9% (4/44)\r",
      "Writing objects:  11% (5/44)\r",
      "Writing objects:  13% (6/44)\r",
      "Writing objects:  15% (7/44)\r",
      "Writing objects:  18% (8/44)\r",
      "Writing objects:  20% (9/44)\r",
      "Writing objects:  22% (10/44)\r",
      "Writing objects:  25% (11/44)\r",
      "Writing objects:  27% (12/44)\r",
      "Writing objects:  29% (13/44)\r",
      "Writing objects:  31% (14/44)\r",
      "Writing objects:  34% (15/44)\r",
      "Writing objects:  36% (16/44)\r",
      "Writing objects:  38% (17/44)\r",
      "Writing objects:  40% (18/44)\r",
      "Writing objects:  43% (19/44)\r",
      "Writing objects:  45% (20/44)\r",
      "Writing objects:  47% (21/44)\r",
      "Writing objects:  50% (22/44)\r",
      "Writing objects:  52% (23/44)\r",
      "Writing objects:  54% (24/44)\r",
      "Writing objects:  56% (25/44)\r",
      "Writing objects:  59% (26/44)\r",
      "Writing objects:  61% (27/44)\r",
      "Writing objects:  63% (28/44)\r",
      "Writing objects:  65% (29/44)\r",
      "Writing objects:  68% (30/44)\r",
      "Writing objects:  70% (31/44)\r",
      "Writing objects:  72% (32/44)\r",
      "Writing objects:  75% (33/44)\r",
      "Writing objects:  77% (34/44)\r",
      "Writing objects:  79% (35/44)\r",
      "Writing objects:  81% (36/44)\r",
      "Writing objects:  84% (37/44)\r",
      "Writing objects:  86% (38/44)\r",
      "Writing objects:  88% (39/44)\r",
      "Writing objects:  90% (40/44)\r",
      "Writing objects:  93% (41/44)\r",
      "Writing objects:  95% (42/44)\r",
      "Writing objects:  97% (43/44)\r",
      "Writing objects: 100% (44/44)\r",
      "Writing objects: 100% (44/44), 702.28 KiB | 4.56 MiB/s, done.\n",
      "Total 44 (delta 24), reused 0 (delta 0)\n"
     ]
    },
    {
     "name": "stdout",
     "output_type": "stream",
     "text": [
      "remote: Resolving deltas:   0% (0/24)\u001b[K\r",
      "remote: Resolving deltas:   4% (1/24)\u001b[K\r",
      "remote: Resolving deltas:   8% (2/24)\u001b[K\r",
      "remote: Resolving deltas:  12% (3/24)\u001b[K\r",
      "remote: Resolving deltas:  16% (4/24)\u001b[K\r",
      "remote: Resolving deltas:  20% (5/24)\u001b[K\r",
      "remote: Resolving deltas:  25% (6/24)\u001b[K\r",
      "remote: Resolving deltas:  29% (7/24)\u001b[K\r",
      "remote: Resolving deltas:  33% (8/24)\u001b[K\r",
      "remote: Resolving deltas:  37% (9/24)\u001b[K\r",
      "remote: Resolving deltas:  41% (10/24)\u001b[K\r",
      "remote: Resolving deltas:  45% (11/24)\u001b[K\r",
      "remote: Resolving deltas:  50% (12/24)\u001b[K\r",
      "remote: Resolving deltas:  54% (13/24)\u001b[K\r",
      "remote: Resolving deltas:  58% (14/24)\u001b[K\r",
      "remote: Resolving deltas:  62% (15/24)\u001b[K\r",
      "remote: Resolving deltas:  66% (16/24)\u001b[K\r",
      "remote: Resolving deltas:  70% (17/24)\u001b[K\r",
      "remote: Resolving deltas:  75% (18/24)\u001b[K\r",
      "remote: Resolving deltas:  79% (19/24)\u001b[K\r",
      "remote: Resolving deltas:  83% (20/24)\u001b[K\r",
      "remote: Resolving deltas:  87% (21/24)\u001b[K\r",
      "remote: Resolving deltas:  91% (22/24)\u001b[K\r",
      "remote: Resolving deltas:  95% (23/24)\u001b[K\r",
      "remote: Resolving deltas: 100% (24/24)\u001b[K\r",
      "remote: Resolving deltas: 100% (24/24), completed with 23 local objects.\u001b[K\n"
     ]
    },
    {
     "name": "stdout",
     "output_type": "stream",
     "text": [
      "To https://github.com/jetech-trading/jetech-trading.github.io.git\n",
      "   4355dbf..1a6e7d9  main -> main\n",
      "Branch 'main' set up to track remote branch 'main' from 'origin'.\n"
     ]
    }
   ],
   "source": [
    "\n",
    "!git config user.email 'xile803@likelion.org'\n",
    "!git config user.name 'jetech-trading'\n",
    "!git add .\n",
    "!git commit -m \"update from windows\"\n",
    "!git push -u origin main"
   ]
  },
  {
   "cell_type": "code",
   "execution_count": 4,
   "metadata": {
    "ExecuteTime": {
     "end_time": "2023-06-06T15:24:20.601443Z",
     "start_time": "2023-06-06T15:24:20.447076Z"
    }
   },
   "outputs": [
    {
     "name": "stdout",
     "output_type": "stream",
     "text": [
      "jetech-trading\n"
     ]
    }
   ],
   "source": [
    "!git config user.name"
   ]
  },
  {
   "cell_type": "code",
   "execution_count": 5,
   "metadata": {
    "ExecuteTime": {
     "end_time": "2023-06-06T15:24:25.607288Z",
     "start_time": "2023-06-06T15:24:25.451632Z"
    },
    "collapsed": false
   },
   "outputs": [],
   "source": [
    "!git config user.password"
   ]
  },
  {
   "cell_type": "code",
   "execution_count": null,
   "metadata": {
    "collapsed": false
   },
   "outputs": [],
   "source": []
  }
 ],
 "metadata": {
  "kernelspec": {
   "display_name": "tf",
   "language": "python",
   "name": "python3"
  },
  "language_info": {
   "codemirror_mode": {
    "name": "ipython",
    "version": 3
   },
   "file_extension": ".py",
   "mimetype": "text/x-python",
   "name": "python",
   "nbconvert_exporter": "python",
   "pygments_lexer": "ipython3",
   "version": "3.10.12"
  }
 },
 "nbformat": 4,
 "nbformat_minor": 2
}