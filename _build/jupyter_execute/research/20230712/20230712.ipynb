{
 "cells": [
  {
   "cell_type": "markdown",
   "metadata": {
    "id": "bOnMYCfUbK9p"
   },
   "source": [
    "# 20230712 slide test\n",
    "\n",
    "## test title\n",
    "\n",
    "### test title 3"
   ]
  },
  {
   "cell_type": "code",
   "execution_count": 1,
   "metadata": {
    "colab": {
     "base_uri": "https://localhost:8080/"
    },
    "executionInfo": {
     "elapsed": 6,
     "status": "ok",
     "timestamp": 1689172075766,
     "user": {
      "displayName": "Jerry",
      "userId": "05552495483792684673"
     },
     "user_tz": -540
    },
    "id": "Zjl4-niHbB-T",
    "outputId": "e8ddb1b0-ef1d-4ce8-eb79-bd1d51e801ad"
   },
   "outputs": [
    {
     "name": "stdout",
     "output_type": "stream",
     "text": [
      "Hello World\n"
     ]
    }
   ],
   "source": [
    "print('Hello World')"
   ]
  },
  {
   "cell_type": "code",
   "execution_count": null,
   "metadata": {
    "id": "mMLKIR_qgEDV"
   },
   "outputs": [],
   "source": []
  }
 ],
 "metadata": {
  "colab": {
   "authorship_tag": "ABX9TyNw/8ASbUprxB1whJW45Dht",
   "provenance": []
  },
  "kernelspec": {
   "display_name": "Python 3",
   "name": "python3"
  },
  "language_info": {
   "codemirror_mode": {
    "name": "ipython",
    "version": 3
   },
   "file_extension": ".py",
   "mimetype": "text/x-python",
   "name": "python",
   "nbconvert_exporter": "python",
   "pygments_lexer": "ipython3",
   "version": "3.10.12"
  }
 },
 "nbformat": 4,
 "nbformat_minor": 0
}