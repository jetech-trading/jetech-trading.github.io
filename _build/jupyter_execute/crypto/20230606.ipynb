{
 "cells": [
  {
   "attachments": {},
   "cell_type": "markdown",
   "metadata": {},
   "source": [
    "# 2023.06.06 market test"
   ]
  },
  {
   "cell_type": "code",
   "execution_count": 1,
   "metadata": {},
   "outputs": [],
   "source": [
    "import pandas as pd\n",
    "import numpy as np\n",
    "\n",
    "df = pd.DataFrame(np.random.randn(10, 4), columns=list('ABCD'))"
   ]
  },
  {
   "cell_type": "code",
   "execution_count": 2,
   "metadata": {},
   "outputs": [
    {
     "data": {
      "text/html": [
       "<div>\n",
       "<style scoped>\n",
       "    .dataframe tbody tr th:only-of-type {\n",
       "        vertical-align: middle;\n",
       "    }\n",
       "\n",
       "    .dataframe tbody tr th {\n",
       "        vertical-align: top;\n",
       "    }\n",
       "\n",
       "    .dataframe thead th {\n",
       "        text-align: right;\n",
       "    }\n",
       "</style>\n",
       "<table border=\"1\" class=\"dataframe\">\n",
       "  <thead>\n",
       "    <tr style=\"text-align: right;\">\n",
       "      <th></th>\n",
       "      <th>A</th>\n",
       "      <th>B</th>\n",
       "      <th>C</th>\n",
       "      <th>D</th>\n",
       "    </tr>\n",
       "  </thead>\n",
       "  <tbody>\n",
       "    <tr>\n",
       "      <th>0</th>\n",
       "      <td>-0.831111</td>\n",
       "      <td>-0.264363</td>\n",
       "      <td>-1.152167</td>\n",
       "      <td>-0.728081</td>\n",
       "    </tr>\n",
       "    <tr>\n",
       "      <th>1</th>\n",
       "      <td>2.327186</td>\n",
       "      <td>0.479238</td>\n",
       "      <td>-1.195436</td>\n",
       "      <td>0.700837</td>\n",
       "    </tr>\n",
       "    <tr>\n",
       "      <th>2</th>\n",
       "      <td>-0.042572</td>\n",
       "      <td>0.906805</td>\n",
       "      <td>1.393343</td>\n",
       "      <td>1.006904</td>\n",
       "    </tr>\n",
       "    <tr>\n",
       "      <th>3</th>\n",
       "      <td>3.302880</td>\n",
       "      <td>-0.249932</td>\n",
       "      <td>2.074083</td>\n",
       "      <td>1.079226</td>\n",
       "    </tr>\n",
       "    <tr>\n",
       "      <th>4</th>\n",
       "      <td>0.985454</td>\n",
       "      <td>-0.472192</td>\n",
       "      <td>-1.184145</td>\n",
       "      <td>-0.376365</td>\n",
       "    </tr>\n",
       "    <tr>\n",
       "      <th>5</th>\n",
       "      <td>-1.276070</td>\n",
       "      <td>0.927503</td>\n",
       "      <td>-1.681861</td>\n",
       "      <td>0.860701</td>\n",
       "    </tr>\n",
       "    <tr>\n",
       "      <th>6</th>\n",
       "      <td>0.735467</td>\n",
       "      <td>0.884710</td>\n",
       "      <td>-0.101773</td>\n",
       "      <td>-1.054972</td>\n",
       "    </tr>\n",
       "    <tr>\n",
       "      <th>7</th>\n",
       "      <td>0.347758</td>\n",
       "      <td>-0.664247</td>\n",
       "      <td>0.595316</td>\n",
       "      <td>-0.032794</td>\n",
       "    </tr>\n",
       "    <tr>\n",
       "      <th>8</th>\n",
       "      <td>0.367956</td>\n",
       "      <td>0.067377</td>\n",
       "      <td>0.975180</td>\n",
       "      <td>0.522244</td>\n",
       "    </tr>\n",
       "    <tr>\n",
       "      <th>9</th>\n",
       "      <td>-0.080836</td>\n",
       "      <td>-0.849944</td>\n",
       "      <td>-1.182696</td>\n",
       "      <td>-0.332385</td>\n",
       "    </tr>\n",
       "  </tbody>\n",
       "</table>\n",
       "</div>"
      ],
      "text/plain": [
       "          A         B         C         D\n",
       "0 -0.831111 -0.264363 -1.152167 -0.728081\n",
       "1  2.327186  0.479238 -1.195436  0.700837\n",
       "2 -0.042572  0.906805  1.393343  1.006904\n",
       "3  3.302880 -0.249932  2.074083  1.079226\n",
       "4  0.985454 -0.472192 -1.184145 -0.376365\n",
       "5 -1.276070  0.927503 -1.681861  0.860701\n",
       "6  0.735467  0.884710 -0.101773 -1.054972\n",
       "7  0.347758 -0.664247  0.595316 -0.032794\n",
       "8  0.367956  0.067377  0.975180  0.522244\n",
       "9 -0.080836 -0.849944 -1.182696 -0.332385"
      ]
     },
     "execution_count": 2,
     "metadata": {},
     "output_type": "execute_result"
    }
   ],
   "source": [
    "df"
   ]
  },
  {
   "cell_type": "code",
   "execution_count": null,
   "metadata": {},
   "outputs": [],
   "source": []
  }
 ],
 "metadata": {
  "kernelspec": {
   "display_name": "tf",
   "language": "python",
   "name": "python3"
  },
  "language_info": {
   "codemirror_mode": {
    "name": "ipython",
    "version": 3
   },
   "file_extension": ".py",
   "mimetype": "text/x-python",
   "name": "python",
   "nbconvert_exporter": "python",
   "pygments_lexer": "ipython3",
   "version": "3.9.15"
  }
 },
 "nbformat": 4,
 "nbformat_minor": 2
}