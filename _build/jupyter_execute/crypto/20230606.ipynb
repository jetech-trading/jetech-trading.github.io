{
 "cells": [
  {
   "attachments": {},
   "cell_type": "markdown",
   "metadata": {},
   "source": [
    "# 2023.06.06 market test"
   ]
  },
  {
   "cell_type": "code",
   "execution_count": 1,
   "metadata": {},
   "outputs": [],
   "source": [
    "import pandas as pd\n",
    "import numpy as np\n",
    "\n",
    "df = pd.DataFrame(np.random.randn(10, 4), columns=list('ABCD'))"
   ]
  },
  {
   "cell_type": "code",
   "execution_count": 2,
   "metadata": {},
   "outputs": [
    {
     "data": {
      "text/html": [
       "<div>\n",
       "<style scoped>\n",
       "    .dataframe tbody tr th:only-of-type {\n",
       "        vertical-align: middle;\n",
       "    }\n",
       "\n",
       "    .dataframe tbody tr th {\n",
       "        vertical-align: top;\n",
       "    }\n",
       "\n",
       "    .dataframe thead th {\n",
       "        text-align: right;\n",
       "    }\n",
       "</style>\n",
       "<table border=\"1\" class=\"dataframe\">\n",
       "  <thead>\n",
       "    <tr style=\"text-align: right;\">\n",
       "      <th></th>\n",
       "      <th>A</th>\n",
       "      <th>B</th>\n",
       "      <th>C</th>\n",
       "      <th>D</th>\n",
       "    </tr>\n",
       "  </thead>\n",
       "  <tbody>\n",
       "    <tr>\n",
       "      <th>0</th>\n",
       "      <td>0.473601</td>\n",
       "      <td>0.772466</td>\n",
       "      <td>0.181149</td>\n",
       "      <td>-1.027599</td>\n",
       "    </tr>\n",
       "    <tr>\n",
       "      <th>1</th>\n",
       "      <td>-1.238932</td>\n",
       "      <td>-0.854547</td>\n",
       "      <td>0.541835</td>\n",
       "      <td>-0.426039</td>\n",
       "    </tr>\n",
       "    <tr>\n",
       "      <th>2</th>\n",
       "      <td>1.466426</td>\n",
       "      <td>-0.710935</td>\n",
       "      <td>0.072162</td>\n",
       "      <td>1.486018</td>\n",
       "    </tr>\n",
       "    <tr>\n",
       "      <th>3</th>\n",
       "      <td>0.362795</td>\n",
       "      <td>-0.101119</td>\n",
       "      <td>-0.572019</td>\n",
       "      <td>2.266926</td>\n",
       "    </tr>\n",
       "    <tr>\n",
       "      <th>4</th>\n",
       "      <td>-1.750931</td>\n",
       "      <td>0.122802</td>\n",
       "      <td>-0.901692</td>\n",
       "      <td>-1.234119</td>\n",
       "    </tr>\n",
       "    <tr>\n",
       "      <th>5</th>\n",
       "      <td>-0.168320</td>\n",
       "      <td>-0.339526</td>\n",
       "      <td>0.424331</td>\n",
       "      <td>1.290855</td>\n",
       "    </tr>\n",
       "    <tr>\n",
       "      <th>6</th>\n",
       "      <td>-0.092774</td>\n",
       "      <td>-0.825453</td>\n",
       "      <td>-0.442528</td>\n",
       "      <td>-0.939040</td>\n",
       "    </tr>\n",
       "    <tr>\n",
       "      <th>7</th>\n",
       "      <td>0.650986</td>\n",
       "      <td>-0.874487</td>\n",
       "      <td>0.131657</td>\n",
       "      <td>0.590708</td>\n",
       "    </tr>\n",
       "    <tr>\n",
       "      <th>8</th>\n",
       "      <td>1.329320</td>\n",
       "      <td>-0.166827</td>\n",
       "      <td>0.831284</td>\n",
       "      <td>0.664825</td>\n",
       "    </tr>\n",
       "    <tr>\n",
       "      <th>9</th>\n",
       "      <td>1.178046</td>\n",
       "      <td>-0.194900</td>\n",
       "      <td>0.024647</td>\n",
       "      <td>0.109472</td>\n",
       "    </tr>\n",
       "  </tbody>\n",
       "</table>\n",
       "</div>"
      ],
      "text/plain": [
       "          A         B         C         D\n",
       "0  0.473601  0.772466  0.181149 -1.027599\n",
       "1 -1.238932 -0.854547  0.541835 -0.426039\n",
       "2  1.466426 -0.710935  0.072162  1.486018\n",
       "3  0.362795 -0.101119 -0.572019  2.266926\n",
       "4 -1.750931  0.122802 -0.901692 -1.234119\n",
       "5 -0.168320 -0.339526  0.424331  1.290855\n",
       "6 -0.092774 -0.825453 -0.442528 -0.939040\n",
       "7  0.650986 -0.874487  0.131657  0.590708\n",
       "8  1.329320 -0.166827  0.831284  0.664825\n",
       "9  1.178046 -0.194900  0.024647  0.109472"
      ]
     },
     "execution_count": 2,
     "metadata": {},
     "output_type": "execute_result"
    }
   ],
   "source": [
    "df"
   ]
  },
  {
   "cell_type": "code",
   "execution_count": null,
   "metadata": {},
   "outputs": [],
   "source": []
  }
 ],
 "metadata": {
  "kernelspec": {
   "display_name": "tf",
   "language": "python",
   "name": "python3"
  },
  "language_info": {
   "codemirror_mode": {
    "name": "ipython",
    "version": 3
   },
   "file_extension": ".py",
   "mimetype": "text/x-python",
   "name": "python",
   "nbconvert_exporter": "python",
   "pygments_lexer": "ipython3",
   "version": "3.9.16"
  }
 },
 "nbformat": 4,
 "nbformat_minor": 2
}