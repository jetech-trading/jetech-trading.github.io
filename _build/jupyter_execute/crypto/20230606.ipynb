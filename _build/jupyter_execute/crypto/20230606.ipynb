{
 "cells": [
  {
   "attachments": {},
   "cell_type": "markdown",
   "metadata": {},
   "source": [
    "# 2023.06.06 market test"
   ]
  },
  {
   "cell_type": "code",
   "execution_count": 1,
   "metadata": {},
   "outputs": [],
   "source": [
    "import pandas as pd\n",
    "import numpy as np\n",
    "\n",
    "df = pd.DataFrame(np.random.randn(10, 4), columns=list('ABCD'))"
   ]
  },
  {
   "cell_type": "code",
   "execution_count": 2,
   "metadata": {},
   "outputs": [
    {
     "data": {
      "text/html": [
       "<div>\n",
       "<style scoped>\n",
       "    .dataframe tbody tr th:only-of-type {\n",
       "        vertical-align: middle;\n",
       "    }\n",
       "\n",
       "    .dataframe tbody tr th {\n",
       "        vertical-align: top;\n",
       "    }\n",
       "\n",
       "    .dataframe thead th {\n",
       "        text-align: right;\n",
       "    }\n",
       "</style>\n",
       "<table border=\"1\" class=\"dataframe\">\n",
       "  <thead>\n",
       "    <tr style=\"text-align: right;\">\n",
       "      <th></th>\n",
       "      <th>A</th>\n",
       "      <th>B</th>\n",
       "      <th>C</th>\n",
       "      <th>D</th>\n",
       "    </tr>\n",
       "  </thead>\n",
       "  <tbody>\n",
       "    <tr>\n",
       "      <th>0</th>\n",
       "      <td>-0.024965</td>\n",
       "      <td>0.922649</td>\n",
       "      <td>0.088545</td>\n",
       "      <td>2.449521</td>\n",
       "    </tr>\n",
       "    <tr>\n",
       "      <th>1</th>\n",
       "      <td>-1.018685</td>\n",
       "      <td>-1.483038</td>\n",
       "      <td>-1.587044</td>\n",
       "      <td>0.348515</td>\n",
       "    </tr>\n",
       "    <tr>\n",
       "      <th>2</th>\n",
       "      <td>0.623005</td>\n",
       "      <td>-0.419872</td>\n",
       "      <td>0.545277</td>\n",
       "      <td>-1.365981</td>\n",
       "    </tr>\n",
       "    <tr>\n",
       "      <th>3</th>\n",
       "      <td>-0.618291</td>\n",
       "      <td>0.429091</td>\n",
       "      <td>1.296309</td>\n",
       "      <td>0.656668</td>\n",
       "    </tr>\n",
       "    <tr>\n",
       "      <th>4</th>\n",
       "      <td>0.076140</td>\n",
       "      <td>0.023783</td>\n",
       "      <td>-0.754964</td>\n",
       "      <td>0.353717</td>\n",
       "    </tr>\n",
       "    <tr>\n",
       "      <th>5</th>\n",
       "      <td>0.099701</td>\n",
       "      <td>-0.590879</td>\n",
       "      <td>-1.172978</td>\n",
       "      <td>-0.128286</td>\n",
       "    </tr>\n",
       "    <tr>\n",
       "      <th>6</th>\n",
       "      <td>0.483256</td>\n",
       "      <td>-1.838408</td>\n",
       "      <td>-0.115070</td>\n",
       "      <td>-0.448370</td>\n",
       "    </tr>\n",
       "    <tr>\n",
       "      <th>7</th>\n",
       "      <td>1.397017</td>\n",
       "      <td>1.543851</td>\n",
       "      <td>-1.863602</td>\n",
       "      <td>0.903252</td>\n",
       "    </tr>\n",
       "    <tr>\n",
       "      <th>8</th>\n",
       "      <td>-0.326532</td>\n",
       "      <td>-0.504526</td>\n",
       "      <td>0.450038</td>\n",
       "      <td>0.186986</td>\n",
       "    </tr>\n",
       "    <tr>\n",
       "      <th>9</th>\n",
       "      <td>1.380400</td>\n",
       "      <td>-1.680212</td>\n",
       "      <td>1.222087</td>\n",
       "      <td>1.447390</td>\n",
       "    </tr>\n",
       "  </tbody>\n",
       "</table>\n",
       "</div>"
      ],
      "text/plain": [
       "          A         B         C         D\n",
       "0 -0.024965  0.922649  0.088545  2.449521\n",
       "1 -1.018685 -1.483038 -1.587044  0.348515\n",
       "2  0.623005 -0.419872  0.545277 -1.365981\n",
       "3 -0.618291  0.429091  1.296309  0.656668\n",
       "4  0.076140  0.023783 -0.754964  0.353717\n",
       "5  0.099701 -0.590879 -1.172978 -0.128286\n",
       "6  0.483256 -1.838408 -0.115070 -0.448370\n",
       "7  1.397017  1.543851 -1.863602  0.903252\n",
       "8 -0.326532 -0.504526  0.450038  0.186986\n",
       "9  1.380400 -1.680212  1.222087  1.447390"
      ]
     },
     "execution_count": 2,
     "metadata": {},
     "output_type": "execute_result"
    }
   ],
   "source": [
    "df"
   ]
  },
  {
   "cell_type": "code",
   "execution_count": null,
   "metadata": {},
   "outputs": [],
   "source": []
  }
 ],
 "metadata": {
  "kernelspec": {
   "display_name": "tf",
   "language": "python",
   "name": "python3"
  },
  "language_info": {
   "codemirror_mode": {
    "name": "ipython",
    "version": 3
   },
   "file_extension": ".py",
   "mimetype": "text/x-python",
   "name": "python",
   "nbconvert_exporter": "python",
   "pygments_lexer": "ipython3",
   "version": "3.9.16"
  }
 },
 "nbformat": 4,
 "nbformat_minor": 2
}