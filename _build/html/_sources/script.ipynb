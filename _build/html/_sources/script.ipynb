{
 "cells": [
  {
   "cell_type": "code",
   "execution_count": 9,
   "metadata": {},
   "outputs": [],
   "source": [
    "!jupyter-book build ./\n",
    "\n",
    "!ghp-import -n -p -f _build/html"
   ]
  },
  {
   "cell_type": "code",
   "execution_count": 5,
   "metadata": {},
   "outputs": [
    {
     "name": "stderr",
     "output_type": "stream",
     "text": [
      "warning: in the working copy of '_build/html/_sources/notebooks.ipynb', LF will be replaced by CRLF the next time Git touches it\n",
      "warning: in the working copy of '_build/html/_sources/script.ipynb', LF will be replaced by CRLF the next time Git touches it\n",
      "warning: in the working copy of '_build/jupyter_execute/markdown-notebooks.ipynb', LF will be replaced by CRLF the next time Git touches it\n",
      "warning: in the working copy of '_build/jupyter_execute/notebooks.ipynb', LF will be replaced by CRLF the next time Git touches it\n",
      "warning: in the working copy of '_build/jupyter_execute/research/Untitled.ipynb', LF will be replaced by CRLF the next time Git touches it\n",
      "warning: in the working copy of '_build/jupyter_execute/script.ipynb', LF will be replaced by CRLF the next time Git touches it\n",
      "warning: in the working copy of 'notebooks.ipynb', LF will be replaced by CRLF the next time Git touches it\n",
      "warning: in the working copy of 'script.ipynb', LF will be replaced by CRLF the next time Git touches it\n"
     ]
    },
    {
     "name": "stdout",
     "output_type": "stream",
     "text": [
      "[main 746e86d] update from windows\n",
      " 27 files changed, 634 insertions(+), 562 deletions(-)\n"
     ]
    },
    {
     "name": "stderr",
     "output_type": "stream",
     "text": [
      "remote: Resolving deltas:   0% (0/51)        \n",
      "remote: Resolving deltas:   1% (1/51)        \n",
      "remote: Resolving deltas:   3% (2/51)        \n",
      "remote: Resolving deltas:   5% (3/51)        \n",
      "remote: Resolving deltas:   7% (4/51)        \n",
      "remote: Resolving deltas:   9% (5/51)        \n",
      "remote: Resolving deltas:  11% (6/51)        \n",
      "remote: Resolving deltas:  13% (7/51)        \n",
      "remote: Resolving deltas:  15% (8/51)        \n",
      "remote: Resolving deltas:  17% (9/51)        \n",
      "remote: Resolving deltas:  19% (10/51)        \n",
      "remote: Resolving deltas:  21% (11/51)        \n",
      "remote: Resolving deltas:  23% (12/51)        \n",
      "remote: Resolving deltas:  25% (13/51)        \n",
      "remote: Resolving deltas:  27% (14/51)        \n",
      "remote: Resolving deltas:  29% (15/51)        \n",
      "remote: Resolving deltas:  31% (16/51)        \n",
      "remote: Resolving deltas:  33% (17/51)        \n",
      "remote: Resolving deltas:  35% (18/51)        \n",
      "remote: Resolving deltas:  37% (19/51)        \n",
      "remote: Resolving deltas:  39% (20/51)        \n",
      "remote: Resolving deltas:  41% (21/51)        \n",
      "remote: Resolving deltas:  43% (22/51)        \n",
      "remote: Resolving deltas:  45% (23/51)        \n",
      "remote: Resolving deltas:  47% (24/51)        \n",
      "remote: Resolving deltas:  49% (25/51)        \n",
      "remote: Resolving deltas:  50% (26/51)        \n",
      "remote: Resolving deltas:  52% (27/51)        \n",
      "remote: Resolving deltas:  54% (28/51)        \n",
      "remote: Resolving deltas:  56% (29/51)        \n",
      "remote: Resolving deltas:  58% (30/51)        \n",
      "remote: Resolving deltas:  60% (31/51)        \n",
      "remote: Resolving deltas:  62% (32/51)        \n",
      "remote: Resolving deltas:  64% (33/51)        \n",
      "remote: Resolving deltas:  66% (34/51)        \n",
      "remote: Resolving deltas:  68% (35/51)        \n",
      "remote: Resolving deltas:  70% (36/51)        \n",
      "remote: Resolving deltas:  72% (37/51)        \n",
      "remote: Resolving deltas:  74% (38/51)        \n",
      "remote: Resolving deltas:  76% (39/51)        \n",
      "remote: Resolving deltas:  78% (40/51)        \n",
      "remote: Resolving deltas:  80% (41/51)        \n",
      "remote: Resolving deltas:  82% (42/51)        \n",
      "remote: Resolving deltas:  84% (43/51)        \n",
      "remote: Resolving deltas:  86% (44/51)        \n",
      "remote: Resolving deltas:  88% (45/51)        \n",
      "remote: Resolving deltas:  90% (46/51)        \n",
      "remote: Resolving deltas:  92% (47/51)        \n",
      "remote: Resolving deltas:  94% (48/51)        \n",
      "remote: Resolving deltas:  96% (49/51)        \n",
      "remote: Resolving deltas:  98% (50/51)        \n",
      "remote: Resolving deltas: 100% (51/51)        \n",
      "remote: Resolving deltas: 100% (51/51), completed with 19 local objects.        \n",
      "remote: error: GH006: Protected branch update failed for refs/heads/main.        \n",
      "remote: error: At least 1 approving review is required by reviewers with write access.        \n",
      "To https://github.com/jetech-trading/jetech-trading.github.io.git\n",
      " ! [remote rejected] main -> main (protected branch hook declined)\n",
      "error: failed to push some refs to 'https://github.com/jetech-trading/jetech-trading.github.io.git'\n"
     ]
    }
   ],
   "source": [
    "!git config --global user.email 'xile803@likelion.org'\n",
    "!git config user.email 'xile803@likelion.org'\n",
    "!git config --global user.name 'jetech-trading'\n",
    "!git config user.name 'jetech-trading'\n",
    "!git add .\n",
    "!git commit -m \"update from windows\"\n",
    "!git push -u origin main"
   ]
  }
 ],
 "metadata": {
  "kernelspec": {
   "display_name": "tf",
   "language": "python",
   "name": "python3"
  },
  "language_info": {
   "codemirror_mode": {
    "name": "ipython",
    "version": 3
   },
   "file_extension": ".py",
   "mimetype": "text/x-python",
   "name": "python",
   "nbconvert_exporter": "python",
   "pygments_lexer": "ipython3",
   "version": "3.9.16"
  },
  "orig_nbformat": 4
 },
 "nbformat": 4,
 "nbformat_minor": 2
}
