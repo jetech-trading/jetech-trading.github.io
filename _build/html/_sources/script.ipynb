{
 "cells": [
  {
   "cell_type": "code",
   "execution_count": 15,
   "metadata": {},
   "outputs": [],
   "source": [
    "!jupyter-book build ./\n"
   ]
  },
  {
   "cell_type": "code",
   "execution_count": null,
   "metadata": {},
   "outputs": [],
   "source": [
    "\n",
    "!ghp-import -n -p -f _build/html"
   ]
  },
  {
   "cell_type": "code",
   "execution_count": null,
   "metadata": {},
   "outputs": [
    {
     "name": "stderr",
     "output_type": "stream",
     "text": [
      "warning: in the working copy of '_build/html/_sources/script.ipynb', LF will be replaced by CRLF the next time Git touches it\n",
      "warning: in the working copy of '_build/jupyter_execute/script.ipynb', LF will be replaced by CRLF the next time Git touches it\n",
      "warning: in the working copy of 'script.ipynb', LF will be replaced by CRLF the next time Git touches it\n"
     ]
    },
    {
     "name": "stdout",
     "output_type": "stream",
     "text": [
      "[main bda4b39] update from windows\n",
      " 20 files changed, 359 insertions(+), 512 deletions(-)\n",
      "branch 'main' set up to track 'origin/main'.\n"
     ]
    },
    {
     "name": "stderr",
     "output_type": "stream",
     "text": [
      "remote: Resolving deltas:   0% (0/23)        \n",
      "remote: Resolving deltas:   4% (1/23)        \n",
      "remote: Resolving deltas:   8% (2/23)        \n",
      "remote: Resolving deltas:  13% (3/23)        \n",
      "remote: Resolving deltas:  17% (4/23)        \n",
      "remote: Resolving deltas:  21% (5/23)        \n",
      "remote: Resolving deltas:  26% (6/23)        \n",
      "remote: Resolving deltas:  30% (7/23)        \n",
      "remote: Resolving deltas:  34% (8/23)        \n",
      "remote: Resolving deltas:  39% (9/23)        \n",
      "remote: Resolving deltas:  43% (10/23)        \n",
      "remote: Resolving deltas:  47% (11/23)        \n",
      "remote: Resolving deltas:  52% (12/23)        \n",
      "remote: Resolving deltas:  56% (13/23)        \n",
      "remote: Resolving deltas:  60% (14/23)        \n",
      "remote: Resolving deltas:  65% (15/23)        \n",
      "remote: Resolving deltas:  69% (16/23)        \n",
      "remote: Resolving deltas:  73% (17/23)        \n",
      "remote: Resolving deltas:  78% (18/23)        \n",
      "remote: Resolving deltas:  82% (19/23)        \n",
      "remote: Resolving deltas:  86% (20/23)        \n",
      "remote: Resolving deltas:  91% (21/23)        \n",
      "remote: Resolving deltas:  95% (22/23)        \n",
      "remote: Resolving deltas: 100% (23/23)        \n",
      "remote: Resolving deltas: 100% (23/23), completed with 22 local objects.        \n",
      "To https://github.com/jetech-trading/jetech-trading.github.io.git\n",
      "   746e86d..bda4b39  main -> main\n"
     ]
    }
   ],
   "source": [
    "!git config --global user.email 'xile803@likelion.org'\n",
    "!git config user.email 'xile803@likelion.org'\n",
    "!git config --global user.name 'jetech-trading'\n",
    "!git config user.name 'jetech-trading'\n",
    "!git add .\n",
    "!git commit -m \"update from windows\"\n",
    "!git push -u origin main"
   ]
  },
  {
   "cell_type": "code",
   "execution_count": null,
   "metadata": {},
   "outputs": [],
   "source": []
  }
 ],
 "metadata": {
  "kernelspec": {
   "display_name": "tf",
   "language": "python",
   "name": "python3"
  },
  "language_info": {
   "codemirror_mode": {
    "name": "ipython",
    "version": 3
   },
   "file_extension": ".py",
   "mimetype": "text/x-python",
   "name": "python",
   "nbconvert_exporter": "python",
   "pygments_lexer": "ipython3",
   "version": "3.9.16"
  },
  "orig_nbformat": 4
 },
 "nbformat": 4,
 "nbformat_minor": 2
}
